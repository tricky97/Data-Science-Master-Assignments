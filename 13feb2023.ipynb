{
  "nbformat": 4,
  "nbformat_minor": 0,
  "metadata": {
    "colab": {
      "provenance": []
    },
    "kernelspec": {
      "name": "python3",
      "display_name": "Python 3"
    },
    "language_info": {
      "name": "python"
    }
  },
  "cells": [
    {
      "cell_type": "code",
      "execution_count": null,
      "metadata": {
        "id": "lJ1CQC0huKFK"
      },
      "outputs": [],
      "source": []
    },
    {
      "cell_type": "markdown",
      "source": [
        "Q1. Explain why we have to use the Exception class while creating a Custom Exception."
      ],
      "metadata": {
        "id": "pPT34JWgu9NO"
      }
    },
    {
      "cell_type": "markdown",
      "source": [
        "Base class for all the exceptions is Exception class. so when we need any customisation in the base exception then we create a custom exception.\n",
        "We inherit the exception class in the custom exception. \n",
        "In Python, we can define custom exceptions by creating a new class that is derived from the built-in Exception class.\n",
        "We can further customize this class to accept other arguments as per our needs. So we use Exception class while defining the custom exception.\n"
      ],
      "metadata": {
        "id": "gZ2785LN2FPr"
      }
    },
    {
      "cell_type": "code",
      "source": [
        "class InvalidAgeException(Exception):\n",
        "    \"Raised when the input value is less than 18\"\n",
        "    pass\n",
        "number = 18\n",
        "\n",
        "try:\n",
        "    input_num = int(input(\"Enter a number: \"))\n",
        "    if input_num < number:\n",
        "        raise InvalidAgeException\n",
        "    else:\n",
        "        print(\"Eligible to Vote\")\n",
        "        \n",
        "except InvalidAgeException:\n",
        "    print(\"Exception occurred: Invalid Age\")"
      ],
      "metadata": {
        "colab": {
          "base_uri": "https://localhost:8080/"
        },
        "id": "UhR7Ppm62TyD",
        "outputId": "8bc075b4-6179-4dc1-9a8c-2c5dd5faa7c9"
      },
      "execution_count": 1,
      "outputs": [
        {
          "output_type": "stream",
          "name": "stdout",
          "text": [
            "Enter a number: 18\n",
            "Eligible to Vote\n"
          ]
        }
      ]
    },
    {
      "cell_type": "markdown",
      "source": [
        "In the above example, we have defined the custom exception InvalidAgeException by creating a new class that is derived from the built-in Exception class.\n",
        "\n",
        "Here, when input_num is smaller than 18, this code generates an exception.\n",
        "\n",
        "When an exception occurs, the rest of the code inside the try block is skipped.\n",
        "\n",
        "The except block catches the user-defined InvalidAgeException exception and statements inside the except block are executed.\n",
        "\n",
        "\n",
        "\n"
      ],
      "metadata": {
        "id": "I6RqJjITvOo-"
      }
    },
    {
      "cell_type": "code",
      "source": [],
      "metadata": {
        "id": "QGjU4zfM3zwU"
      },
      "execution_count": null,
      "outputs": []
    },
    {
      "cell_type": "markdown",
      "source": [
        "Q2. Write a python program to print Python Exception Hierarchy."
      ],
      "metadata": {
        "id": "hex8KzvU31mL"
      }
    },
    {
      "cell_type": "code",
      "source": [
        "# import inspect module\n",
        "import inspect\n",
        "  \n",
        "# our treeClass function\n",
        "def treeClass(cls, ind = 0):\n",
        "    \n",
        "      # print name of the class\n",
        "    print ('-' * ind, cls.__name__)\n",
        "      \n",
        "    # iterating through subclasses\n",
        "    for i in cls.__subclasses__():\n",
        "        treeClass(i, ind + 3)\n",
        "  \n",
        "print(\"Hierarchy for Built-in exceptions is : \")\n",
        "  \n",
        "# inspect.getmro() Return a tuple \n",
        "# of class  cls’s base classes.\n",
        "  \n",
        "# building a tree hierarchy \n",
        "inspect.getclasstree(inspect.getmro(BaseException))\n",
        "  \n",
        "# function call\n",
        "treeClass(BaseException)"
      ],
      "metadata": {
        "colab": {
          "base_uri": "https://localhost:8080/"
        },
        "id": "pOgZVqwP3318",
        "outputId": "f2a5e1c5-cb32-4115-f5ed-9a3bf796e7d1"
      },
      "execution_count": 2,
      "outputs": [
        {
          "output_type": "stream",
          "name": "stdout",
          "text": [
            "Hierarchy for Built-in exceptions is : \n",
            " BaseException\n",
            "--- Exception\n",
            "------ TypeError\n",
            "--------- MultipartConversionError\n",
            "--------- FloatOperation\n",
            "--------- UFuncTypeError\n",
            "------------ UFuncTypeError\n",
            "------------ UFuncTypeError\n",
            "------------ UFuncTypeError\n",
            "--------------- UFuncTypeError\n",
            "--------------- UFuncTypeError\n",
            "--------- ConversionError\n",
            "------ StopAsyncIteration\n",
            "------ StopIteration\n",
            "------ ImportError\n",
            "--------- ModuleNotFoundError\n",
            "--------- ZipImportError\n",
            "------ OSError\n",
            "--------- ConnectionError\n",
            "------------ BrokenPipeError\n",
            "------------ ConnectionAbortedError\n",
            "------------ ConnectionRefusedError\n",
            "------------ ConnectionResetError\n",
            "--------------- RemoteDisconnected\n",
            "--------- BlockingIOError\n",
            "--------- ChildProcessError\n",
            "--------- FileExistsError\n",
            "--------- FileNotFoundError\n",
            "------------ ExecutableNotFoundError\n",
            "--------- IsADirectoryError\n",
            "--------- NotADirectoryError\n",
            "--------- InterruptedError\n",
            "------------ InterruptedSystemCall\n",
            "--------- PermissionError\n",
            "--------- ProcessLookupError\n",
            "--------- TimeoutError\n",
            "--------- UnsupportedOperation\n",
            "--------- ItimerError\n",
            "--------- Error\n",
            "------------ SameFileError\n",
            "--------- SpecialFileError\n",
            "--------- ExecError\n",
            "--------- ReadError\n",
            "--------- herror\n",
            "--------- gaierror\n",
            "--------- timeout\n",
            "--------- SSLError\n",
            "------------ SSLCertVerificationError\n",
            "------------ SSLZeroReturnError\n",
            "------------ SSLWantReadError\n",
            "------------ SSLWantWriteError\n",
            "------------ SSLSyscallError\n",
            "------------ SSLEOFError\n",
            "--------- URLError\n",
            "------------ HTTPError\n",
            "------------ ContentTooShortError\n",
            "--------- BadGzipFile\n",
            "--------- ProxyError\n",
            "------------ GeneralProxyError\n",
            "------------ ProxyConnectionError\n",
            "------------ SOCKS5AuthError\n",
            "------------ SOCKS5Error\n",
            "------------ SOCKS4Error\n",
            "------------ HTTPError\n",
            "--------- UnidentifiedImageError\n",
            "------ EOFError\n",
            "--------- IncompleteReadError\n",
            "------ RuntimeError\n",
            "--------- RecursionError\n",
            "--------- NotImplementedError\n",
            "------------ StdinNotImplementedError\n",
            "------------ ZMQVersionError\n",
            "--------- _DeadlockError\n",
            "--------- BrokenBarrierError\n",
            "--------- BrokenExecutor\n",
            "--------- SendfileNotAvailableError\n",
            "--------- TooHardError\n",
            "--------- ExtractionError\n",
            "--------- VariableError\n",
            "------ NameError\n",
            "--------- UnboundLocalError\n",
            "------ AttributeError\n",
            "--------- FrozenInstanceError\n",
            "------ SyntaxError\n",
            "--------- IndentationError\n",
            "------------ TabError\n",
            "--------- ParseError\n",
            "------ LookupError\n",
            "--------- IndexError\n",
            "------------ AxisError\n",
            "------------ OutOfBounds\n",
            "--------- KeyError\n",
            "------------ UnknownBackend\n",
            "------------ NoSuchKernel\n",
            "--------- CodecRegistryError\n",
            "------ ValueError\n",
            "--------- UnicodeError\n",
            "------------ UnicodeEncodeError\n",
            "------------ UnicodeDecodeError\n",
            "------------ UnicodeTranslateError\n",
            "--------- UnsupportedOperation\n",
            "--------- JSONDecodeError\n",
            "--------- Error\n",
            "--------- ClassNotFound\n",
            "--------- SSLCertVerificationError\n",
            "--------- ClipboardEmpty\n",
            "--------- MessageDefect\n",
            "------------ NoBoundaryInMultipartDefect\n",
            "------------ StartBoundaryNotFoundDefect\n",
            "------------ CloseBoundaryNotFoundDefect\n",
            "------------ FirstHeaderLineIsContinuationDefect\n",
            "------------ MisplacedEnvelopeHeaderDefect\n",
            "------------ MissingHeaderBodySeparatorDefect\n",
            "------------ MultipartInvariantViolationDefect\n",
            "------------ InvalidMultipartContentTransferEncodingDefect\n",
            "------------ UndecodableBytesDefect\n",
            "------------ InvalidBase64PaddingDefect\n",
            "------------ InvalidBase64CharactersDefect\n",
            "------------ InvalidBase64LengthDefect\n",
            "------------ HeaderDefect\n",
            "--------------- InvalidHeaderDefect\n",
            "--------------- HeaderMissingRequiredValue\n",
            "--------------- NonPrintableDefect\n",
            "--------------- ObsoleteHeaderDefect\n",
            "--------------- NonASCIILocalPartDefect\n",
            "--------- IllegalMonthError\n",
            "--------- IllegalWeekdayError\n",
            "--------- MacroToEdit\n",
            "--------- ParserError\n",
            "--------- DisabledFunctionError\n",
            "--------- AxisError\n",
            "--------- InvalidVersion\n",
            "--------- DefusedXmlException\n",
            "------------ DTDForbidden\n",
            "------------ EntitiesForbidden\n",
            "------------ ExternalReferenceForbidden\n",
            "------------ NotSupportedError\n",
            "--------- NonIntersectingPathException\n",
            "--------- InvalidFileException\n",
            "--------- InvalidVersion\n",
            "--------- InvalidSpecifier\n",
            "--------- InvalidMarker\n",
            "--------- UndefinedComparison\n",
            "--------- UndefinedEnvironmentName\n",
            "--------- InvalidRequirement\n",
            "------------ RequirementParseError\n",
            "------ AssertionError\n",
            "------ ArithmeticError\n",
            "--------- FloatingPointError\n",
            "--------- OverflowError\n",
            "--------- ZeroDivisionError\n",
            "------------ DivisionByZero\n",
            "------------ DivisionUndefined\n",
            "--------- DecimalException\n",
            "------------ Clamped\n",
            "------------ Rounded\n",
            "--------------- Underflow\n",
            "--------------- Overflow\n",
            "------------ Inexact\n",
            "--------------- Underflow\n",
            "--------------- Overflow\n",
            "------------ Subnormal\n",
            "--------------- Underflow\n",
            "------------ DivisionByZero\n",
            "------------ FloatOperation\n",
            "------------ InvalidOperation\n",
            "--------------- ConversionSyntax\n",
            "--------------- DivisionImpossible\n",
            "--------------- DivisionUndefined\n",
            "--------------- InvalidContext\n",
            "------ SystemError\n",
            "--------- CodecRegistryError\n",
            "------ ReferenceError\n",
            "------ MemoryError\n",
            "--------- MemoryError\n",
            "------ BufferError\n",
            "------ Warning\n",
            "--------- UserWarning\n",
            "------------ GetPassWarning\n",
            "------------ FormatterWarning\n",
            "------------ VisibleDeprecationWarning\n",
            "------------ RankWarning\n",
            "------------ ConversionWarning\n",
            "------------ RankWarning\n",
            "--------- DeprecationWarning\n",
            "------------ ProvisionalWarning\n",
            "------------ ModuleDeprecationWarning\n",
            "------------ MatplotlibDeprecationWarning\n",
            "--------- PendingDeprecationWarning\n",
            "--------- SyntaxWarning\n",
            "--------- RuntimeWarning\n",
            "------------ ProactorSelectorThreadWarning\n",
            "------------ UnknownTimezoneWarning\n",
            "------------ ComplexWarning\n",
            "------------ DecompressionBombWarning\n",
            "------------ PEP440Warning\n",
            "--------- FutureWarning\n",
            "------------ ProvisionalCompleterWarning\n",
            "------------ MaskedArrayFutureWarning\n",
            "--------- ImportWarning\n",
            "--------- UnicodeWarning\n",
            "--------- BytesWarning\n",
            "--------- ResourceWarning\n",
            "--------- DeprecatedTzFormatWarning\n",
            "--------- MathTextWarning\n",
            "--------- PkgResourcesDeprecationWarning\n",
            "------ _OptionError\n",
            "------ error\n",
            "------ Verbose\n",
            "------ Error\n",
            "------ _Error\n",
            "------ SubprocessError\n",
            "--------- CalledProcessError\n",
            "--------- TimeoutExpired\n",
            "------ Error\n",
            "------ TokenError\n",
            "------ StopTokenizing\n",
            "------ error\n",
            "------ LZMAError\n",
            "------ RegistryError\n",
            "------ _GiveupOnFastCopy\n",
            "------ EndOfBlock\n",
            "------ TraitError\n",
            "------ _GiveupOnSendfile\n",
            "------ error\n",
            "------ PickleError\n",
            "--------- PicklingError\n",
            "--------- UnpicklingError\n",
            "------ _Stop\n",
            "------ Empty\n",
            "------ Full\n",
            "------ ArgumentError\n",
            "------ ArgumentTypeError\n",
            "------ ConfigError\n",
            "--------- ConfigLoaderError\n",
            "------------ ArgumentError\n",
            "--------- ConfigFileNotFound\n",
            "------ ConfigurableError\n",
            "--------- MultipleInstanceError\n",
            "------ ApplicationError\n",
            "------ ErrorDuringImport\n",
            "------ BdbQuit\n",
            "------ Restart\n",
            "------ ExceptionPexpect\n",
            "--------- EOF\n",
            "--------- TIMEOUT\n",
            "------ error\n",
            "------ PtyProcessError\n",
            "------ FindCmdError\n",
            "------ HomeDirError\n",
            "------ ProfileDirError\n",
            "------ IPythonCoreError\n",
            "--------- TryNext\n",
            "--------- UsageError\n",
            "--------- StdinNotImplementedError\n",
            "------ InputRejected\n",
            "------ GetoptError\n",
            "------ Incomplete\n",
            "------ OptionError\n",
            "------ ErrorToken\n",
            "------ Error\n",
            "--------- CancelledError\n",
            "--------- TimeoutError\n",
            "--------- InvalidStateError\n",
            "------ TimeoutError\n",
            "------ InvalidStateError\n",
            "------ LimitOverrunError\n",
            "------ QueueEmpty\n",
            "------ QueueFull\n",
            "------ PrefilterError\n",
            "------ AliasError\n",
            "--------- InvalidAliasError\n",
            "------ Error\n",
            "--------- InterfaceError\n",
            "--------- DatabaseError\n",
            "------------ InternalError\n",
            "------------ OperationalError\n",
            "------------ ProgrammingError\n",
            "------------ IntegrityError\n",
            "------------ DataError\n",
            "------------ NotSupportedError\n",
            "------ Warning\n",
            "------ SpaceInInput\n",
            "------ TaskLocalNotSetError\n",
            "------ InvalidStateError\n",
            "------ Return\n",
            "------ NoRunningApplicationError\n",
            "------ ValidationError\n",
            "------ EditReadOnlyBuffer\n",
            "------ _Retry\n",
            "------ DOMException\n",
            "--------- IndexSizeErr\n",
            "--------- DomstringSizeErr\n",
            "--------- HierarchyRequestErr\n",
            "--------- WrongDocumentErr\n",
            "--------- InvalidCharacterErr\n",
            "--------- NoDataAllowedErr\n",
            "--------- NoModificationAllowedErr\n",
            "--------- NotFoundErr\n",
            "--------- NotSupportedErr\n",
            "--------- InuseAttributeErr\n",
            "--------- InvalidStateErr\n",
            "--------- SyntaxErr\n",
            "--------- InvalidModificationErr\n",
            "--------- NamespaceErr\n",
            "--------- InvalidAccessErr\n",
            "--------- ValidationErr\n",
            "------ InvalidLayoutError\n",
            "------ HeightIsUnknownError\n",
            "------ MessageError\n",
            "--------- MessageParseError\n",
            "------------ HeaderParseError\n",
            "------------ BoundaryError\n",
            "--------- MultipartConversionError\n",
            "--------- CharsetError\n",
            "------ Error\n",
            "------ HTTPException\n",
            "--------- NotConnected\n",
            "--------- InvalidURL\n",
            "--------- UnknownProtocol\n",
            "--------- UnknownTransferEncoding\n",
            "--------- UnimplementedFileMode\n",
            "--------- IncompleteRead\n",
            "--------- ImproperConnectionState\n",
            "------------ CannotSendRequest\n",
            "------------ CannotSendHeader\n",
            "------------ ResponseNotReady\n",
            "--------- BadStatusLine\n",
            "------------ RemoteDisconnected\n",
            "--------- LineTooLong\n",
            "------ InteractivelyDefined\n",
            "------ KillEmbedded\n",
            "------ ArgumentError\n",
            "------ ZMQBaseError\n",
            "--------- ZMQError\n",
            "------------ ContextTerminated\n",
            "------------ Again\n",
            "------------ InterruptedSystemCall\n",
            "--------- ZMQBindError\n",
            "--------- NotDone\n",
            "------ NoIPAddresses\n",
            "------ Error\n",
            "--------- NoSectionError\n",
            "--------- DuplicateSectionError\n",
            "--------- DuplicateOptionError\n",
            "--------- NoOptionError\n",
            "--------- InterpolationError\n",
            "------------ InterpolationMissingOptionError\n",
            "------------ InterpolationSyntaxError\n",
            "------------ InterpolationDepthError\n",
            "--------- ParsingError\n",
            "------------ MissingSectionHeaderError\n",
            "------ InvalidPortNumber\n",
            "------ DuplicateKernelError\n",
            "------ error\n",
            "------ ReturnValueIgnoredError\n",
            "------ KeyReuseError\n",
            "------ UnknownKeyError\n",
            "------ LeakedCallbackError\n",
            "------ BadYieldError\n",
            "------ ReturnValueIgnoredError\n",
            "------ Return\n",
            "------ QueueEmpty\n",
            "------ QueueFull\n",
            "------ Error\n",
            "--------- AuthorizationError\n",
            "--------- RuntimeManagementError\n",
            "--------- MessageError\n",
            "------ WidgetException\n",
            "------ JsException\n",
            "------ FormattedTracebackError\n",
            "------ Error\n",
            "--------- NoSuchProcess\n",
            "------------ ZombieProcess\n",
            "--------- AccessDenied\n",
            "--------- TimeoutExpired\n",
            "------ _Ipv6UnsupportedError\n",
            "------ HttpLib2Error\n",
            "--------- HttpLib2ErrorWithResponse\n",
            "------------ RedirectMissingLocation\n",
            "------------ RedirectLimit\n",
            "------------ FailedToDecompressContent\n",
            "------------ UnimplementedDigestAuthOptionError\n",
            "------------ UnimplementedHmacDigestAuthOptionError\n",
            "--------- MalformedHeader\n",
            "--------- RelativeURIError\n",
            "--------- ServerNotFoundError\n",
            "--------- ProxiesUnavailableError\n",
            "------ LinAlgError\n",
            "------ ConverterError\n",
            "--------- ConverterLockError\n",
            "------ MAError\n",
            "--------- MaskError\n",
            "------ ExpatError\n",
            "------ DecompressionBombError\n",
            "------ FFIError\n",
            "------ CDefError\n",
            "------ VerificationError\n",
            "------ VerificationMissing\n",
            "------ PkgConfigError\n",
            "------ ParseBaseException\n",
            "--------- ParseException\n",
            "--------- ParseFatalException\n",
            "------------ ParseSyntaxException\n",
            "------ RecursiveGrammarException\n",
            "------ DuplicateConstraint\n",
            "------ UnsatisfiableConstraint\n",
            "------ UnknownConstraint\n",
            "------ DuplicateEditVariable\n",
            "------ UnknownEditVariable\n",
            "------ BadRequiredStrength\n",
            "------ NonGuiException\n",
            "------ InvalidIndexError\n",
            "------ TerminateTrajectory\n",
            "------ NoFreePortFoundError\n",
            "------ DebuggerInitializationError\n",
            "------ Error\n",
            "--------- ProtocolError\n",
            "--------- ResponseError\n",
            "--------- Fault\n",
            "------ BadZipFile\n",
            "------ LargeZipFile\n",
            "------ ParseBaseException\n",
            "--------- ParseException\n",
            "--------- ParseFatalException\n",
            "------------ ParseSyntaxException\n",
            "------ RecursiveGrammarException\n",
            "------ ResolutionError\n",
            "--------- VersionConflict\n",
            "------------ ContextualVersionConflict\n",
            "--------- DistributionNotFound\n",
            "--------- UnknownExtra\n",
            "------ _Error\n",
            "------ UnableToResolveVariableException\n",
            "------ InvalidTypeInArgsException\n",
            "------ InvalidAgeException\n",
            "--- GeneratorExit\n",
            "--- SystemExit\n",
            "--- KeyboardInterrupt\n",
            "--- CancelledError\n"
          ]
        }
      ]
    },
    {
      "cell_type": "markdown",
      "source": [
        "Q3. What errors are defined in the ArithmeticError class? Explain any two with an example."
      ],
      "metadata": {
        "id": "nghpdBfyD3Wb"
      }
    },
    {
      "cell_type": "markdown",
      "source": [
        "ArithmeticError is the base class for all arithmetic-related errors. To solve ArtithmeticError in Python, use the try-except clause properly. Try and except statement is used to handle exceptions without terminating the program.\n",
        "\n",
        "The ArithmeticError consists of three exceptions.\n",
        "\n",
        "1.ZeroDivisionError\n",
        "\n",
        "2.FloatingPointError\n",
        "\n",
        "3.OverFlowError\n",
        "\n",
        "\n",
        "These three types of errors can be caught by a single exception called the ArithmeticError exception."
      ],
      "metadata": {
        "id": "eXbx4yMmECAi"
      }
    },
    {
      "cell_type": "code",
      "source": [
        "a = 5\n",
        "b = 0\n",
        "\n",
        "try:\n",
        "   c = a/b\n",
        "   print(c)\n",
        "except ArithmeticError as e:\n",
        "   print(\"Arithmetic Error is thrown\")\n",
        "   print(f\"{e}, {e.__class_}\")"
      ],
      "metadata": {
        "colab": {
          "base_uri": "https://localhost:8080/",
          "height": 391
        },
        "id": "By1a05V6DA1v",
        "outputId": "8ac4ffaf-e6c8-4749-e13a-81a1617d0a99"
      },
      "execution_count": 4,
      "outputs": [
        {
          "output_type": "stream",
          "name": "stdout",
          "text": [
            "Arithmetic Error is thrown\n"
          ]
        },
        {
          "output_type": "error",
          "ename": "AttributeError",
          "evalue": "ignored",
          "traceback": [
            "\u001b[0;31m---------------------------------------------------------------------------\u001b[0m",
            "\u001b[0;31mZeroDivisionError\u001b[0m                         Traceback (most recent call last)",
            "\u001b[0;32m<ipython-input-4-cc2878f8e891>\u001b[0m in \u001b[0;36m<module>\u001b[0;34m\u001b[0m\n\u001b[1;32m      4\u001b[0m \u001b[0;32mtry\u001b[0m\u001b[0;34m:\u001b[0m\u001b[0;34m\u001b[0m\u001b[0;34m\u001b[0m\u001b[0m\n\u001b[0;32m----> 5\u001b[0;31m    \u001b[0mc\u001b[0m \u001b[0;34m=\u001b[0m \u001b[0ma\u001b[0m\u001b[0;34m/\u001b[0m\u001b[0mb\u001b[0m\u001b[0;34m\u001b[0m\u001b[0;34m\u001b[0m\u001b[0m\n\u001b[0m\u001b[1;32m      6\u001b[0m    \u001b[0mprint\u001b[0m\u001b[0;34m(\u001b[0m\u001b[0mc\u001b[0m\u001b[0;34m)\u001b[0m\u001b[0;34m\u001b[0m\u001b[0;34m\u001b[0m\u001b[0m\n",
            "\u001b[0;31mZeroDivisionError\u001b[0m: division by zero",
            "\nDuring handling of the above exception, another exception occurred:\n",
            "\u001b[0;31mAttributeError\u001b[0m                            Traceback (most recent call last)",
            "\u001b[0;32m<ipython-input-4-cc2878f8e891>\u001b[0m in \u001b[0;36m<module>\u001b[0;34m\u001b[0m\n\u001b[1;32m      7\u001b[0m \u001b[0;32mexcept\u001b[0m \u001b[0mArithmeticError\u001b[0m \u001b[0;32mas\u001b[0m \u001b[0me\u001b[0m\u001b[0;34m:\u001b[0m\u001b[0;34m\u001b[0m\u001b[0;34m\u001b[0m\u001b[0m\n\u001b[1;32m      8\u001b[0m    \u001b[0mprint\u001b[0m\u001b[0;34m(\u001b[0m\u001b[0;34m\"Arithmetic Error is thrown\"\u001b[0m\u001b[0;34m)\u001b[0m\u001b[0;34m\u001b[0m\u001b[0;34m\u001b[0m\u001b[0m\n\u001b[0;32m----> 9\u001b[0;31m    \u001b[0mprint\u001b[0m\u001b[0;34m(\u001b[0m\u001b[0;34mf\"{e}, {e.__class_}\"\u001b[0m\u001b[0;34m)\u001b[0m\u001b[0;34m\u001b[0m\u001b[0;34m\u001b[0m\u001b[0m\n\u001b[0m",
            "\u001b[0;31mAttributeError\u001b[0m: 'ZeroDivisionError' object has no attribute '__class_'"
          ]
        }
      ]
    },
    {
      "cell_type": "code",
      "source": [
        "import math\n",
        "\n",
        "print(\"Simple program for showing overflow error\")\n",
        "print(\"\\n\")\n",
        "print(\"The exponential value is\")\n",
        "print(math.exp(1000))"
      ],
      "metadata": {
        "colab": {
          "base_uri": "https://localhost:8080/",
          "height": 270
        },
        "id": "aA5l9RrEEodG",
        "outputId": "bc036f62-4c80-453d-b75c-2a1a29df4732"
      },
      "execution_count": 6,
      "outputs": [
        {
          "output_type": "stream",
          "name": "stdout",
          "text": [
            "Simple program for showing overflow error\n",
            "\n",
            "\n",
            "The exponential value is\n"
          ]
        },
        {
          "output_type": "error",
          "ename": "OverflowError",
          "evalue": "ignored",
          "traceback": [
            "\u001b[0;31m---------------------------------------------------------------------------\u001b[0m",
            "\u001b[0;31mOverflowError\u001b[0m                             Traceback (most recent call last)",
            "\u001b[0;32m<ipython-input-6-f3be0a8f8f66>\u001b[0m in \u001b[0;36m<module>\u001b[0;34m\u001b[0m\n\u001b[1;32m      4\u001b[0m \u001b[0mprint\u001b[0m\u001b[0;34m(\u001b[0m\u001b[0;34m\"\\n\"\u001b[0m\u001b[0;34m)\u001b[0m\u001b[0;34m\u001b[0m\u001b[0;34m\u001b[0m\u001b[0m\n\u001b[1;32m      5\u001b[0m \u001b[0mprint\u001b[0m\u001b[0;34m(\u001b[0m\u001b[0;34m\"The exponential value is\"\u001b[0m\u001b[0;34m)\u001b[0m\u001b[0;34m\u001b[0m\u001b[0;34m\u001b[0m\u001b[0m\n\u001b[0;32m----> 6\u001b[0;31m \u001b[0mprint\u001b[0m\u001b[0;34m(\u001b[0m\u001b[0mmath\u001b[0m\u001b[0;34m.\u001b[0m\u001b[0mexp\u001b[0m\u001b[0;34m(\u001b[0m\u001b[0;36m1000\u001b[0m\u001b[0;34m)\u001b[0m\u001b[0;34m)\u001b[0m\u001b[0;34m\u001b[0m\u001b[0;34m\u001b[0m\u001b[0m\n\u001b[0m",
            "\u001b[0;31mOverflowError\u001b[0m: math range error"
          ]
        }
      ]
    },
    {
      "cell_type": "code",
      "source": [],
      "metadata": {
        "id": "7PfPzJWsFk3W"
      },
      "execution_count": null,
      "outputs": []
    },
    {
      "cell_type": "markdown",
      "source": [
        "Q4. Why LookupError class is used? Explain with an example KeyError and IndexError."
      ],
      "metadata": {
        "id": "-nN5sxToF6Va"
      }
    },
    {
      "cell_type": "markdown",
      "source": [
        "The LookupError exception in Python forms the base class for all exceptions that are raised when an index or a key is not found for a sequence or dictionary respectively.\n",
        "\n",
        "You can use LookupError exception class to handle both IndexError and KeyError exception classes."
      ],
      "metadata": {
        "id": "kzXdFnT3F9HD"
      }
    },
    {
      "cell_type": "code",
      "source": [
        "x = [1, 2, 3, 4]\n",
        "try:\n",
        "    print(x[10])\n",
        "except LookupError as e:\n",
        "    print(f\"{e}, {e.__class__}\")"
      ],
      "metadata": {
        "colab": {
          "base_uri": "https://localhost:8080/"
        },
        "id": "I2ZPrnjMF642",
        "outputId": "8db05d04-9759-4cdd-9ea0-6085ec9a4f2f"
      },
      "execution_count": 7,
      "outputs": [
        {
          "output_type": "stream",
          "name": "stdout",
          "text": [
            "list index out of range, <class 'IndexError'>\n"
          ]
        }
      ]
    },
    {
      "cell_type": "code",
      "source": [
        "pylenin_info = {'name': 'Lenin Mishra',\n",
        "                'age': 28,\n",
        "                'language': 'Python'}\n",
        "user_input = input('What do you want to learn about Pylenin==> ')\n",
        "\n",
        "try:\n",
        "    print(f'{user_input} is {pylenin_info[user_input]}')\n",
        "except LookupError as e:\n",
        "    print(f'{e}, {e.__class__}')\n",
        "    "
      ],
      "metadata": {
        "colab": {
          "base_uri": "https://localhost:8080/"
        },
        "id": "8NLD-r7GIWGp",
        "outputId": "4053ffbd-21f4-4211-d65c-fdeb032a0a47"
      },
      "execution_count": 9,
      "outputs": [
        {
          "output_type": "stream",
          "name": "stdout",
          "text": [
            "What do you want to learn about Pylenin==> class\n",
            "'class', <class 'KeyError'>\n"
          ]
        }
      ]
    },
    {
      "cell_type": "markdown",
      "source": [
        "We can use LookupError exception class to handle both IndexError and KeyError exception classes."
      ],
      "metadata": {
        "id": "VfAbd3thIofn"
      }
    },
    {
      "cell_type": "code",
      "source": [],
      "metadata": {
        "id": "j5HCKhGjIqot"
      },
      "execution_count": null,
      "outputs": []
    },
    {
      "cell_type": "markdown",
      "source": [
        "Q5. Explain ImportError. What is ModuleNotFoundError?"
      ],
      "metadata": {
        "id": "jTy2bqPjI86I"
      }
    },
    {
      "cell_type": "markdown",
      "source": [
        "In Python, to make or to allow the module contents available to the program we use import statements. Therefore when importing any module and there is any trouble in importing modules to the program then there is a chance of ImportError occurrence.\n",
        "\n",
        "\n",
        " **\n",
        "ModuleNotFoundError**:  No module named in Python occurs when:\n",
        "\n",
        "1.The name of the module is incorrect\n",
        "\n",
        "2.The path of the module is incorrect\n",
        "\n",
        "3.The Library is not installed\n",
        "\n",
        "4.The module is unsupported"
      ],
      "metadata": {
        "id": "MIQlVaSTI_l5"
      }
    },
    {
      "cell_type": "markdown",
      "source": [],
      "metadata": {
        "id": "aHtx0bkaJvmC"
      }
    },
    {
      "cell_type": "code",
      "source": [],
      "metadata": {
        "id": "NHO36-pOI9ai"
      },
      "execution_count": null,
      "outputs": []
    },
    {
      "cell_type": "markdown",
      "source": [
        "Q6. List down some best practices for exception handling in python. "
      ],
      "metadata": {
        "id": "aN1yEyQcJxFm"
      }
    },
    {
      "cell_type": "code",
      "source": [
        "#use always a specific exception\n",
        "try :\n",
        "    10/0\n",
        "except Exception as e :\n",
        "    print(e)"
      ],
      "metadata": {
        "colab": {
          "base_uri": "https://localhost:8080/"
        },
        "id": "KMmrPaEfJw61",
        "outputId": "03b8080b-7e0f-4fc6-a348-71b74d01a0aa"
      },
      "execution_count": 10,
      "outputs": [
        {
          "output_type": "stream",
          "name": "stdout",
          "text": [
            "division by zero\n"
          ]
        }
      ]
    },
    {
      "cell_type": "code",
      "source": [
        "try :\n",
        "    10/0\n",
        "except ZeroDivisionError as e :\n",
        "    print(e)"
      ],
      "metadata": {
        "colab": {
          "base_uri": "https://localhost:8080/"
        },
        "id": "9jizAT9IKaCv",
        "outputId": "08955336-2362-474a-92a5-2781c2e7391f"
      },
      "execution_count": 11,
      "outputs": [
        {
          "output_type": "stream",
          "name": "stdout",
          "text": [
            "division by zero\n"
          ]
        }
      ]
    },
    {
      "cell_type": "code",
      "source": [
        "#print always a valid msg\n",
        "try :\n",
        "    10/0\n",
        "except ZeroDivisionError as e :\n",
        "    print(\"this is my zero dedision error i am handling \" , e)"
      ],
      "metadata": {
        "colab": {
          "base_uri": "https://localhost:8080/"
        },
        "id": "JqO93MoHKb94",
        "outputId": "6d447411-5667-465c-f3b7-da148f2a2351"
      },
      "execution_count": 12,
      "outputs": [
        {
          "output_type": "stream",
          "name": "stdout",
          "text": [
            "this is my zero dedision error i am handling  division by zero\n"
          ]
        }
      ]
    },
    {
      "cell_type": "code",
      "source": [
        "#always try to log \n",
        "import logging\n",
        "logging.basicConfig(filename = \"error.log\" , level = logging.ERROR)\n",
        "try :\n",
        "    10/0\n",
        "except ZeroDivisionError as e :\n",
        "    logging.error(\"this is my zero dedision error i am handling {} \".format( e))"
      ],
      "metadata": {
        "colab": {
          "base_uri": "https://localhost:8080/"
        },
        "id": "4Sc3_CR_Ke2-",
        "outputId": "d8afe448-1b2a-4b85-97db-77b56156f5c5"
      },
      "execution_count": 13,
      "outputs": [
        {
          "output_type": "stream",
          "name": "stderr",
          "text": [
            "ERROR:root:this is my zero dedision error i am handling division by zero \n"
          ]
        }
      ]
    },
    {
      "cell_type": "code",
      "source": [
        "#always avoid to write a multiple exception handling \n",
        "try :\n",
        "    10/0\n",
        "except FileNotFoundError as e : \n",
        "    logging.error(\"this is my file not found  {} \".format( e))\n",
        "except AttributeError as e : \n",
        "    logging.error(\"this is my attribute erro  {} \".format( e))\n",
        "except ZeroDivisionError as e :\n",
        "    logging.error(\"this is my zero dedision error i am handling {} \".format( e))"
      ],
      "metadata": {
        "colab": {
          "base_uri": "https://localhost:8080/"
        },
        "id": "rVkmxDFjKhQC",
        "outputId": "4763bc82-64e9-4b5b-e3f3-13811347892f"
      },
      "execution_count": 14,
      "outputs": [
        {
          "output_type": "stream",
          "name": "stderr",
          "text": [
            "ERROR:root:this is my zero dedision error i am handling division by zero \n"
          ]
        }
      ]
    },
    {
      "cell_type": "code",
      "source": [
        "#prepare a proper documnetation"
      ],
      "metadata": {
        "id": "bLBAaolWKjcj"
      },
      "execution_count": 15,
      "outputs": []
    },
    {
      "cell_type": "code",
      "source": [
        "#cleanup all the resources \n",
        "\n",
        "try :\n",
        "    with open(\"test.txt\" , \"w\" ) as f :\n",
        "        f.write(\"thsi is my msg to file \" )\n",
        "except FileNotFoundError as e : \n",
        "     logging.error(\"this is my file not found  {} \".format( e))\n",
        "finally : \n",
        "    f.close()"
      ],
      "metadata": {
        "id": "uOo9R5fdKmkn"
      },
      "execution_count": 16,
      "outputs": []
    },
    {
      "cell_type": "code",
      "source": [],
      "metadata": {
        "id": "ekTS0mxdKnTl"
      },
      "execution_count": null,
      "outputs": []
    }
  ]
}