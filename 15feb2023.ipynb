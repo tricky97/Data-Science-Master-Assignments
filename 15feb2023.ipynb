{
  "nbformat": 4,
  "nbformat_minor": 0,
  "metadata": {
    "colab": {
      "provenance": []
    },
    "kernelspec": {
      "name": "python3",
      "display_name": "Python 3"
    },
    "language_info": {
      "name": "python"
    }
  },
  "cells": [
    {
      "cell_type": "code",
      "execution_count": null,
      "metadata": {
        "id": "MPOO8aEc49VZ"
      },
      "outputs": [],
      "source": []
    },
    {
      "cell_type": "markdown",
      "source": [
        "Q1.What is multiprocessing in python? Why is it useful? "
      ],
      "metadata": {
        "id": "J4x1hBtR576M"
      }
    },
    {
      "cell_type": "markdown",
      "source": [
        "Multiprocessing in Python is a built-in package that allows the system to run multiple processes simultaneously. It will enable the breaking of applications into smaller threads that can run independently.\n",
        "\n",
        "Performing multiple operations for a single processor becomes challenging. As the number of processes keeps increasing, the processor will have to halt the current process and move to the next, to keep them going. Thus, it will have to interrupt each task, thereby hampering the performance.\n",
        "\n",
        "In multiprocessing, the system can divide and assign tasks to different processors."
      ],
      "metadata": {
        "id": "eJi7EH7J6D1R"
      }
    },
    {
      "cell_type": "markdown",
      "source": [
        "Q2. What are the differences between multiprocessing and multithreading?"
      ],
      "metadata": {
        "id": "p4xdTp5Q8EyB"
      }
    },
    {
      "cell_type": "markdown",
      "source": [
        "Multithreading and multiprocessing can both be used to increase the computing power of a system, there are some key differences between these approaches. Here are some of the primary ways these methods differ from one another\n",
        "\n",
        "Multiprocessing uses two or more CPUs to increase computing power, whereas multithreading uses a single process with multiple code segments to increase computing power.\n",
        "\n",
        "Multithreading focuses on generating computing threads from a single process, whereas multiprocessing increases computing power by adding CPUs.\n",
        "\n",
        "Multiprocessing is used to create a more reliable system, whereas multithreading is used to create threads that run parallel to each other.\n",
        "\n",
        "Multithreading is quick to create and requires few resources, whereas multiprocessing requires a significant amount of time and specific resources to create.\n",
        "\n",
        "Multiprocessing executes many processes simultaneously, whereas multithreading executes many threads simultaneously.\n",
        "\n",
        "Multithreading uses a common address space for all the threads, whereas multiprocessing creates a separate address space for each process."
      ],
      "metadata": {
        "id": "VHCIxilq8XnJ"
      }
    },
    {
      "cell_type": "markdown",
      "source": [
        "Q3. Write a python code to create a process using the multiprocessing module."
      ],
      "metadata": {
        "id": "HXKG7b8R82nA"
      }
    },
    {
      "cell_type": "code",
      "source": [
        "import multiprocessing\n",
        "  \n",
        "def print_cube(num):\n",
        "    \"\"\"\n",
        "    function to print cube of given num\n",
        "    \"\"\"\n",
        "    print(\"Cube: {}\".format(num * num * num))\n",
        "  \n",
        "def print_square(num):\n",
        "    \"\"\"\n",
        "    function to print square of given num\n",
        "    \"\"\"\n",
        "    print(\"Square: {}\".format(num * num))\n",
        "  \n",
        "if __name__ == \"__main__\":\n",
        "    # creating processes\n",
        "    p1 = multiprocessing.Process(target=print_square, args=(10, ))\n",
        "    p2 = multiprocessing.Process(target=print_cube, args=(10, ))\n",
        "  \n",
        "    # starting process 1\n",
        "    p1.start()\n",
        "    # starting process 2\n",
        "    p2.start()\n",
        "  \n",
        "    # wait until process 1 is finished\n",
        "    p1.join()\n",
        "    # wait until process 2 is finished\n",
        "    p2.join()\n",
        "  \n",
        "    # both processes finished\n",
        "    print(\"Done!\")"
      ],
      "metadata": {
        "colab": {
          "base_uri": "https://localhost:8080/"
        },
        "id": "jCJ9XbYf9IoI",
        "outputId": "76ea5a90-f753-415d-872a-ecc7c6fd5edd"
      },
      "execution_count": 1,
      "outputs": [
        {
          "output_type": "stream",
          "name": "stdout",
          "text": [
            "Square: 100Cube: 1000\n",
            "\n",
            "Done!\n"
          ]
        }
      ]
    },
    {
      "cell_type": "markdown",
      "source": [
        "Q4. What is a multiprocessing pool in python? Why is it used?"
      ],
      "metadata": {
        "id": "mNx_9qAv95Mw"
      }
    },
    {
      "cell_type": "markdown",
      "source": [
        "Python multiprocessing Pool can be used for parallel execution of a function across multiple input values, distributing the input data across processes (data parallelism). Below is a simple Python multiprocessing Pool example.\n",
        "\n",
        "The Python Multiprocessing Pool class allows you to create and manage process pools in Python.\n",
        "\n",
        "Although the Multiprocessing Pool has been available in Python for a long time, it is not widely used, perhaps because of misunderstandings of the capabilities and limitations of Processes and Threads in Python.\n",
        "\n",
        "Use the multiprocessing. Pool class when you need to execute tasks that may or may not take arguments and may or may not return a result once the tasks are complete. Use the multiprocessing. Pool class when you need to execute different types of ad hoc tasks, such as calling different target task functions."
      ],
      "metadata": {
        "id": "2ukkhBwm99o4"
      }
    },
    {
      "cell_type": "markdown",
      "source": [
        "Q5. How can we create a pool of worker processes in python using the multiprocessing module?"
      ],
      "metadata": {
        "id": "1nllty54-z1Y"
      }
    },
    {
      "cell_type": "code",
      "source": [
        "from multiprocessing import Pool\n",
        "\n",
        "def f(x):\n",
        "    return x*x\n",
        "\n",
        "if __name__ == '__main__':\n",
        "    with Pool(5) as p:\n",
        "        print(p.map(f, [1, 2, 3]))"
      ],
      "metadata": {
        "colab": {
          "base_uri": "https://localhost:8080/"
        },
        "id": "4qKIIp93-1ic",
        "outputId": "037214b2-1e29-41bc-bff7-5d30e2ce3787"
      },
      "execution_count": 2,
      "outputs": [
        {
          "output_type": "stream",
          "name": "stdout",
          "text": [
            "[1, 4, 9]\n"
          ]
        }
      ]
    },
    {
      "cell_type": "markdown",
      "source": [
        "Q6. Write a python program to create 4 processes, each process should print a different number using the \n",
        "multiprocessing module in python."
      ],
      "metadata": {
        "id": "6rDSVNry_xBV"
      }
    },
    {
      "cell_type": "code",
      "source": [
        "import multiprocessing\n",
        "import os\n",
        "  \n",
        "def worker1():\n",
        "    # printing process id\n",
        "    print(\"ID of process running worker1: {}\".format(os.getpid()))\n",
        "  \n",
        "def worker2():\n",
        "    # printing process id\n",
        "    print(\"ID of process running worker2: {}\".format(os.getpid()))\n",
        "  \n",
        "if __name__ == \"__main__\":\n",
        "    # printing main program process id\n",
        "    print(\"ID of main process: {}\".format(os.getpid()))\n",
        "  \n",
        "    # creating processes\n",
        "    p1 = multiprocessing.Process(target=worker1)\n",
        "    p2 = multiprocessing.Process(target=worker2)\n",
        "    p3 = multiprocessing.Process(target=worker1)\n",
        "    p4 = multiprocessing.Process(target=worker2)\n",
        "  \n",
        "    # starting processes\n",
        "    p1.start()\n",
        "    p2.start()\n",
        "    p3.start()\n",
        "    p4.start()\n",
        "  \n",
        "    # process IDs\n",
        "    print(\"ID of process p1: {}\".format(p1.pid))\n",
        "    print(\"ID of process p2: {}\".format(p2.pid))\n",
        "    print(\"ID of process p3: {}\".format(p3.pid))\n",
        "    print(\"ID of process p4: {}\".format(p4.pid))\n",
        "  \n",
        "    # wait until processes are finished\n",
        "    p1.join()\n",
        "    p2.join()\n",
        "    p3.join()\n",
        "    p4.join()\n",
        "  \n",
        "    # both processes finished\n",
        "    print(\"All processes finished execution!\")\n",
        "  \n",
        "    # check if processes are alive\n",
        "    print(\"Process p1 is alive: {}\".format(p1.is_alive()))\n",
        "    print(\"Process p2 is alive: {}\".format(p2.is_alive()))\n",
        "    print(\"Process p2 is alive: {}\".format(p3.is_alive()))\n",
        "    print(\"Process p2 is alive: {}\".format(p4.is_alive()))"
      ],
      "metadata": {
        "colab": {
          "base_uri": "https://localhost:8080/"
        },
        "id": "H1SVHCluBRHO",
        "outputId": "1926e8f0-8618-468a-d9ff-ad4d99fa7653"
      },
      "execution_count": 3,
      "outputs": [
        {
          "output_type": "stream",
          "name": "stdout",
          "text": [
            "ID of main process: 128\n",
            "ID of process running worker1: 5025ID of process running worker2: 5026\n",
            "ID of process running worker1: 5031\n",
            "\n",
            "ID of process running worker2: 5034\n",
            "ID of process p1: 5025\n",
            "ID of process p2: 5026\n",
            "ID of process p3: 5031\n",
            "ID of process p4: 5034\n",
            "All processes finished execution!\n",
            "Process p1 is alive: False\n",
            "Process p2 is alive: False\n",
            "Process p2 is alive: False\n",
            "Process p2 is alive: False\n"
          ]
        }
      ]
    },
    {
      "cell_type": "code",
      "source": [],
      "metadata": {
        "id": "EeEGiDIaBwYh"
      },
      "execution_count": null,
      "outputs": []
    }
  ]
}