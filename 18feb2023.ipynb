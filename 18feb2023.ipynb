{
  "nbformat": 4,
  "nbformat_minor": 0,
  "metadata": {
    "colab": {
      "provenance": []
    },
    "kernelspec": {
      "name": "python3",
      "display_name": "Python 3"
    },
    "language_info": {
      "name": "python"
    }
  },
  "cells": [
    {
      "cell_type": "code",
      "execution_count": null,
      "metadata": {
        "id": "P5DpeCB_8NFF"
      },
      "outputs": [],
      "source": []
    },
    {
      "cell_type": "markdown",
      "source": [
        "Q1. What is an API? Give an example, where an API is used in real life."
      ],
      "metadata": {
        "id": "u8vSGkXL8Pqx"
      }
    },
    {
      "cell_type": "code",
      "source": [],
      "metadata": {
        "id": "y9jF3Hn_8P_I"
      },
      "execution_count": null,
      "outputs": []
    },
    {
      "cell_type": "markdown",
      "source": [
        "An API is the interface that allows two independent software components to exchange information. An API acts as an intermediary between internal software functions and external ones, creating an exchange of information so seamless that it often goes unnoticed by the end user.\n",
        "\n",
        "In practice, an API can be used to connect virtually any processes. Here are a few common examples of APIs:\n",
        "\n",
        "1.Sharing flight information between airlines and travel sites\n",
        "\n",
        "2.Using Google Maps in a rideshare app\n",
        "\n",
        "3.Building chatbots in a messaging service\n",
        "\n",
        "4.Embedding YouTube videos into a webpage"
      ],
      "metadata": {
        "id": "9ZSfyTro8QG3"
      }
    },
    {
      "cell_type": "code",
      "source": [],
      "metadata": {
        "id": "Gp9HPTtr8ghI"
      },
      "execution_count": null,
      "outputs": []
    },
    {
      "cell_type": "markdown",
      "source": [
        "Q2. Give advantages and disadvantages of using API."
      ],
      "metadata": {
        "id": "0aypHNUP8gtJ"
      }
    },
    {
      "cell_type": "code",
      "source": [],
      "metadata": {
        "id": "V8J_NQST8jVO"
      },
      "execution_count": null,
      "outputs": []
    },
    {
      "cell_type": "markdown",
      "source": [
        "Advantages:\n",
        "\n",
        "Applications: Access to APIs ensures more flexibility in information-transfer processes.\n",
        "\n",
        "Reach: APIs let you create layers in apps in order to distribute information to different audiences.\n",
        "\n",
        "Customization: Furthermore, it can serve as a solution to create different experiences for users, letting protocols, functions, and commands be adapted according to specific demands.\n",
        "\n",
        "Efficiency: When you have content that is automatically published and made available on different channels simultaneously, APIs allow for more efficient data distribution.\n",
        "\n",
        "Adaptability: One of the greatest benefits of APIs is the ability it has to adapt to changes through data migration and flexibility of services.\n",
        "\n",
        "Disadvantages of API:\n",
        "\n",
        "Creating API is a very time-consuming process.\n",
        "\n",
        "A fixed scale is necessary.\n",
        "\n",
        "Imprecise boundary delineation.\n",
        "\n",
        "To create API, programming knowledge is necessary.\n",
        "\n",
        "Maintenance cost is very high.\n",
        "\n",
        "It can crash when testing API."
      ],
      "metadata": {
        "id": "KoLm0Tn28jh3"
      }
    },
    {
      "cell_type": "code",
      "source": [],
      "metadata": {
        "id": "N0UjtIDwA8pJ"
      },
      "execution_count": null,
      "outputs": []
    },
    {
      "cell_type": "markdown",
      "source": [
        "Q3. What is a Web API? Differentiate between API and Web API."
      ],
      "metadata": {
        "id": "vSi2bI-9A8wV"
      }
    },
    {
      "cell_type": "code",
      "source": [],
      "metadata": {
        "id": "-qcs8si8A-x3"
      },
      "execution_count": null,
      "outputs": []
    },
    {
      "cell_type": "markdown",
      "source": [
        "API stands for Application Programming Interface. A Web API is an application programming interface for the Web. A Browser API can extend the functionality of a web browser. A Server API can extend the functionality of a web server.\n",
        "\n",
        "Both APIs and web services are technologies that enable the transfer of data between separate software applications. API is an interface that exposes an application's data to outside software, whereas web applications are one type of API with stricter requirements.\n",
        "\n",
        "Web Services:\n",
        "A Web API services are preferable over other services to use with a native application that does not support SOAP but require web services.\n",
        "\n",
        "For creating resource-oriented services, the web API services are the best to choose. By using HTTP or restful service, these services are established.\n",
        "\n",
        "If you want good performance and fast development of services, the web API services are very helpful.\n",
        "\n",
        "For developing light weighted and maintainable web services, web API services are really helpful to develop that service. It supports any text pattern like JSON, XML etc.\n",
        "\n",
        "The devices that have tight bandwidth or having a limitation in bandwidth, then the Web API services are the best for those devices.\n",
        "\n",
        "API:\n",
        "\n",
        "APIs are a simplified way to connect your own infrastructure through cloud-native app development, but they also allow you to share your data with customers and other external users. \n",
        "Public APIs represent unique business value because they can simplify and expand how you connect with your partners, as well as potentially monetize your data (the Google Maps API is a popular example)."
      ],
      "metadata": {
        "id": "cvNSgpzAA-5u"
      }
    },
    {
      "cell_type": "code",
      "source": [],
      "metadata": {
        "id": "mJo3WkWrCo6o"
      },
      "execution_count": null,
      "outputs": []
    },
    {
      "cell_type": "markdown",
      "source": [
        "Q4. Explain REST and SOAP Architecture. Mention shortcomings of SOAP."
      ],
      "metadata": {
        "id": "v4MsF0lZCpR9"
      }
    },
    {
      "cell_type": "code",
      "source": [],
      "metadata": {
        "id": "YV3WssnKCqMV"
      },
      "execution_count": null,
      "outputs": []
    },
    {
      "cell_type": "markdown",
      "source": [
        "SOAP is a protocol whereas REST is an architectural pattern. SOAP uses service interfaces to expose its functionality to client applications while REST uses Uniform Service locators to access to the components on the hardware device. SOAP needs more bandwidth for its usage whereas REST doesn't need much bandwidth.\n",
        "\n",
        "Limitations of Soaps• Soaps do not wash well in hard water and does not form much lather or foam. The calcium magnesium or iron ions of hard water form an insoluble sticky grey coloured precipitate called scum which restricts the cleansing action of soap and makes washing more difficult."
      ],
      "metadata": {
        "id": "L59pyc9wCqjm"
      }
    },
    {
      "cell_type": "code",
      "source": [],
      "metadata": {
        "id": "MkbCWA5QC8hT"
      },
      "execution_count": null,
      "outputs": []
    },
    {
      "cell_type": "markdown",
      "source": [
        "Q5. Differentiate between REST and SOAP."
      ],
      "metadata": {
        "id": "3Yqt8duvC82r"
      }
    },
    {
      "cell_type": "code",
      "source": [],
      "metadata": {
        "id": "49Vrb3BUDAR_"
      },
      "execution_count": null,
      "outputs": []
    },
    {
      "cell_type": "markdown",
      "source": [
        "SOAP:\n",
        "\n",
        "Relies on SOAP (Simple Object Access Protocol)\n",
        "\n",
        "Transports data in standard XML format.\n",
        "\n",
        "Because it is XML based and relies on SOAP, it works with WSDL\n",
        "\n",
        "Works over HTTP, HTTPS, SMTP, XMPP\n",
        "\n",
        "Highly structured/typed\t\n",
        "\n",
        "Designed with large enterprise applications in mind\n",
        "\n",
        "REST:\n",
        "\n",
        "Relies on REST (Representational State Transfer) architecture using HTTP.\n",
        "\n",
        "Generally transports data in JSON.It is based on URI. Because REST follows stateless model, REST does not enforces message format as XML or JSON etc.\n",
        "\n",
        "It works with GET, POST, PUT, DELETE\n",
        "\n",
        "Works over HTTP and HTTPS\n",
        "\n",
        "Less structured -> less bulky data\n",
        "\n",
        "Designed with mobile devices in mind"
      ],
      "metadata": {
        "id": "B8PnCmeRDAeN"
      }
    },
    {
      "cell_type": "code",
      "source": [],
      "metadata": {
        "id": "ynxh8XXBEUdD"
      },
      "execution_count": null,
      "outputs": []
    }
  ]
}