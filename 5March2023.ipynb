{
  "nbformat": 4,
  "nbformat_minor": 0,
  "metadata": {
    "colab": {
      "provenance": []
    },
    "kernelspec": {
      "name": "python3",
      "display_name": "Python 3"
    },
    "language_info": {
      "name": "python"
    }
  },
  "cells": [
    {
      "cell_type": "code",
      "execution_count": null,
      "metadata": {
        "id": "mvAWUQP8dwvv"
      },
      "outputs": [],
      "source": []
    },
    {
      "cell_type": "markdown",
      "source": [
        "Q1. How can you create a Bokeh plot using Python code?\n"
      ],
      "metadata": {
        "id": "oJDzbupJtNSx"
      }
    },
    {
      "cell_type": "code",
      "source": [],
      "metadata": {
        "id": "gcYsGW2ptOGA"
      },
      "execution_count": null,
      "outputs": []
    },
    {
      "cell_type": "markdown",
      "source": [
        "Bokeh is a Python library for creating interactive visualizations and plots in web browsers. Here is an example of how to create a simple line plot using Bokeh in Python:\n",
        "\n"
      ],
      "metadata": {
        "id": "DmQcCv7UtPyv"
      }
    },
    {
      "cell_type": "code",
      "source": [
        "\n",
        "from bokeh.plotting import figure, output_file, show\n",
        "\n",
        "\n",
        "x = [1, 2, 3, 4, 5]\n",
        "y = [6, 7, 2, 4, 5]\n",
        "\n",
        "\n",
        "output_file(\"line.html\")\n",
        "\n",
        "p = figure(title=\"Line plot example\", x_axis_label='x', y_axis_label='y')\n",
        "\n",
        "p.line(x, y, legend_label=\"Line\", line_width=2)\n",
        "\n",
        "show(p)\n"
      ],
      "metadata": {
        "id": "mJCY4aJftZsA"
      },
      "execution_count": 3,
      "outputs": []
    },
    {
      "cell_type": "markdown",
      "source": [],
      "metadata": {
        "id": "OhQ7jDywtpje"
      }
    },
    {
      "cell_type": "markdown",
      "source": [
        "This code creates a line plot with the data defined in x and y. The plot is rendered in an HTML file called \"line.html\". The figure() function is used to create a new plot object with a title and axis labels. The line() function is used to add a line renderer to the plot, with a legend label and line thickness specified. Finally, the show() function is used to display the plot in the web browser."
      ],
      "metadata": {
        "id": "-D26BzDvtfMh"
      }
    },
    {
      "cell_type": "code",
      "source": [],
      "metadata": {
        "id": "ShoRqL6Etfxf"
      },
      "execution_count": null,
      "outputs": []
    },
    {
      "cell_type": "markdown",
      "source": [
        "Q2. What are glyphs in Bokeh, and how can you add them to a Bokeh plot? Explain with an example."
      ],
      "metadata": {
        "id": "x_b-KohvtqcJ"
      }
    },
    {
      "cell_type": "code",
      "source": [],
      "metadata": {
        "id": "TAl_VrZmtrCv"
      },
      "execution_count": null,
      "outputs": []
    },
    {
      "cell_type": "markdown",
      "source": [
        "In Bokeh, glyphs are visual shapes that can be added to a plot to represent data points or other visual elements. Glyphs can be used to create scatter plots, line plots, and other types of visualizations.\n",
        "\n",
        "Here is an example of how to add a circle glyph to a Bokeh plot in Python:\n",
        "\n"
      ],
      "metadata": {
        "id": "db0srpbMtrdv"
      }
    },
    {
      "cell_type": "code",
      "source": [
        "\n",
        "from bokeh.plotting import figure, output_file, show\n",
        "\n",
        "\n",
        "x = [1, 2, 3, 4, 5]\n",
        "y = [6, 7, 2, 4, 5]\n",
        "\n",
        "\n",
        "output_file(\"circle.html\")\n",
        "\n",
        "\n",
        "p = figure(title=\"Circle glyph example\", x_axis_label='x', y_axis_label='y')\n",
        "\n",
        "\n",
        "p.circle(x, y, size=15, color='navy', alpha=0.5)\n",
        "\n",
        "\n",
        "\n",
        "show(p)\n"
      ],
      "metadata": {
        "id": "XPBwcmdzt0TR"
      },
      "execution_count": 6,
      "outputs": []
    },
    {
      "cell_type": "markdown",
      "source": [
        "In this example, the circle() glyph is added to the plot using the p.circle() method. The x and y data are passed as the first two arguments. The size parameter controls the size of the circle glyphs, the color parameter controls the color, and the alpha parameter controls the transparency.\n",
        "\n",
        "Other glyph types that can be used in Bokeh include rectangles, lines, text, and more. Each glyph type has its own specific set of properties that can be customized to create a wide variety of visualizations.\n",
        "\n",
        "\n",
        "\n",
        "\n",
        "\n",
        "\n"
      ],
      "metadata": {
        "id": "vlysMDf8t5_A"
      }
    },
    {
      "cell_type": "code",
      "source": [],
      "metadata": {
        "id": "2636rQ5Vt6oQ"
      },
      "execution_count": null,
      "outputs": []
    },
    {
      "cell_type": "markdown",
      "source": [
        "Q3. How can you customize the appearance of a Bokeh plot, including the axes, title, and legend?"
      ],
      "metadata": {
        "id": "_o79-7c3uP44"
      }
    },
    {
      "cell_type": "markdown",
      "source": [
        "Bokeh allows you to customize the appearance of your plots in a variety of ways, including changing the axes, title, and legend. Here's an example of how to customize these elements:"
      ],
      "metadata": {
        "id": "PVX7FrZeuP_q"
      }
    },
    {
      "cell_type": "code",
      "source": [
        "\n",
        "from bokeh.plotting import figure, output_file, show\n",
        "from bokeh.models import ColumnDataSource\n",
        "from bokeh.palettes import Spectral6\n",
        "from bokeh.transform import factor_cmap\n",
        "\n",
        "\n",
        "fruits = ['Apples', 'Pears', 'Nectarines', 'Plums', 'Grapes', 'Strawberries']\n",
        "counts = [5, 3, 4, 2, 4, 6]\n",
        "\n",
        "\n",
        "output_file(\"fruit.html\")\n",
        "\n",
        "\n",
        "p = figure(title=\"Fruit Counts\", x_axis_label='Fruit', y_axis_label='Count', \n",
        "           x_range=fruits, plot_height=400)\n",
        "\n",
        "\n",
        "source = ColumnDataSource(data=dict(fruits=fruits, counts=counts))\n",
        "p.vbar(x='fruits', top='counts', width=0.9, source=source, \n",
        "       line_color='white', fill_color=factor_cmap('fruits', palette=Spectral6, factors=fruits))\n",
        "\n",
        "\n",
        "p.title.align = 'center'\n",
        "p.title.text_color = 'navy'\n",
        "p.title.text_font_size = '20pt'\n",
        "\n",
        "p.xaxis.major_label_text_font_size = '14pt'\n",
        "p.yaxis.major_label_text_font_size = '14pt'\n",
        "\n",
        "p.xaxis.axis_label_text_font_size = '16pt'\n",
        "p.yaxis.axis_label_text_font_size = '16pt'\n",
        "\n",
        "p.legend.label_text_font_size = '14pt'\n",
        "p.legend.location = 'top_left'\n",
        "\n",
        "\n",
        "show(p)\n"
      ],
      "metadata": {
        "id": "28WdpdEWuXNg"
      },
      "execution_count": 8,
      "outputs": []
    },
    {
      "cell_type": "markdown",
      "source": [
        "In this example, we've created a bar chart of fruit counts, with a title, axis labels, and legend. Here's a breakdown of the code used to customize the appearance of the plot:\n",
        "\n",
        "p.title allows you to access the title of the plot, which can be aligned with p.title.align, set to a specific color with p.title.text_color, and set to a specific font size with p.title.text_font_size.\n",
        "p.xaxis.major_label_text_font_size and p.yaxis.major_label_text_font_size allow you to change the font size of the major tick labels on the x and y axes, respectively.\n",
        "p.xaxis.axis_label_text_font_size and p.yaxis.axis_label_text_font_size allow you to change the font size of the axis labels on the x and y axes, respectively.\n",
        "p.legend.label_text_font_size allows you to change the font size of the legend labels, and p.legend.location allows you to set the location of the legend.\n",
        "There are many other customization options available in Bokeh, including changing the color and style of glyphs, adding annotations, and more."
      ],
      "metadata": {
        "id": "xCx_bQtmuwDU"
      }
    },
    {
      "cell_type": "code",
      "source": [],
      "metadata": {
        "id": "qqiAfOZIuwmt"
      },
      "execution_count": null,
      "outputs": []
    },
    {
      "cell_type": "markdown",
      "source": [
        "Q4. What is a Bokeh server, and how can you use it to create interactive plots that can be updated in \n",
        "real time?"
      ],
      "metadata": {
        "id": "O7bHYN2Ku0Bx"
      }
    },
    {
      "cell_type": "code",
      "source": [],
      "metadata": {
        "id": "KqDl0mxku0qv"
      },
      "execution_count": null,
      "outputs": []
    },
    {
      "cell_type": "markdown",
      "source": [
        "Bokeh server is a Bokeh feature that allows you to create interactive plots that can be updated in real-time as users interact with them. Bokeh server enables the creation of highly interactive and customizable web applications that can be deployed locally or to a web server.\n",
        "\n",
        "To use Bokeh server, you first need to define a Bokeh application, which is a Python function that creates and returns a Bokeh document. The Bokeh document defines the layout and content of the plot, and is used to update the plot in response to user input."
      ],
      "metadata": {
        "id": "Glo3vCMzu84f"
      }
    },
    {
      "cell_type": "code",
      "source": [
        "# Import necessary libraries\n",
        "from bokeh.io import curdoc\n",
        "from bokeh.layouts import column\n",
        "from bokeh.models import ColumnDataSource, Slider\n",
        "from bokeh.plotting import figure\n",
        "\n",
        "# Define the data\n",
        "x = [1, 2, 3, 4, 5]\n",
        "y = [6, 7, 2, 4, 5]\n",
        "size = 10\n",
        "\n",
        "# Create a new plot with a title and axis labels\n",
        "source = ColumnDataSource(data=dict(x=x, y=y, size=[size]*len(x)))\n",
        "p = figure(title=\"Scatter plot\", x_axis_label='x', y_axis_label='y')\n",
        "p.circle('x', 'y', size='size', source=source)\n",
        "\n",
        "# Define a callback function to update the plot\n",
        "def update_size(attrname, old, new):\n",
        "    source.data['size'] = [new]*len(x)\n",
        "\n",
        "# Create a slider widget to control the size of the circles\n",
        "slider = Slider(start=10, end=50, value=size, step=1, title=\"Circle Size\")\n",
        "slider.on_change('value', update_size)\n",
        "\n",
        "# Add the plot and slider widget to the document\n",
        "layout = column(slider, p)\n",
        "curdoc().add_root(layout)\n"
      ],
      "metadata": {
        "id": "D2z5HL1Xu9aV"
      },
      "execution_count": null,
      "outputs": []
    },
    {
      "cell_type": "markdown",
      "source": [
        "In this example, we've defined a Bokeh application that generates a scatter plot with a slider widget that allows the user to control the size of the circles. The update_size() function is called whenever the user changes the slider value, and updates the size column in the ColumnDataSource object that is used to generate the plot. The curdoc().add_root() function adds the layout of the plot and slider widget to the document, which is then served by the Bokeh server.\n",
        "\n",
        "To run the Bokeh server, save the above code to a file named app.py, and run the following command in the terminal:\n",
        "\n",
        "bokeh serve app.py\n"
      ],
      "metadata": {
        "id": "IaQ_MNN5vLQ-"
      }
    },
    {
      "cell_type": "markdown",
      "source": [
        "Q5. How can you embed a Bokeh plot into a web page or dashboard using Flask or Django?"
      ],
      "metadata": {
        "id": "SZoWZfhpvAQG"
      }
    },
    {
      "cell_type": "code",
      "source": [],
      "metadata": {
        "id": "GN4f4VCkvA5V"
      },
      "execution_count": null,
      "outputs": []
    },
    {
      "cell_type": "markdown",
      "source": [
        "Bokeh plots can be easily embedded into web pages or dashboards built with Flask or Django using the bokeh.embed module. Here's a brief overview of the process for both Flask and Django:\n",
        "\n",
        "Embedding a Bokeh plot in a Flask web page:\n",
        "\n",
        "Import the necessary Bokeh modules:\n",
        "\n",
        "python\n",
        "\n",
        "from bokeh.plotting import figure\n",
        "from bokeh.embed import components\n",
        "Create a Bokeh plot:\n",
        "\n",
        "python\n",
        "\n",
        "plot = figure()\n",
        "plot.line([1, 2, 3], [4, 5, 6])\n",
        "Generate the HTML components for the plot:\n",
        "\n",
        "python\n",
        "\n",
        "script, div = components(plot)\n",
        "Pass the script and div components to the Flask template:\n",
        "\n",
        "python\n",
        "\n",
        "return render_template('my_template.html', plot_script=script, plot_div=div)\n",
        "In the Flask template, render the plot using the script and div components:\n",
        "\n",
        "html\n",
        "\n",
        "<div class=\"my-plot\">\n",
        "  {{ plot_div|safe }}\n",
        "  {{ plot_script|safe }}\n",
        "</div>\n",
        "Embedding a Bokeh plot in a Django web page:\n",
        "\n",
        "Import the necessary Bokeh modules:\n",
        "\n",
        "python\n",
        "\n",
        "from bokeh.plotting import figure\n",
        "from bokeh.embed import components\n",
        "Create a Bokeh plot:\n",
        "\n",
        "python\n",
        "\n",
        "plot = figure()\n",
        "plot.line([1, 2, 3], [4, 5, 6])\n",
        "Generate the HTML components for the plot:\n",
        "\n",
        "python\n",
        "\n",
        "script, div = components(plot)\n",
        "Pass the script and div components to the Django view:\n",
        "\n",
        "python\n",
        "\n",
        "context = {'plot_script': script, 'plot_div': div}\n",
        "return render(request, 'my_template.html', context)\n",
        "In the Django template, render the plot using the script and div components:\n",
        "\n",
        "html\n",
        "\n",
        "<div class=\"my-plot\">\n",
        "  {{ plot_div|safe }}\n",
        "  {{ plot_script|safe }}\n",
        "</div>\n",
        "In both cases, the components() function generates the JavaScript and HTML necessary to render the Bokeh plot in the web page. The safe filter is used in the Flask and Django templates to mark the script and div components as safe for rendering, to prevent any unwanted HTML escaping."
      ],
      "metadata": {
        "id": "e4bbHVycvBL2"
      }
    },
    {
      "cell_type": "code",
      "source": [],
      "metadata": {
        "id": "V_fyZAfAvckV"
      },
      "execution_count": null,
      "outputs": []
    }
  ]
}