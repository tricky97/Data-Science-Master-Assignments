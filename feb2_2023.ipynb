{
  "nbformat": 4,
  "nbformat_minor": 0,
  "metadata": {
    "colab": {
      "provenance": []
    },
    "kernelspec": {
      "name": "python3",
      "display_name": "Python 3"
    },
    "language_info": {
      "name": "python"
    }
  },
  "cells": [
    {
      "cell_type": "markdown",
      "source": [
        "## Q1. What are the characteristics of the tuples? Is tuple immutable?"
      ],
      "metadata": {
        "id": "NDKxNhajdv2Z"
      }
    },
    {
      "cell_type": "markdown",
      "source": [
        "Tuples are used to store multiple items in a single variable.\n",
        "Tuple is one of 4 built-in data types in Python used to store collections of data, the other 3 are List, Set, and Dictionary, all with different qualities and usage.\n",
        "A tuple is a collection which is ordered and unchangeable.\n",
        "Tuples are written with round brackets.\n",
        "\n",
        "Tuble are immutable means tuple value are nt change. Hence, tuples are not modifiable in nature."
      ],
      "metadata": {
        "id": "vZ9I4yu9d02G"
      }
    },
    {
      "cell_type": "markdown",
      "source": [
        "## Q2 What are the two tuple methods in python? Give an example of each method. Give a reason why\n",
        "## tuples have only two in-built methods as compared to Lists"
      ],
      "metadata": {
        "id": "DxuJ6g1Wd57W"
      }
    },
    {
      "cell_type": "markdown",
      "source": [
        "## count()\tReturns the number of times a specified value occurs in a tuple\n",
        "## index()\tSearches the tuple for a specified value and returns the position of where it was found"
      ],
      "metadata": {
        "id": "-E_eymg6eCOH"
      }
    },
    {
      "cell_type": "code",
      "source": [
        "thistuple = (1, 3, 7, 8, 7, 5, 4, 6, 8, 5)\n",
        "\n",
        "x = thistuple.count(5)\n",
        "\n",
        "print(x)"
      ],
      "metadata": {
        "colab": {
          "base_uri": "https://localhost:8080/"
        },
        "id": "nWL1rpRTFN7u",
        "outputId": "b0780c81-fc36-4b5c-e378-c8f5fbfbc93e"
      },
      "execution_count": 2,
      "outputs": [
        {
          "output_type": "stream",
          "name": "stdout",
          "text": [
            "2\n"
          ]
        }
      ]
    },
    {
      "cell_type": "code",
      "source": [
        "\n",
        "thistuple = (1, 3, 7, 8, 7, 5, 4, 6, 8, 5)\n",
        "\n",
        "x = thistuple.index(8)\n",
        "\n",
        "print(x)\n"
      ],
      "metadata": {
        "colab": {
          "base_uri": "https://localhost:8080/"
        },
        "id": "Dbr8EwjvFXWK",
        "outputId": "f8a6e801-0a3b-4af2-8e71-2200c6b72fcc"
      },
      "execution_count": 3,
      "outputs": [
        {
          "output_type": "stream",
          "name": "stdout",
          "text": [
            "3\n"
          ]
        }
      ]
    },
    {
      "cell_type": "markdown",
      "source": [
        "Q3   Which collection datatypes in python do not allow duplicate items? Write a code using a set to remove\n",
        "duplicates from the given list."
      ],
      "metadata": {
        "id": "JkQOL8fseTo_"
      }
    },
    {
      "cell_type": "markdown",
      "source": [
        "Set items are unordered, unchangeable, and do not allow duplicate values"
      ],
      "metadata": {
        "id": "2GFyY0c7eYFH"
      }
    },
    {
      "cell_type": "code",
      "source": [
        "List = [1, 1, 1, 2, 1, 3, 1, 4, 2, 1, 2, 2, 2, 3, 2, 4, 3, 1, 3, 2, 3, 3, 3, 4, 4, 1, 4, 2, 4, 3, 4, 4]"
      ],
      "metadata": {
        "id": "aMMwOza_F9or"
      },
      "execution_count": 6,
      "outputs": []
    },
    {
      "cell_type": "markdown",
      "source": [
        "In the above list some data elements are duplicate. so now we have to remove duplicate value. "
      ],
      "metadata": {
        "id": "yvOCnhC7eh92"
      }
    },
    {
      "cell_type": "code",
      "source": [
        "dup_value=set(List)"
      ],
      "metadata": {
        "id": "sJr3PUm2F_UC"
      },
      "execution_count": 7,
      "outputs": []
    },
    {
      "cell_type": "markdown",
      "source": [
        "Now we used the set to remove the duplicate value"
      ],
      "metadata": {
        "id": "Ft2A434AfD7H"
      }
    },
    {
      "cell_type": "code",
      "source": [
        "dup_value"
      ],
      "metadata": {
        "colab": {
          "base_uri": "https://localhost:8080/"
        },
        "id": "fULO2sWIGHG_",
        "outputId": "164e4b62-c19f-4290-f328-26f14887e2f0"
      },
      "execution_count": 8,
      "outputs": [
        {
          "output_type": "execute_result",
          "data": {
            "text/plain": [
              "{1, 2, 3, 4}"
            ]
          },
          "metadata": {},
          "execution_count": 8
        }
      ]
    },
    {
      "cell_type": "markdown",
      "source": [
        "Now we have removed the duplicate values"
      ],
      "metadata": {
        "id": "gVY_PUs5fUxZ"
      }
    },
    {
      "cell_type": "markdown",
      "source": [
        "Q4. Explain the difference between the union() and update() methods for a set. Give an example of\n",
        "each method."
      ],
      "metadata": {
        "id": "mQ1kugS5feqd"
      }
    },
    {
      "cell_type": "markdown",
      "source": [
        "Both set.update() and set.union() perform the union operation. However, set.update() adds all missing elements to the set on which it is called whereas set.union() creates a new set. \n",
        "\n"
      ],
      "metadata": {
        "id": "gREUQXhUfli-"
      }
    },
    {
      "cell_type": "code",
      "source": [
        "s={1,2,3,4,5,6}\n",
        "t={78,58,46,25}\n",
        "\n",
        "a=s.union(t)\n",
        "print(s)\n",
        "print(t)\n",
        "print(a)"
      ],
      "metadata": {
        "colab": {
          "base_uri": "https://localhost:8080/"
        },
        "id": "rdJIFJYegcaW",
        "outputId": "6f85803d-b41c-48b9-bf99-255fc9e3899d"
      },
      "execution_count": 9,
      "outputs": [
        {
          "output_type": "stream",
          "name": "stdout",
          "text": [
            "{1, 2, 3, 4, 5, 6}\n",
            "{46, 25, 58, 78}\n",
            "{1, 2, 3, 4, 5, 6, 46, 78, 25, 58}\n"
          ]
        }
      ]
    },
    {
      "cell_type": "markdown",
      "source": [
        "In the above code , union operation is performed and it doesnot change the original set and it creates a new set."
      ],
      "metadata": {
        "id": "zZjXcJHfiJp1"
      }
    },
    {
      "cell_type": "code",
      "source": [
        "s={1,2,3,4,5,6}\n",
        "t={78,58,46,25}\n",
        "\n",
        "a=s.update(t)\n",
        "print(s)\n",
        "print(t)\n",
        "print(a)"
      ],
      "metadata": {
        "colab": {
          "base_uri": "https://localhost:8080/"
        },
        "id": "sOCqm4asiHUY",
        "outputId": "282df3a6-0f0c-4ca7-cbcc-c0af787ca963"
      },
      "execution_count": 10,
      "outputs": [
        {
          "output_type": "stream",
          "name": "stdout",
          "text": [
            "{1, 2, 3, 4, 5, 6, 46, 78, 25, 58}\n",
            "{46, 25, 58, 78}\n",
            "None\n"
          ]
        }
      ]
    },
    {
      "cell_type": "markdown",
      "source": [
        "In the above code , update operation is performed and it  change the original set and return the orignal changed set.\n",
        "We can't save the results of the update operation to a new set. "
      ],
      "metadata": {
        "id": "v5Ze1amZirxX"
      }
    },
    {
      "cell_type": "markdown",
      "source": [
        "Q5. What is a dictionary? Give an example. Also, state whether a dictionary is ordered or unordered."
      ],
      "metadata": {
        "id": "2J5b9mg0je1e"
      }
    },
    {
      "cell_type": "markdown",
      "source": [
        "Dictionary in Python is a collection of keys values, used to store data values like a map, which, unlike other data types which hold only a single value as an element\n",
        "\n"
      ],
      "metadata": {
        "id": "mjLNPQIQjkh7"
      }
    },
    {
      "cell_type": "code",
      "source": [
        "dict_example={\"Name\":\"Ankit\",\"Surname\":\"Sharma\"} "
      ],
      "metadata": {
        "id": "m6iqEq00k9mu"
      },
      "execution_count": 12,
      "outputs": []
    },
    {
      "cell_type": "markdown",
      "source": [
        "Dictionary are ordered. In Python, a dictionary can be created by placing a sequence of elements within curly {} braces, separated by ‘comma’. Dictionary holds pairs of values, one being the Key and the other corresponding pair element being its Key:value. Values in a dictionary can be of any data type and can be duplicated, whereas keys can’t be repeated and must be immutable. "
      ],
      "metadata": {
        "id": "PrDcHkD1kuwe"
      }
    },
    {
      "cell_type": "code",
      "source": [
        "dict_example[\"Surname\"]"
      ],
      "metadata": {
        "colab": {
          "base_uri": "https://localhost:8080/",
          "height": 36
        },
        "id": "7c-Ckw9wlCcI",
        "outputId": "01813005-72ea-4b93-8d2a-ff7b9b9f6dd9"
      },
      "execution_count": 13,
      "outputs": [
        {
          "output_type": "execute_result",
          "data": {
            "text/plain": [
              "'Sharma'"
            ],
            "application/vnd.google.colaboratory.intrinsic+json": {
              "type": "string"
            }
          },
          "metadata": {},
          "execution_count": 13
        }
      ]
    },
    {
      "cell_type": "markdown",
      "source": [
        "Q6. Can we create a nested dictionary? If so, please give an example by creating a simple one-level \n",
        "nested dictionary."
      ],
      "metadata": {
        "id": "P4V1xzV_lL50"
      }
    },
    {
      "cell_type": "markdown",
      "source": [
        "Nesting Dictionary means putting a dictionary inside another dictionary."
      ],
      "metadata": {
        "id": "uaaKIm5tmSSO"
      }
    },
    {
      "cell_type": "code",
      "source": [
        " nested_dict = { 'dict1': {'key_A': 'value_A'},\n",
        "                'dict2': {'key_B': 'value_B'}}"
      ],
      "metadata": {
        "id": "wezRX344mr6M"
      },
      "execution_count": 14,
      "outputs": []
    },
    {
      "cell_type": "markdown",
      "source": [
        "Q7. Using setdefault() method, create key named topics in the given dictionary and also add the value of \n",
        "the key as this list ['Python', 'Machine Learning’, 'Deep Learning']\n",
        "\n",
        "\n",
        "dict1 = {'language' : 'Python', 'course': 'Data Science Masters'}"
      ],
      "metadata": {
        "id": "xUB7BXYenrJz"
      }
    },
    {
      "cell_type": "code",
      "source": [
        "dict1 = {'language' : 'Python', 'course': 'Data Science Masters'}"
      ],
      "metadata": {
        "id": "YPTgwCCqvPqs"
      },
      "execution_count": 15,
      "outputs": []
    },
    {
      "cell_type": "code",
      "source": [
        "dict1 = {'language' : 'Python', 'course': 'Data Science Masters'}\n",
        "dict1.setdefault('Topics',['Python','Machine Learning', 'Deep Learning'])\n",
        "print(dict1)"
      ],
      "metadata": {
        "id": "_gPGWKeYvnS-",
        "colab": {
          "base_uri": "https://localhost:8080/"
        },
        "outputId": "6f66119b-2365-4420-f108-3bc6a5d8f2a7"
      },
      "execution_count": 16,
      "outputs": [
        {
          "output_type": "stream",
          "name": "stdout",
          "text": [
            "{'language': 'Python', 'course': 'Data Science Masters', 'Topics': ['Python', 'Machine Learning', 'Deep Learning']}\n"
          ]
        }
      ]
    },
    {
      "cell_type": "markdown",
      "source": [
        "Q8. What are the three view objects in dictionaries? Use the three in-built methods in python to display \n",
        "these three view objects for the given dictionary."
      ],
      "metadata": {
        "id": "QZW9Qt26vcwu"
      }
    },
    {
      "cell_type": "markdown",
      "source": [
        "dict1 = {'Sport': 'Cricket' , 'Teams': ['India', 'Australia', 'England', 'South Africa', 'Sri Lanka', 'New Zealand']}"
      ],
      "metadata": {
        "id": "_3EcQ2n60fUM"
      }
    },
    {
      "cell_type": "markdown",
      "source": [
        "Three views in the dictionary as follows:\n",
        "1. keys\n",
        "2.values\n",
        "3. items\n"
      ],
      "metadata": {
        "id": "-o4hQNSq0uQb"
      }
    },
    {
      "cell_type": "code",
      "source": [
        "dict1 = {'Sport': 'Cricket' , 'Teams': ['India', 'Australia', 'England', 'South Africa', 'Sri Lanka', 'New Zealand']}\n",
        "print(dict1.keys())\n",
        "print(dict1.values())\n",
        "print(dict1.items())"
      ],
      "metadata": {
        "colab": {
          "base_uri": "https://localhost:8080/"
        },
        "id": "2kHAy1YJ05g8",
        "outputId": "ad6dee1a-25b3-498b-ca59-691f1476b8cb"
      },
      "execution_count": 18,
      "outputs": [
        {
          "output_type": "stream",
          "name": "stdout",
          "text": [
            "dict_keys(['Sport', 'Teams'])\n",
            "dict_values(['Cricket', ['India', 'Australia', 'England', 'South Africa', 'Sri Lanka', 'New Zealand']])\n",
            "dict_items([('Sport', 'Cricket'), ('Teams', ['India', 'Australia', 'England', 'South Africa', 'Sri Lanka', 'New Zealand'])])\n"
          ]
        }
      ]
    },
    {
      "cell_type": "code",
      "source": [],
      "metadata": {
        "id": "aZssSR4h1Jtn"
      },
      "execution_count": null,
      "outputs": []
    }
  ]
}