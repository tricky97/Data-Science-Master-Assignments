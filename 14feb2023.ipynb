{
  "nbformat": 4,
  "nbformat_minor": 0,
  "metadata": {
    "colab": {
      "provenance": []
    },
    "kernelspec": {
      "name": "python3",
      "display_name": "Python 3"
    },
    "language_info": {
      "name": "python"
    }
  },
  "cells": [
    {
      "cell_type": "code",
      "execution_count": null,
      "metadata": {
        "id": "ztqpWalIG_eG"
      },
      "outputs": [],
      "source": []
    },
    {
      "cell_type": "markdown",
      "source": [
        "\n",
        "Q1. What is multithreading in python? Why is it used? Name the module used to handle threads in python?"
      ],
      "metadata": {
        "id": "_UhZ1zViHCJB"
      }
    },
    {
      "cell_type": "code",
      "source": [],
      "metadata": {
        "id": "5wp9QOykHMJL"
      },
      "execution_count": null,
      "outputs": []
    },
    {
      "cell_type": "markdown",
      "source": [
        "\n",
        "Multithreading is a way of achieving multitasking. In multithreading, the concept of threads is used.\n",
        "\n",
        "Multithreading is a threading technique in Python programming to run multiple threads concurrently by rapidly switching between threads with a CPU help (called context switching).\n",
        "\n",
        "A thread is an entity within a process that can be scheduled for execution. Also, it is the smallest unit of processing that can be performed in an OS (Operating System). In simple words, a thread is a sequence of such instructions within a program that can be executed independently of other code.\n",
        "\n",
        "threading module used to handle threads in python."
      ],
      "metadata": {
        "id": "xxjwlGvuHPxz"
      }
    },
    {
      "cell_type": "code",
      "source": [],
      "metadata": {
        "id": "JbOFhgC2H1Y7"
      },
      "execution_count": null,
      "outputs": []
    },
    {
      "cell_type": "markdown",
      "source": [
        "Q2. Why threading module used? Write the use of the following functions?\n",
        "\n",
        "1 activeCount()\n",
        "\n",
        "2 currentThread()\n",
        "\n",
        "3 enumerate()"
      ],
      "metadata": {
        "id": "aFt8DW7ZH7ez"
      }
    },
    {
      "cell_type": "code",
      "source": [],
      "metadata": {
        "id": "DaRY2TTNIbQ3"
      },
      "execution_count": null,
      "outputs": []
    },
    {
      "cell_type": "markdown",
      "source": [
        "\n",
        "Threading in python is used to run multiple threads (tasks, function calls) at the same time. Note that this does not mean that they are executed on different CPUs. Python threads will NOT make your program faster if it already uses 100 % CPU time. In that case, you probably want to look into parallel programming.\n",
        "\n",
        "activeCount()--\n",
        "\n",
        "is an inbuilt method of the threading module in Python. It is used to return the number of Thread objects that are active at any instant. \n",
        "\n",
        " currentThread()--\n",
        "\n",
        "is an inbuilt method of the threading module in Python. It is used to return the current Thread object, which corresponds to the caller's thread of control.\n",
        "\n",
        "enumerate()\n",
        "\n",
        "The enumerate function in Python converts a data collection object into an enumerate object. Enumerate returns an object that contains a counter as a key for each value within an object, making items within the collection easier to access."
      ],
      "metadata": {
        "id": "X1oBjHN3IcAT"
      }
    },
    {
      "cell_type": "code",
      "source": [],
      "metadata": {
        "id": "fjKJIl_fJMdB"
      },
      "execution_count": null,
      "outputs": []
    },
    {
      "cell_type": "markdown",
      "source": [
        "3. Explain the following functions?\n",
        "\n",
        "-1. run()\n",
        "\n",
        "-2. start()\n",
        "\n",
        "-3. join()\n",
        "\n",
        "-4. isAlive()"
      ],
      "metadata": {
        "id": "Wn8_zyQ4JNG0"
      }
    },
    {
      "cell_type": "markdown",
      "source": [
        "-1. run()\n",
        "\n",
        "Method representing the thread’s activity.\n",
        "\n",
        "You may override this method in a subclass. The standard run() method invokes the callable object passed to the object’s constructor as the target argument, if any, with positional and keyword arguments taken from the args and kwargs arguments, respectively.\n",
        "\n",
        "-2. start()\n",
        "\n",
        "start() method is an inbuilt method of the Thread class of the threading module in Python. It is used to start a thread's activity. This method calls the run() method internally which then executes the target method. This method must be called at most one time for one thread.\n",
        "\n",
        "-3. join()\n",
        "\n",
        "A thread can be joined in Python by calling the Thread. join() method. This has the effect of blocking the current thread until the target thread that has been joined has terminated.\n",
        "\n",
        "\n",
        "-4. isAlive()\n",
        "\n",
        "Thread.is_alive() method is an inbuilt method of the Thread class of the threading module in Python. It uses a Thread object, and checks whether that thread is alive or not, ie, it is still running or not. This method returns True before the run() starts until just after the run() method is executed.\n",
        "\n"
      ],
      "metadata": {
        "id": "rXRDqJQV6fxg"
      }
    },
    {
      "cell_type": "markdown",
      "source": [
        "Q4. Write a python program to create two threads. Thread one must print the list of squares and thread \n",
        "two must print the list of cubes?"
      ],
      "metadata": {
        "id": "xWydDcz98k4H"
      }
    },
    {
      "cell_type": "code",
      "source": [
        "import threading"
      ],
      "metadata": {
        "id": "splUyJoo6evO"
      },
      "execution_count": null,
      "outputs": []
    },
    {
      "cell_type": "code",
      "source": [
        "l1=[2,3,4,5,6,7,8,9]\n",
        "\n",
        "def square(list):\n",
        "  print(list**2)\n",
        "\n",
        "def cube(list):\n",
        "  print(list**3)\n",
        "\n",
        "\n",
        "thread1=[threading.Thread(target=square , args=(i,)) for i in l1]\n",
        "thread2=[threading.Thread(target=cube , args=(i,)) for i in l1]\n",
        "\n",
        "for t in thread1:\n",
        "  t.start()\n",
        "\n",
        "for t in thread2:\n",
        "  t.start()"
      ],
      "metadata": {
        "id": "xa9U0CRM8xTX",
        "colab": {
          "base_uri": "https://localhost:8080/"
        },
        "outputId": "ce65d364-589e-47c2-c87e-56242eb67fdc"
      },
      "execution_count": null,
      "outputs": [
        {
          "output_type": "stream",
          "name": "stdout",
          "text": [
            "4\n",
            "9\n",
            "16\n",
            "25\n",
            "36\n",
            "49\n",
            "64\n",
            "81\n",
            "8\n",
            "27\n",
            "64\n",
            "125\n",
            "216\n",
            "343\n",
            "512\n",
            "729\n"
          ]
        }
      ]
    },
    {
      "cell_type": "code",
      "source": [],
      "metadata": {
        "id": "SnuO8D1ABL5s"
      },
      "execution_count": null,
      "outputs": []
    },
    {
      "cell_type": "markdown",
      "source": [
        "Q5. State advantages and disadvantages of multithreading?"
      ],
      "metadata": {
        "id": "jycxzvil2C28"
      }
    },
    {
      "cell_type": "code",
      "source": [],
      "metadata": {
        "id": "bU23pQYK2FYh"
      },
      "execution_count": null,
      "outputs": []
    },
    {
      "cell_type": "markdown",
      "source": [
        "Multithreading in Python offers many advantages that make it a good choice and a widely popular approach.\n",
        "Here are the two main advantages:\n",
        "\n",
        "1.Multithreading in Python streamlines the efficient utilization of resources as the threads share the same memory and data space.\n",
        "\n",
        "2.It also allows the concurrent appearance of multiple tasks and reduces the response time. This improves the performance.\n",
        "\n",
        "Disadvantages of Multithreading\n",
        "\n",
        "1.When context switch happens it block process, as process is maintaining threads so threads also block.\n",
        "\n",
        "2.Multithreaded application cannot take advantage of multiprocessing"
      ],
      "metadata": {
        "id": "x4gG8dnO2Gat"
      }
    },
    {
      "cell_type": "code",
      "source": [],
      "metadata": {
        "id": "7BNUk92029W8"
      },
      "execution_count": null,
      "outputs": []
    },
    {
      "cell_type": "markdown",
      "source": [
        "Q6. Explain deadlocks and race conditions?"
      ],
      "metadata": {
        "id": "k-Iv36xs3TWJ"
      }
    },
    {
      "cell_type": "markdown",
      "source": [
        "A deadlock occurs when two threads each lock a different variable at the same time and then try to lock the variable that the other thread already locked. As a result, each thread stops executing and waits for the other thread to release the variable."
      ],
      "metadata": {
        "id": "L1kToDIj3fy0"
      }
    },
    {
      "cell_type": "code",
      "source": [],
      "metadata": {
        "id": "7yNzEYad3gUp"
      },
      "execution_count": null,
      "outputs": []
    },
    {
      "cell_type": "markdown",
      "source": [
        " A race condition occurs when two threads use the same variable at a given time.\n",
        " A race condition is a condition when there are many processes and every process shares the data with each other and accessing the data concurrently, and the output of execution depends on a particular sequence in which they share the data and access."
      ],
      "metadata": {
        "id": "tPlTvWCu3mQY"
      }
    },
    {
      "cell_type": "code",
      "source": [],
      "metadata": {
        "id": "5cXoBL6H3sXs"
      },
      "execution_count": null,
      "outputs": []
    }
  ]
}