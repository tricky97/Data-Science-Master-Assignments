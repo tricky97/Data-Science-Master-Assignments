{
  "nbformat": 4,
  "nbformat_minor": 0,
  "metadata": {
    "colab": {
      "provenance": []
    },
    "kernelspec": {
      "name": "python3",
      "display_name": "Python 3"
    },
    "language_info": {
      "name": "python"
    }
  },
  "cells": [
    {
      "cell_type": "code",
      "execution_count": null,
      "metadata": {
        "id": "3rTqP_GJpW8m"
      },
      "outputs": [],
      "source": [
        "Q1. Create a Pandas Series that contains the following data: 4, 8, 15, 16, 23, and 42. Then, print the series."
      ]
    },
    {
      "cell_type": "code",
      "source": [
        "import pandas as pd\n",
        "\n",
        "ser=pd.Series([4, 8, 15, 16, 23,42])\n",
        "\n",
        "print(ser)\n",
        "\n",
        "type(ser)"
      ],
      "metadata": {
        "colab": {
          "base_uri": "https://localhost:8080/"
        },
        "id": "vddSkmWepfs9",
        "outputId": "e4387f25-7fdb-4add-a0b2-3851160864e9"
      },
      "execution_count": 4,
      "outputs": [
        {
          "output_type": "stream",
          "name": "stdout",
          "text": [
            "0     4\n",
            "1     8\n",
            "2    15\n",
            "3    16\n",
            "4    23\n",
            "5    42\n",
            "dtype: int64\n"
          ]
        },
        {
          "output_type": "execute_result",
          "data": {
            "text/plain": [
              "pandas.core.series.Series"
            ]
          },
          "metadata": {},
          "execution_count": 4
        }
      ]
    },
    {
      "cell_type": "markdown",
      "source": [],
      "metadata": {
        "id": "aGBzyOlApfz0"
      }
    },
    {
      "cell_type": "markdown",
      "source": [
        "Q2. Create a variable of list type containing 10 elements in it, and apply pandas.Series function on the \n",
        "variable print it."
      ],
      "metadata": {
        "id": "Zw3X3sy0rCNR"
      }
    },
    {
      "cell_type": "code",
      "source": [
        "import pandas as pd\n",
        "\n",
        "l=[1,2,3,4,5,6,7,8,9,10]\n",
        "\n",
        "ser=pd.Series(l)\n",
        "\n",
        "print(ser)\n",
        "\n",
        "type(ser)"
      ],
      "metadata": {
        "id": "OgS253J-rDB7",
        "colab": {
          "base_uri": "https://localhost:8080/"
        },
        "outputId": "e718949c-0754-4b56-a3c8-957c72b508d9"
      },
      "execution_count": 5,
      "outputs": [
        {
          "output_type": "stream",
          "name": "stdout",
          "text": [
            "0     1\n",
            "1     2\n",
            "2     3\n",
            "3     4\n",
            "4     5\n",
            "5     6\n",
            "6     7\n",
            "7     8\n",
            "8     9\n",
            "9    10\n",
            "dtype: int64\n"
          ]
        },
        {
          "output_type": "execute_result",
          "data": {
            "text/plain": [
              "pandas.core.series.Series"
            ]
          },
          "metadata": {},
          "execution_count": 5
        }
      ]
    },
    {
      "cell_type": "code",
      "source": [],
      "metadata": {
        "id": "-Yf2u6WCtFev"
      },
      "execution_count": null,
      "outputs": []
    },
    {
      "cell_type": "markdown",
      "source": [
        "Q3. Create a Pandas DataFrame that contains the following data:"
      ],
      "metadata": {
        "id": "BelPbb03tFtd"
      }
    },
    {
      "cell_type": "markdown",
      "source": [
        "![image.png](data:image/png;base64,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)\n",
        "\n",
        "\n",
        "Then, print the DataFrame."
      ],
      "metadata": {
        "id": "TlsY-Cs1tPij"
      }
    },
    {
      "cell_type": "code",
      "source": [
        "import pandas as pd\n",
        "\n",
        "data={\"Name\":[\"Alice\",\"Bob\",\"Claire\"],\n",
        "      \"Age\":[25,30,27],\n",
        "      \"Gender\":[\"Female\",\"Male\",\"Female\"]}\n",
        "\n",
        "df=pd.DataFrame(data)\n",
        "\n",
        "df"
      ],
      "metadata": {
        "colab": {
          "base_uri": "https://localhost:8080/",
          "height": 143
        },
        "id": "jyrHPpOitQrj",
        "outputId": "5170e258-e865-44f4-d270-c8760e928da9"
      },
      "execution_count": 7,
      "outputs": [
        {
          "output_type": "execute_result",
          "data": {
            "text/plain": [
              "     Name  Age  Gender\n",
              "0   Alice   25  Female\n",
              "1     Bob   30    Male\n",
              "2  Claire   27  Female"
            ],
            "text/html": [
              "\n",
              "  <div id=\"df-0507c95a-63a7-45df-bbcd-03197ce75e7e\">\n",
              "    <div class=\"colab-df-container\">\n",
              "      <div>\n",
              "<style scoped>\n",
              "    .dataframe tbody tr th:only-of-type {\n",
              "        vertical-align: middle;\n",
              "    }\n",
              "\n",
              "    .dataframe tbody tr th {\n",
              "        vertical-align: top;\n",
              "    }\n",
              "\n",
              "    .dataframe thead th {\n",
              "        text-align: right;\n",
              "    }\n",
              "</style>\n",
              "<table border=\"1\" class=\"dataframe\">\n",
              "  <thead>\n",
              "    <tr style=\"text-align: right;\">\n",
              "      <th></th>\n",
              "      <th>Name</th>\n",
              "      <th>Age</th>\n",
              "      <th>Gender</th>\n",
              "    </tr>\n",
              "  </thead>\n",
              "  <tbody>\n",
              "    <tr>\n",
              "      <th>0</th>\n",
              "      <td>Alice</td>\n",
              "      <td>25</td>\n",
              "      <td>Female</td>\n",
              "    </tr>\n",
              "    <tr>\n",
              "      <th>1</th>\n",
              "      <td>Bob</td>\n",
              "      <td>30</td>\n",
              "      <td>Male</td>\n",
              "    </tr>\n",
              "    <tr>\n",
              "      <th>2</th>\n",
              "      <td>Claire</td>\n",
              "      <td>27</td>\n",
              "      <td>Female</td>\n",
              "    </tr>\n",
              "  </tbody>\n",
              "</table>\n",
              "</div>\n",
              "      <button class=\"colab-df-convert\" onclick=\"convertToInteractive('df-0507c95a-63a7-45df-bbcd-03197ce75e7e')\"\n",
              "              title=\"Convert this dataframe to an interactive table.\"\n",
              "              style=\"display:none;\">\n",
              "        \n",
              "  <svg xmlns=\"http://www.w3.org/2000/svg\" height=\"24px\"viewBox=\"0 0 24 24\"\n",
              "       width=\"24px\">\n",
              "    <path d=\"M0 0h24v24H0V0z\" fill=\"none\"/>\n",
              "    <path d=\"M18.56 5.44l.94 2.06.94-2.06 2.06-.94-2.06-.94-.94-2.06-.94 2.06-2.06.94zm-11 1L8.5 8.5l.94-2.06 2.06-.94-2.06-.94L8.5 2.5l-.94 2.06-2.06.94zm10 10l.94 2.06.94-2.06 2.06-.94-2.06-.94-.94-2.06-.94 2.06-2.06.94z\"/><path d=\"M17.41 7.96l-1.37-1.37c-.4-.4-.92-.59-1.43-.59-.52 0-1.04.2-1.43.59L10.3 9.45l-7.72 7.72c-.78.78-.78 2.05 0 2.83L4 21.41c.39.39.9.59 1.41.59.51 0 1.02-.2 1.41-.59l7.78-7.78 2.81-2.81c.8-.78.8-2.07 0-2.86zM5.41 20L4 18.59l7.72-7.72 1.47 1.35L5.41 20z\"/>\n",
              "  </svg>\n",
              "      </button>\n",
              "      \n",
              "  <style>\n",
              "    .colab-df-container {\n",
              "      display:flex;\n",
              "      flex-wrap:wrap;\n",
              "      gap: 12px;\n",
              "    }\n",
              "\n",
              "    .colab-df-convert {\n",
              "      background-color: #E8F0FE;\n",
              "      border: none;\n",
              "      border-radius: 50%;\n",
              "      cursor: pointer;\n",
              "      display: none;\n",
              "      fill: #1967D2;\n",
              "      height: 32px;\n",
              "      padding: 0 0 0 0;\n",
              "      width: 32px;\n",
              "    }\n",
              "\n",
              "    .colab-df-convert:hover {\n",
              "      background-color: #E2EBFA;\n",
              "      box-shadow: 0px 1px 2px rgba(60, 64, 67, 0.3), 0px 1px 3px 1px rgba(60, 64, 67, 0.15);\n",
              "      fill: #174EA6;\n",
              "    }\n",
              "\n",
              "    [theme=dark] .colab-df-convert {\n",
              "      background-color: #3B4455;\n",
              "      fill: #D2E3FC;\n",
              "    }\n",
              "\n",
              "    [theme=dark] .colab-df-convert:hover {\n",
              "      background-color: #434B5C;\n",
              "      box-shadow: 0px 1px 3px 1px rgba(0, 0, 0, 0.15);\n",
              "      filter: drop-shadow(0px 1px 2px rgba(0, 0, 0, 0.3));\n",
              "      fill: #FFFFFF;\n",
              "    }\n",
              "  </style>\n",
              "\n",
              "      <script>\n",
              "        const buttonEl =\n",
              "          document.querySelector('#df-0507c95a-63a7-45df-bbcd-03197ce75e7e button.colab-df-convert');\n",
              "        buttonEl.style.display =\n",
              "          google.colab.kernel.accessAllowed ? 'block' : 'none';\n",
              "\n",
              "        async function convertToInteractive(key) {\n",
              "          const element = document.querySelector('#df-0507c95a-63a7-45df-bbcd-03197ce75e7e');\n",
              "          const dataTable =\n",
              "            await google.colab.kernel.invokeFunction('convertToInteractive',\n",
              "                                                     [key], {});\n",
              "          if (!dataTable) return;\n",
              "\n",
              "          const docLinkHtml = 'Like what you see? Visit the ' +\n",
              "            '<a target=\"_blank\" href=https://colab.research.google.com/notebooks/data_table.ipynb>data table notebook</a>'\n",
              "            + ' to learn more about interactive tables.';\n",
              "          element.innerHTML = '';\n",
              "          dataTable['output_type'] = 'display_data';\n",
              "          await google.colab.output.renderOutput(dataTable, element);\n",
              "          const docLink = document.createElement('div');\n",
              "          docLink.innerHTML = docLinkHtml;\n",
              "          element.appendChild(docLink);\n",
              "        }\n",
              "      </script>\n",
              "    </div>\n",
              "  </div>\n",
              "  "
            ]
          },
          "metadata": {},
          "execution_count": 7
        }
      ]
    },
    {
      "cell_type": "code",
      "source": [],
      "metadata": {
        "id": "PaRywNSMuivG"
      },
      "execution_count": null,
      "outputs": []
    },
    {
      "cell_type": "markdown",
      "source": [
        "Q4. What is ‘DataFrame’ in pandas and how is it different from pandas.series? Explain with an example."
      ],
      "metadata": {
        "id": "mi8Ql_p2u7FX"
      }
    },
    {
      "cell_type": "code",
      "source": [],
      "metadata": {
        "id": "MQLjqJGiu8GL"
      },
      "execution_count": null,
      "outputs": []
    },
    {
      "cell_type": "markdown",
      "source": [
        "A pandas series is a one-dimensional data structure that comprises of key-value pair, where keys/labels are the indices and values are the values stored on that index. It is similar to a python dictionary, except it provides more freedom to manipulate and edit the data.\n",
        "\n",
        "Example:\n",
        "\n",
        "import pandas as pd\n",
        "\n",
        "ser=pd.Series([4, 8, 15, 16, 23,42])\n",
        "\n",
        "print(ser)\n",
        "\n",
        "type(ser)\n",
        "\n",
        "output\n",
        "\n",
        "0     1\n",
        "\n",
        "1     2\n",
        "\n",
        "2     3\n",
        "\n",
        "3     4\n",
        "\n",
        "4     5\n",
        "\n",
        "5     6\n",
        "\n",
        "6     7\n",
        "\n",
        "7     8\n",
        "\n",
        "8     9\n",
        "\n",
        "9    10\n",
        "\n",
        "A Pandas DataFrame is a 2 dimensional data structure, like a 2 dimensional array, or a table with rows and columns.\n",
        "\n",
        "\n"
      ],
      "metadata": {
        "id": "QV01uHXDu8yU"
      }
    },
    {
      "cell_type": "markdown",
      "source": [
        "![image.png](data:image/png;base64,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)"
      ],
      "metadata": {
        "id": "_mdAj6-mwHz9"
      }
    },
    {
      "cell_type": "code",
      "source": [],
      "metadata": {
        "id": "seQ8fXjgwJJf"
      },
      "execution_count": null,
      "outputs": []
    },
    {
      "cell_type": "markdown",
      "source": [
        "Q5. What are some common functions you can use to manipulate data in a Pandas DataFrame? Can \n",
        "you give an example of when you might use one of these functions?"
      ],
      "metadata": {
        "id": "qAut4t0ixwzz"
      }
    },
    {
      "cell_type": "code",
      "source": [],
      "metadata": {
        "id": "mRgud7KuxxaK"
      },
      "execution_count": null,
      "outputs": []
    },
    {
      "cell_type": "markdown",
      "source": [
        "DataFrame.drop()\n",
        "This is a method to remove columns or rows from your DataFrame.\n",
        "\n",
        "Dataframe.rename()\n",
        "After some playtime with your fresh and crispy DataFrame, you might find that some of the original column names or the ones you have chosen are not cutting it anymore. You can apply the rename method on your DataFrame\n",
        "\n",
        "Dataframe.sort_values()\n",
        "Even though the sort_values can do much more, the most basic and most probable use case for you right now is sorting your DataFrame by a specific column or collection of columns. \n",
        "\n",
        "Handling Missing Values\n",
        "Sometimes missing values (NaN to be precise, stands for Not a Number, a Numpy constant for missing values, or NULL if you are coming from more of an SQL vocabulary) are needed to be dealt with to continue your work with the dataset. The fillna()\n",
        "\n",
        "DataFrame.drop_duplicates()\n",
        "Duplication handling is really easy with the drop_duplicates \n",
        "\n"
      ],
      "metadata": {
        "id": "q6kJzAajx7hT"
      }
    },
    {
      "cell_type": "code",
      "source": [],
      "metadata": {
        "id": "Wro8bc_byhsM"
      },
      "execution_count": null,
      "outputs": []
    },
    {
      "cell_type": "markdown",
      "source": [
        "Q6. Which of the following is mutable in nature Series, DataFrame, Panel?"
      ],
      "metadata": {
        "id": "AViJnPYnyhyD"
      }
    },
    {
      "cell_type": "code",
      "source": [],
      "metadata": {
        "id": "Ls8o0QayztQd"
      },
      "execution_count": null,
      "outputs": []
    },
    {
      "cell_type": "markdown",
      "source": [
        "All Pandas data structures are value mutable (can be changed) and except Series all are size mutable."
      ],
      "metadata": {
        "id": "WCJ-uwHsztWD"
      }
    },
    {
      "cell_type": "code",
      "source": [],
      "metadata": {
        "id": "6iJfTf2azuU2"
      },
      "execution_count": null,
      "outputs": []
    },
    {
      "cell_type": "markdown",
      "source": [
        "Q7. Create a DataFrame using multiple Series. Explain with an example."
      ],
      "metadata": {
        "id": "2JtouhIlzuaz"
      }
    },
    {
      "cell_type": "code",
      "source": [
        "import pandas as pd\n",
        "\n",
        "data1=pd.Series([1,2,3,4,5])\n",
        "\n",
        "data2=pd.Series(['a','b','c','d','e'])\n",
        "\n",
        "data3=pd.Series([123,456,789,987,654])\n",
        "\n",
        "df_concat=pd.concat([data1,data2,data3],axis=1)\n",
        "\n",
        "df_concat\n"
      ],
      "metadata": {
        "colab": {
          "base_uri": "https://localhost:8080/",
          "height": 206
        },
        "id": "C87i5-11zxnU",
        "outputId": "31f50445-9b71-4961-8218-c2dc566a18cc"
      },
      "execution_count": 10,
      "outputs": [
        {
          "output_type": "execute_result",
          "data": {
            "text/plain": [
              "   0  1    2\n",
              "0  1  a  123\n",
              "1  2  b  456\n",
              "2  3  c  789\n",
              "3  4  d  987\n",
              "4  5  e  654"
            ],
            "text/html": [
              "\n",
              "  <div id=\"df-9eea2de9-6a7a-4d91-b4f7-4864ec73001c\">\n",
              "    <div class=\"colab-df-container\">\n",
              "      <div>\n",
              "<style scoped>\n",
              "    .dataframe tbody tr th:only-of-type {\n",
              "        vertical-align: middle;\n",
              "    }\n",
              "\n",
              "    .dataframe tbody tr th {\n",
              "        vertical-align: top;\n",
              "    }\n",
              "\n",
              "    .dataframe thead th {\n",
              "        text-align: right;\n",
              "    }\n",
              "</style>\n",
              "<table border=\"1\" class=\"dataframe\">\n",
              "  <thead>\n",
              "    <tr style=\"text-align: right;\">\n",
              "      <th></th>\n",
              "      <th>0</th>\n",
              "      <th>1</th>\n",
              "      <th>2</th>\n",
              "    </tr>\n",
              "  </thead>\n",
              "  <tbody>\n",
              "    <tr>\n",
              "      <th>0</th>\n",
              "      <td>1</td>\n",
              "      <td>a</td>\n",
              "      <td>123</td>\n",
              "    </tr>\n",
              "    <tr>\n",
              "      <th>1</th>\n",
              "      <td>2</td>\n",
              "      <td>b</td>\n",
              "      <td>456</td>\n",
              "    </tr>\n",
              "    <tr>\n",
              "      <th>2</th>\n",
              "      <td>3</td>\n",
              "      <td>c</td>\n",
              "      <td>789</td>\n",
              "    </tr>\n",
              "    <tr>\n",
              "      <th>3</th>\n",
              "      <td>4</td>\n",
              "      <td>d</td>\n",
              "      <td>987</td>\n",
              "    </tr>\n",
              "    <tr>\n",
              "      <th>4</th>\n",
              "      <td>5</td>\n",
              "      <td>e</td>\n",
              "      <td>654</td>\n",
              "    </tr>\n",
              "  </tbody>\n",
              "</table>\n",
              "</div>\n",
              "      <button class=\"colab-df-convert\" onclick=\"convertToInteractive('df-9eea2de9-6a7a-4d91-b4f7-4864ec73001c')\"\n",
              "              title=\"Convert this dataframe to an interactive table.\"\n",
              "              style=\"display:none;\">\n",
              "        \n",
              "  <svg xmlns=\"http://www.w3.org/2000/svg\" height=\"24px\"viewBox=\"0 0 24 24\"\n",
              "       width=\"24px\">\n",
              "    <path d=\"M0 0h24v24H0V0z\" fill=\"none\"/>\n",
              "    <path d=\"M18.56 5.44l.94 2.06.94-2.06 2.06-.94-2.06-.94-.94-2.06-.94 2.06-2.06.94zm-11 1L8.5 8.5l.94-2.06 2.06-.94-2.06-.94L8.5 2.5l-.94 2.06-2.06.94zm10 10l.94 2.06.94-2.06 2.06-.94-2.06-.94-.94-2.06-.94 2.06-2.06.94z\"/><path d=\"M17.41 7.96l-1.37-1.37c-.4-.4-.92-.59-1.43-.59-.52 0-1.04.2-1.43.59L10.3 9.45l-7.72 7.72c-.78.78-.78 2.05 0 2.83L4 21.41c.39.39.9.59 1.41.59.51 0 1.02-.2 1.41-.59l7.78-7.78 2.81-2.81c.8-.78.8-2.07 0-2.86zM5.41 20L4 18.59l7.72-7.72 1.47 1.35L5.41 20z\"/>\n",
              "  </svg>\n",
              "      </button>\n",
              "      \n",
              "  <style>\n",
              "    .colab-df-container {\n",
              "      display:flex;\n",
              "      flex-wrap:wrap;\n",
              "      gap: 12px;\n",
              "    }\n",
              "\n",
              "    .colab-df-convert {\n",
              "      background-color: #E8F0FE;\n",
              "      border: none;\n",
              "      border-radius: 50%;\n",
              "      cursor: pointer;\n",
              "      display: none;\n",
              "      fill: #1967D2;\n",
              "      height: 32px;\n",
              "      padding: 0 0 0 0;\n",
              "      width: 32px;\n",
              "    }\n",
              "\n",
              "    .colab-df-convert:hover {\n",
              "      background-color: #E2EBFA;\n",
              "      box-shadow: 0px 1px 2px rgba(60, 64, 67, 0.3), 0px 1px 3px 1px rgba(60, 64, 67, 0.15);\n",
              "      fill: #174EA6;\n",
              "    }\n",
              "\n",
              "    [theme=dark] .colab-df-convert {\n",
              "      background-color: #3B4455;\n",
              "      fill: #D2E3FC;\n",
              "    }\n",
              "\n",
              "    [theme=dark] .colab-df-convert:hover {\n",
              "      background-color: #434B5C;\n",
              "      box-shadow: 0px 1px 3px 1px rgba(0, 0, 0, 0.15);\n",
              "      filter: drop-shadow(0px 1px 2px rgba(0, 0, 0, 0.3));\n",
              "      fill: #FFFFFF;\n",
              "    }\n",
              "  </style>\n",
              "\n",
              "      <script>\n",
              "        const buttonEl =\n",
              "          document.querySelector('#df-9eea2de9-6a7a-4d91-b4f7-4864ec73001c button.colab-df-convert');\n",
              "        buttonEl.style.display =\n",
              "          google.colab.kernel.accessAllowed ? 'block' : 'none';\n",
              "\n",
              "        async function convertToInteractive(key) {\n",
              "          const element = document.querySelector('#df-9eea2de9-6a7a-4d91-b4f7-4864ec73001c');\n",
              "          const dataTable =\n",
              "            await google.colab.kernel.invokeFunction('convertToInteractive',\n",
              "                                                     [key], {});\n",
              "          if (!dataTable) return;\n",
              "\n",
              "          const docLinkHtml = 'Like what you see? Visit the ' +\n",
              "            '<a target=\"_blank\" href=https://colab.research.google.com/notebooks/data_table.ipynb>data table notebook</a>'\n",
              "            + ' to learn more about interactive tables.';\n",
              "          element.innerHTML = '';\n",
              "          dataTable['output_type'] = 'display_data';\n",
              "          await google.colab.output.renderOutput(dataTable, element);\n",
              "          const docLink = document.createElement('div');\n",
              "          docLink.innerHTML = docLinkHtml;\n",
              "          element.appendChild(docLink);\n",
              "        }\n",
              "      </script>\n",
              "    </div>\n",
              "  </div>\n",
              "  "
            ]
          },
          "metadata": {},
          "execution_count": 10
        }
      ]
    },
    {
      "cell_type": "code",
      "source": [],
      "metadata": {
        "id": "TUfbVWHT1Bzm"
      },
      "execution_count": null,
      "outputs": []
    }
  ]
}