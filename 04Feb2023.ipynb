{
  "nbformat": 4,
  "nbformat_minor": 0,
  "metadata": {
    "colab": {
      "provenance": [],
      "history_visible": true
    },
    "kernelspec": {
      "name": "python3",
      "display_name": "Python 3"
    },
    "language_info": {
      "name": "python"
    }
  },
  "cells": [
    {
      "cell_type": "markdown",
      "source": [
        "Q1. Create a python program to sort the given list of tuples based on integer value using a \n",
        "lambda function. \n",
        "\n",
        "\n",
        "[('Sachin Tendulkar', 34357), ('Ricky Ponting', 27483), ('Jack Kallis', 25534), ('Virat Kohli', 24936)]"
      ],
      "metadata": {
        "id": "Whtep4-PfHTL"
      }
    },
    {
      "cell_type": "code",
      "source": [
        "l=[('Sachin Tendulkar', 34357), ('Ricky Ponting', 27483), ('Jack Kallis', 25534), ('Virat Kohli', 24936)]\n",
        "l.sort(key=lambda x: x[1])\n",
        "print(l)"
      ],
      "metadata": {
        "colab": {
          "base_uri": "https://localhost:8080/"
        },
        "id": "jOtC_r1lfINm",
        "outputId": "fd1220f7-81fb-49ca-8219-01481b886fa1"
      },
      "execution_count": null,
      "outputs": [
        {
          "output_type": "stream",
          "name": "stdout",
          "text": [
            "[('Virat Kohli', 24936), ('Jack Kallis', 25534), ('Ricky Ponting', 27483), ('Sachin Tendulkar', 34357)]\n"
          ]
        }
      ]
    },
    {
      "cell_type": "code",
      "source": [],
      "metadata": {
        "id": "5Bw7X61vinGY"
      },
      "execution_count": null,
      "outputs": []
    },
    {
      "cell_type": "markdown",
      "source": [
        "Q2. Write a Python Program to find the squares of all the numbers in the given list of integers using \n",
        "lambda and map functions.\n",
        "\n",
        "\n",
        "[1, 2, 3, 4, 5, 6, 7, 8, 9, 10]"
      ],
      "metadata": {
        "id": "fPyG_-O0jE50"
      }
    },
    {
      "cell_type": "code",
      "source": [
        "l=[1, 2, 3, 4, 5, 6, 7, 8, 9, 10]\n",
        "sq_num=list(map(lambda x : x**2,l))\n",
        "sq_num"
      ],
      "metadata": {
        "colab": {
          "base_uri": "https://localhost:8080/"
        },
        "id": "BY0I0AjUjGPw",
        "outputId": "82b2926a-36b1-4b75-b3bd-d035f5298431"
      },
      "execution_count": null,
      "outputs": [
        {
          "output_type": "execute_result",
          "data": {
            "text/plain": [
              "[1, 4, 9, 16, 25, 36, 49, 64, 81, 100]"
            ]
          },
          "metadata": {},
          "execution_count": 2
        }
      ]
    },
    {
      "cell_type": "markdown",
      "source": [
        "Q3. Write a python program to convert the given list of integers into a tuple of strings. Use map and \n",
        "lambda functions\n",
        "\n",
        "\n",
        "Given String: [1, 2, 3, 4, 5, 6, 7, 8, 9, 10]\n",
        "\n",
        "Expected output: ('1', '2', '3', '4', '5', '6', '7', '8', '9', '10')"
      ],
      "metadata": {
        "id": "gnrTHq4_k1lz"
      }
    },
    {
      "cell_type": "code",
      "source": [
        "l= [1, 2, 3, 4, 5, 6, 7, 8, 9, 10]\n",
        "t=tuple(map(lambda x: str(x) ,l))\n",
        "print(t)"
      ],
      "metadata": {
        "colab": {
          "base_uri": "https://localhost:8080/"
        },
        "id": "8pFphXN8k2bU",
        "outputId": "26bfa478-c128-4297-fa67-502d683b2539"
      },
      "execution_count": null,
      "outputs": [
        {
          "output_type": "stream",
          "name": "stdout",
          "text": [
            "('1', '2', '3', '4', '5', '6', '7', '8', '9', '10')\n"
          ]
        }
      ]
    },
    {
      "cell_type": "markdown",
      "source": [
        "Q4.  Write a python program using reduce function to compute the product of a list containing numbers \n",
        "from 1 to 25."
      ],
      "metadata": {
        "id": "qsc0Vd0vl8UQ"
      }
    },
    {
      "cell_type": "code",
      "source": [
        "from functools import reduce\n",
        "l=[i for i in range(1,26)]\n",
        "product=reduce((lambda x,y: x*y),l )\n",
        "    \n",
        "print(product)"
      ],
      "metadata": {
        "colab": {
          "base_uri": "https://localhost:8080/"
        },
        "id": "gr_NuhWzl2Le",
        "outputId": "f7601c45-9cae-4b7c-83b7-ed04d3aa8ce5"
      },
      "execution_count": null,
      "outputs": [
        {
          "output_type": "stream",
          "name": "stdout",
          "text": [
            "15511210043330985984000000\n"
          ]
        }
      ]
    },
    {
      "cell_type": "markdown",
      "source": [
        "Q5. Write a python program to filter the numbers in a given list that are divisible by 2 and 3 using the \n",
        "filter function.\n",
        "\n",
        "\n",
        "[2, 3, 6, 9, 27, 60, 90, 120, 55, 46]"
      ],
      "metadata": {
        "id": "HJqQvZX-oZKE"
      }
    },
    {
      "cell_type": "code",
      "source": [
        "l=[2, 3, 6, 9, 27, 60, 90, 120, 55, 46]\n",
        "filtered=list(filter(lambda x:x%2==0 and x%3==0, l))\n",
        "filtered"
      ],
      "metadata": {
        "id": "ZjEioLDEoU3c",
        "colab": {
          "base_uri": "https://localhost:8080/"
        },
        "outputId": "598b20ff-9126-4683-e131-0ae2def1f628"
      },
      "execution_count": 1,
      "outputs": [
        {
          "output_type": "execute_result",
          "data": {
            "text/plain": [
              "[6, 60, 90, 120]"
            ]
          },
          "metadata": {},
          "execution_count": 1
        }
      ]
    },
    {
      "cell_type": "markdown",
      "source": [
        "Q6. Write a python program to find palindromes in the given list of strings using lambda and filter \n",
        "function.\n",
        "\n",
        "\n",
        "['python', 'php', 'aba', 'radar', 'level']"
      ],
      "metadata": {
        "id": "ZFhrmoB1Njq1"
      }
    },
    {
      "cell_type": "code",
      "source": [
        "l=['python', 'php', 'aba', 'radar', 'level']\n",
        "palindrome = list(filter(lambda x: (x == \"\".join(reversed(x))), l))\n",
        "print(palindrome) \n"
      ],
      "metadata": {
        "colab": {
          "base_uri": "https://localhost:8080/"
        },
        "id": "GNXHZVtONkn0",
        "outputId": "9d136ecd-6ee0-4347-e93e-5ed68b005e76"
      },
      "execution_count": 3,
      "outputs": [
        {
          "output_type": "stream",
          "name": "stdout",
          "text": [
            "['php', 'aba', 'radar', 'level']\n"
          ]
        }
      ]
    },
    {
      "cell_type": "code",
      "source": [],
      "metadata": {
        "id": "9kwg3vptPKek"
      },
      "execution_count": null,
      "outputs": []
    }
  ]
}