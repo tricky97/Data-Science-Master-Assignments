{
  "nbformat": 4,
  "nbformat_minor": 0,
  "metadata": {
    "colab": {
      "provenance": []
    },
    "kernelspec": {
      "name": "python3",
      "display_name": "Python 3"
    },
    "language_info": {
      "name": "python"
    }
  },
  "cells": [
    {
      "cell_type": "markdown",
      "source": [
        "Q1. Which function is used to open a file? What are the different modes of opening a file? Explain each mode \n",
        "of file opening."
      ],
      "metadata": {
        "id": "2AhFeDJzg-eV"
      }
    },
    {
      "cell_type": "markdown",
      "source": [
        "The open() function is used to open files in the python. \n",
        "The open() function takes two parameers; filename and mode.\n",
        "\n",
        "There are four different methods (modes) for opening a file:\n",
        "\n",
        "\"r\" - Read - Default value. Opens a file for reading, error if the file does not exist\n",
        "\n",
        "\"a\" - Append - Opens a file for appending, creates the file if it does not exist\n",
        "\n",
        "\"w\" - Write - Opens a file for writing, creates the file if it does not exist\n",
        "\n",
        "\"x\" - Create - Creates the specified file, returns an error if the file exists\n",
        "\n",
        "In addition you can specify if the file should be handled as binary or text mode\n",
        "\n",
        "\"t\" - Text - Default value. Text mode\n",
        "\n",
        "\"b\" - Binary - Binary mode (e.g. images)\n",
        "\n",
        "Example:\n",
        "Type I-\n",
        "          f = open(\"demofile.txt\", \"r\")\n",
        "\n",
        "Type II-  with open(\"demofile.txt\",\"r\") as f:\n",
        "                print(f.read())\n",
        "\n",
        "Unlike open() where you have to close the file with the close() method, the with statement closes the file for you without you telling it to."
      ],
      "metadata": {
        "id": "rPN4rLM2NOfR"
      }
    },
    {
      "cell_type": "code",
      "source": [],
      "metadata": {
        "id": "LvLDtgwwOzNi"
      },
      "execution_count": null,
      "outputs": []
    },
    {
      "cell_type": "markdown",
      "source": [
        "Q2. Why close() function is used? Why is it important to close a file?"
      ],
      "metadata": {
        "id": "BP1t7hn1O2nO"
      }
    },
    {
      "cell_type": "markdown",
      "source": [
        "The close () function closes the connection between the program and an open file identified by a handle. Any unwritten system buffers are flushed to the disk, and system resources used by the file are released \n",
        "\n",
        "If the OS has limited resources then by not closing files it will  waste system resources."
      ],
      "metadata": {
        "id": "aLlgjvxqO9z5"
      }
    },
    {
      "cell_type": "code",
      "source": [],
      "metadata": {
        "id": "eu0GSRv1O3X5"
      },
      "execution_count": null,
      "outputs": []
    },
    {
      "cell_type": "markdown",
      "source": [
        "Q3. Write a python program to create a text file. Write ‘I want to become a Data Scientist’ in that file. Then \n",
        "close the file. Open this file and read the content of the file.  "
      ],
      "metadata": {
        "id": "OaEOQZrlPXdI"
      }
    },
    {
      "cell_type": "code",
      "source": [
        " q3_example= open(\"demo.txt\",\"w\")\n",
        "q3_example.write(\"I want to become a Data Scientist\")\n",
        "    \n",
        "q3_example.close()"
      ],
      "metadata": {
        "id": "i0XEYxHEPYKx"
      },
      "execution_count": 1,
      "outputs": []
    },
    {
      "cell_type": "code",
      "source": [
        " q3_example= open(\"demo.txt\",\"r\")\n",
        "print(q3_example.read())"
      ],
      "metadata": {
        "colab": {
          "base_uri": "https://localhost:8080/"
        },
        "id": "fm9uWD4sQF1a",
        "outputId": "797cf1fe-2efd-4d73-e559-5fa77d3cdf99"
      },
      "execution_count": 2,
      "outputs": [
        {
          "output_type": "stream",
          "name": "stdout",
          "text": [
            "I want to become a Data Scientist\n"
          ]
        }
      ]
    },
    {
      "cell_type": "markdown",
      "source": [
        "Q4. Explain the following with python code: read(), readline() and readlines()"
      ],
      "metadata": {
        "id": "8f16Y--CRL0p"
      }
    },
    {
      "cell_type": "markdown",
      "source": [
        " Returns the read bytes in form of a string. Reads n bytes, if no n specified, reads the entire file.\n",
        " \n",
        " Example:  "
      ],
      "metadata": {
        "id": "Kpdk_oLdRl7E"
      }
    },
    {
      "cell_type": "code",
      "source": [
        "f = open(\"demo.txt\", \"r\")\n",
        "print(f.read())"
      ],
      "metadata": {
        "colab": {
          "base_uri": "https://localhost:8080/"
        },
        "id": "rHHonHWuQRfs",
        "outputId": "140fe9c3-4821-4c99-e073-1bc57c2e22b0"
      },
      "execution_count": 3,
      "outputs": [
        {
          "output_type": "stream",
          "name": "stdout",
          "text": [
            "I want to become a Data Scientist\n"
          ]
        }
      ]
    },
    {
      "cell_type": "markdown",
      "source": [
        "The readline() method returns one line from the file.\n",
        "\n",
        "Example:"
      ],
      "metadata": {
        "id": "kZx8ygvnR5kn"
      }
    },
    {
      "cell_type": "code",
      "source": [
        "f = open(\"demo.txt\", \"w\")\n",
        "f.write(\"Before you can begin to determine what the composition of a particular paragraph will be,\\n you must first decide on an argument and a working thesis statement for your paper.\\n What is the most important idea that you are trying to convey to your reader?\\nThe information in each paragraph must be related to that idea.\\n In other words, your paragraphs should remind your reader that there is a recurrent relationship between your thesis and the information in each paragraph. A working thesis functions like a seed from which your paper, and your ideas, will grow. The whole process is an organic one—a natural progression from a seed to a full-blown paper where there are direct, familial relationships between all of the ideas in the paper.\")\n"
      ],
      "metadata": {
        "colab": {
          "base_uri": "https://localhost:8080/"
        },
        "id": "F3TdRs2IRx_v",
        "outputId": "3019ee11-88ec-468c-9781-e8fefdf41ff9"
      },
      "execution_count": 22,
      "outputs": [
        {
          "output_type": "execute_result",
          "data": {
            "text/plain": [
              "741"
            ]
          },
          "metadata": {},
          "execution_count": 22
        }
      ]
    },
    {
      "cell_type": "code",
      "source": [
        "f.close()"
      ],
      "metadata": {
        "id": "gsZ4rFF1Sxxa"
      },
      "execution_count": 23,
      "outputs": []
    },
    {
      "cell_type": "code",
      "source": [
        "f = open(\"demo.txt\", \"r\")"
      ],
      "metadata": {
        "id": "s7lD5aLrT03Q"
      },
      "execution_count": 24,
      "outputs": []
    },
    {
      "cell_type": "code",
      "source": [
        "print(f.read())"
      ],
      "metadata": {
        "colab": {
          "base_uri": "https://localhost:8080/"
        },
        "id": "6vqiCSPjUUsO",
        "outputId": "999c5787-51f4-42d7-e43a-2e9a9b0a76f9"
      },
      "execution_count": 25,
      "outputs": [
        {
          "output_type": "stream",
          "name": "stdout",
          "text": [
            "Before you can begin to determine what the composition of a particular paragraph will be,\n",
            " you must first decide on an argument and a working thesis statement for your paper.\n",
            " What is the most important idea that you are trying to convey to your reader?\n",
            "The information in each paragraph must be related to that idea.\n",
            " In other words, your paragraphs should remind your reader that there is a recurrent relationship between your thesis and the information in each paragraph. A working thesis functions like a seed from which your paper, and your ideas, will grow. The whole process is an organic one—a natural progression from a seed to a full-blown paper where there are direct, familial relationships between all of the ideas in the paper.\n"
          ]
        }
      ]
    },
    {
      "cell_type": "markdown",
      "source": [
        "It will print the first line if size is not described in the paranthesis --- > readline()"
      ],
      "metadata": {
        "id": "pCRZwDsIUPNv"
      }
    },
    {
      "cell_type": "code",
      "source": [
        "print(f.readline())"
      ],
      "metadata": {
        "colab": {
          "base_uri": "https://localhost:8080/"
        },
        "id": "gNDJbVsrTuhe",
        "outputId": "2548218d-99f5-490a-da97-90e88d0cb02f"
      },
      "execution_count": 20,
      "outputs": [
        {
          "output_type": "stream",
          "name": "stdout",
          "text": [
            "Before you can begin to determine what the composition of a particular paragraph will be,\n",
            "\n"
          ]
        }
      ]
    },
    {
      "cell_type": "code",
      "source": [],
      "metadata": {
        "id": "oA0mvy9KTxjX"
      },
      "execution_count": null,
      "outputs": []
    },
    {
      "cell_type": "markdown",
      "source": [
        "The readlines() method returns a list containing each line in the file as a list item."
      ],
      "metadata": {
        "id": "9tN9syNkU1im"
      }
    },
    {
      "cell_type": "code",
      "source": [
        "f = open(\"demo.txt\", \"r\")\n",
        "print(f.readlines(33))"
      ],
      "metadata": {
        "colab": {
          "base_uri": "https://localhost:8080/"
        },
        "id": "41bV52L0U3TK",
        "outputId": "4ae02a43-90c3-4951-d592-5af690c559b1"
      },
      "execution_count": 26,
      "outputs": [
        {
          "output_type": "stream",
          "name": "stdout",
          "text": [
            "['Before you can begin to determine what the composition of a particular paragraph will be,\\n']\n"
          ]
        }
      ]
    },
    {
      "cell_type": "code",
      "source": [],
      "metadata": {
        "id": "UC_x30_1U6xN"
      },
      "execution_count": null,
      "outputs": []
    },
    {
      "cell_type": "markdown",
      "source": [
        "Q5. Explain why with statement is used with open(). What is the advantage of using with statement and \n",
        "open() together?"
      ],
      "metadata": {
        "id": "x7wTBhYRVEQH"
      }
    },
    {
      "cell_type": "markdown",
      "source": [
        "When you call the open() function using the with statement, the file closes automatically after you've processed the file. The with statement is a replacement for commonly used try/finally error-handling statements. \n",
        "\n",
        " with statement is used in exception handling to make the code cleaner and much more readable. It simplifies the management of common resources like file streams. Observe the following code example on how the use of with statement makes code cleaner. "
      ],
      "metadata": {
        "id": "WjMuUwcIVK7m"
      }
    },
    {
      "cell_type": "code",
      "source": [
        "# 1) without using with statement\n",
        "file = open('file_path', 'w')\n",
        "file.write('hello world !')\n",
        "file.close()\n",
        " \n",
        "# 2) without using with statement\n",
        "file = open('file_path', 'w')\n",
        "try:\n",
        "    file.write('hello world')\n",
        "finally:\n",
        "    file.close()"
      ],
      "metadata": {
        "id": "3qt0C1yAVL4Q"
      },
      "execution_count": 27,
      "outputs": []
    },
    {
      "cell_type": "code",
      "source": [
        "\n",
        "# using with statement\n",
        "with open('file_path', 'w') as file:\n",
        "    file.write('hello world !')"
      ],
      "metadata": {
        "id": "P0S9CWq3VcHY"
      },
      "execution_count": 28,
      "outputs": []
    },
    {
      "cell_type": "markdown",
      "source": [
        "Q6. Explain the write() and writelines() functions. Give a suitable example."
      ],
      "metadata": {
        "id": "MoLNynapWLjt"
      }
    },
    {
      "cell_type": "markdown",
      "source": [
        "The write() function will write the content in the file without adding any extra characters.\n",
        "\n",
        " Example:\n",
        " \n"
      ],
      "metadata": {
        "id": "OOqnhLGbWTjF"
      }
    },
    {
      "cell_type": "code",
      "source": [
        "file = open(\"Employees.txt\", \"w\")\n",
        "  \n",
        "for i in range(3):\n",
        "   name = input(\"Enter the name of the employee: \")\n",
        "   file.write(name)\n",
        "   file.write(\"\\n\")\n",
        "     \n",
        "file.close()\n",
        "  \n",
        "print(\"Data is written into the file.\")"
      ],
      "metadata": {
        "colab": {
          "base_uri": "https://localhost:8080/"
        },
        "id": "XLvpO7FtViQx",
        "outputId": "35dc1e15-943f-428e-ff72-6bb1c6fe56b5"
      },
      "execution_count": 29,
      "outputs": [
        {
          "output_type": "stream",
          "name": "stdout",
          "text": [
            "Enter the name of the employee: ankit\n",
            "Enter the name of the employee: prakash\n",
            "Enter the name of the employee: sharma\n",
            "Data is written into the file.\n"
          ]
        }
      ]
    },
    {
      "cell_type": "markdown",
      "source": [
        "writelines() function\n",
        "This function writes the content of a list to a file.\n",
        "\n",
        "Example:"
      ],
      "metadata": {
        "id": "jFl8S9H5WnzE"
      }
    },
    {
      "cell_type": "code",
      "source": [
        "file1 = open(\"Employees.txt\", \"w\")\n",
        "lst = []\n",
        "for i in range(3):\n",
        "    name = input(\"Enter the name of the employee: \")\n",
        "    lst.append(name + '\\n')\n",
        "      \n",
        "file1.writelines(lst)\n",
        "file1.close()\n",
        "print(\"Data is written into the file.\") "
      ],
      "metadata": {
        "colab": {
          "base_uri": "https://localhost:8080/"
        },
        "id": "qPAY2ONJWdOT",
        "outputId": "7b921f60-495f-45d2-aeab-4097cfa7b994"
      },
      "execution_count": 30,
      "outputs": [
        {
          "output_type": "stream",
          "name": "stdout",
          "text": [
            "Enter the name of the employee: ankit \n",
            "Enter the name of the employee: prakash\n",
            "Enter the name of the employee: sharma\n",
            "Data is written into the file.\n"
          ]
        }
      ]
    },
    {
      "cell_type": "markdown",
      "source": [
        "The only difference between the write() and writelines() is that write() is used to write a string to an already opened file while writelines() method is used to write a list of strings in an opened file."
      ],
      "metadata": {
        "id": "ggQ7NYkZW1md"
      }
    },
    {
      "cell_type": "code",
      "source": [],
      "metadata": {
        "id": "qUpXYUU0WtON"
      },
      "execution_count": null,
      "outputs": []
    }
  ]
}