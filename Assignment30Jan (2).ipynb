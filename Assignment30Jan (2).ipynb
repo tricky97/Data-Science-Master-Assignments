{
 "cells": [
  {
   "cell_type": "markdown",
   "id": "41c34ce9-d913-438f-b90e-272c2eb7d49c",
   "metadata": {},
   "source": [
    "## Q1 - Write a program to accept percentage from the user and display the grade according to the following criteria:"
   ]
  },
  {
   "cell_type": "code",
   "execution_count": 1,
   "id": "8e6beaee-fae7-45a3-9406-e833d12d9a22",
   "metadata": {},
   "outputs": [
    {
     "name": "stdin",
     "output_type": "stream",
     "text": [
      "Enter the percentage to display the grade :  65\n"
     ]
    },
    {
     "name": "stdout",
     "output_type": "stream",
     "text": [
      "According to the percentage grade will be C \n"
     ]
    }
   ],
   "source": [
    "mark_per=int(input(\"Enter the percentage to display the grade : \"))\n",
    "if mark_per > 90:\n",
    "    print(\"According to the percentage grade will be A \")\n",
    "elif mark_per > 80 and mark_per <=90 :\n",
    "    print(\"According to the percentage grade will be B \")\n",
    "elif mark_per >=60 and mark_per <=80 :\n",
    "    print(\"According to the percentage grade will be C \")\n",
    "else:\n",
    "    print(\"According to the percentage grade will be D \")\n"
   ]
  },
  {
   "cell_type": "markdown",
   "id": "6bad76e4-f5eb-4189-bc58-e1579c4125b1",
   "metadata": {},
   "source": [
    "## Q2- Write a program to accept the cost price of a bike and display the road tax to be paid according to the following criteria:"
   ]
  },
  {
   "cell_type": "code",
   "execution_count": 3,
   "id": "e0242245-ce47-4504-82de-588ec8b0fb30",
   "metadata": {},
   "outputs": [
    {
     "name": "stdin",
     "output_type": "stream",
     "text": [
      "Enter the Bike price to display the road tax :  100001\n"
     ]
    },
    {
     "name": "stdout",
     "output_type": "stream",
     "text": [
      "According to the price you have to pay 15% tax \n",
      "Road tax is to be paid :   15000.15\n"
     ]
    }
   ],
   "source": [
    "\n",
    "bike_price=int(input(\"Enter the Bike price to display the road tax : \"))\n",
    "if bike_price > 100000:\n",
    "    print(\"According to the price you have to pay 15% tax \")\n",
    "    t = 0.15\n",
    "elif bike_price > 50000 and bike_price <= 100000:\n",
    "    print(\"According to the price you have to pay 10% tax \")\n",
    "    t = 0.10\n",
    "elif bike_price <= 50000:\n",
    "    print(\"According to the price you have to pay 5% tax \")\n",
    "    t=0.05\n",
    "road_tax=bike_price * t\n",
    "print(\"Road tax is to be paid :  \",road_tax)"
   ]
  },
  {
   "cell_type": "markdown",
   "id": "0498942a-3599-4f71-9244-f03662099314",
   "metadata": {},
   "source": [
    "## Q3- Accept any city from the user and display monuments of that city"
   ]
  },
  {
   "cell_type": "code",
   "execution_count": 3,
   "id": "9d12c044-0066-4ec3-a989-ceee36578f5f",
   "metadata": {},
   "outputs": [
    {
     "name": "stdout",
     "output_type": "stream",
     "text": [
      "Select from the city : 1) Delhi 2)Agra 3)Jaipur\n"
     ]
    },
    {
     "name": "stdin",
     "output_type": "stream",
     "text": [
      "Enter a city :  Delhi\n"
     ]
    },
    {
     "name": "stdout",
     "output_type": "stream",
     "text": [
      "You have entered the DELHI\n",
      "Monument => Red Fort\n"
     ]
    }
   ],
   "source": [
    "print(\"Select from the city : 1) Delhi 2)Agra 3)Jaipur\")\n",
    "city = input(\"Enter a city : \")\n",
    "if city.upper() == \"DELHI\":\n",
    "    print(\"You have entered the DELHI\")\n",
    "    print(\"Monument => Red Fort\")\n",
    "elif city.upper() == \"AGRA\":\n",
    "    print(\"You have entered the AGRA\")\n",
    "    print(\"Monument => Taj Mahal\")\n",
    "elif city.upper() == \"JAIPUR\":\n",
    "    print(\"You have entered the JAIPUR\")\n",
    "    print(\"Monument => Jal Mahal\")\n",
    "else:\n",
    "    print(\"Enter a valid city\")"
   ]
  },
  {
   "cell_type": "markdown",
   "id": "bbf71611-24e4-4c93-8d0a-f7cbb2e86fdc",
   "metadata": {},
   "source": [
    "## Q4 Check how many times a given number can be divided by 3 before it is less than or equal to 10"
   ]
  },
  {
   "cell_type": "code",
   "execution_count": 4,
   "id": "918acd0a-d007-4a8e-a40a-1f4d848126b7",
   "metadata": {},
   "outputs": [
    {
     "name": "stdin",
     "output_type": "stream",
     "text": [
      "Enter the number :  25\n"
     ]
    },
    {
     "name": "stdout",
     "output_type": "stream",
     "text": [
      "Count is :  1\n"
     ]
    }
   ],
   "source": [
    "user_input=int(input(\"Enter the number : \"))\n",
    "count=0\n",
    "while user_input >= 10:\n",
    "    user_input=user_input/3\n",
    "    count=count+1\n",
    "\n",
    "print(\"Count is : \",count)"
   ]
  },
  {
   "cell_type": "markdown",
   "id": "d951813c-31a0-471d-a724-1f4680a167f6",
   "metadata": {},
   "source": [
    "## Q5 Why and when to use while loop in python give a detailed description with example"
   ]
  },
  {
   "cell_type": "markdown",
   "id": "d0fee5c7-d93c-46ce-b16b-003284a8033e",
   "metadata": {},
   "source": [
    "### The while loop accept a single expression and the loop continues to iterate as long as the test continues to return true. The Expression is re-evaluated before each iteration.\n",
    "### So it is used when we want to repeatedly execyte a block of statements. When the number of iteration is not fixed, it is recommended to use the while loop.\n",
    "\n"
   ]
  },
  {
   "cell_type": "code",
   "execution_count": 7,
   "id": "e91c58ca-02d2-4578-8828-ae6ff2b63224",
   "metadata": {},
   "outputs": [
    {
     "name": "stdin",
     "output_type": "stream",
     "text": [
      "Enter a String :  ANKIT SHARMA\n"
     ]
    },
    {
     "name": "stdout",
     "output_type": "stream",
     "text": [
      "Hello\n",
      "Hello\n",
      "Hello\n",
      "Hello\n",
      "Hello\n",
      "Hello\n",
      "Hello\n",
      "Hello\n",
      "Hello\n",
      "Hello\n",
      "Hello\n",
      "Hello\n"
     ]
    }
   ],
   "source": [
    "#Example :\n",
    "str=input(\"Enter a String : \")\n",
    "s=len(str)\n",
    "while s > 0 :\n",
    "    s=s-1\n",
    "    print(\"Hello\")\n",
    "  \n",
    "# In the above program user will enter the string and the second line will count the string length \n",
    "# After that while loop will run and print the word \"Hello\" times equal to length of string.\n",
    "# Here the iteration is not fixed. It is based on the user input. "
   ]
  },
  {
   "cell_type": "markdown",
   "id": "201e877a-cf06-4700-acb8-e45a38745f49",
   "metadata": {},
   "source": [
    "## Q6 Use nested while loop to print 3 different pattern"
   ]
  },
  {
   "cell_type": "code",
   "execution_count": null,
   "id": "60017819-7af7-4315-8433-b7d49af1814f",
   "metadata": {},
   "outputs": [],
   "source": [
    "n = int(input('Enter number of rows : '))\n",
    "i=1;j=0\n",
    "while(i<=n):\n",
    "    while(j<=i-1):\n",
    "        print(\"* \",end=\"\")\n",
    "        j+=1\n",
    "    print(\"\\r\")\n",
    "    j=0;i+=1"
   ]
  },
  {
   "cell_type": "code",
   "execution_count": null,
   "id": "0c620f09-d7a0-4328-97f2-1076076bd8e6",
   "metadata": {},
   "outputs": [],
   "source": [
    "n = int(input('Enter number of rows : '))\n",
    " \n",
    "i=5;j=0\n",
    "while(i<=n):\n",
    "    while(j<=i-1):\n",
    "        print(\"* \",end=\"\")\n",
    "        j+=1\n",
    "     # printing next line for each row\n",
    "    print(\"\\r\")\n",
    "    j=0;i-=1"
   ]
  },
  {
   "cell_type": "code",
   "execution_count": 1,
   "id": "b27ced43-9743-4dc6-aba0-f6cd062f7c79",
   "metadata": {},
   "outputs": [
    {
     "name": "stdin",
     "output_type": "stream",
     "text": [
      "Enter the number of rows  5\n",
      "Enter the number of column   4\n"
     ]
    },
    {
     "name": "stdout",
     "output_type": "stream",
     "text": [
      "* * * * \n",
      "* * * * \n",
      "* * * * \n",
      "* * * * \n",
      "* * * * \n"
     ]
    }
   ],
   "source": [
    "n=int(input(\"Enter the number of rows \"))\n",
    "h=int(input(\"Enter the number of column  \"))\n",
    "i=0\n",
    "while i < n:\n",
    "    j=0\n",
    "    while j < h:\n",
    "        print('*',end=\" \")\n",
    "        j=j+1\n",
    "    i=i+1\n",
    "    print()\n"
   ]
  },
  {
   "cell_type": "markdown",
   "id": "e66dedca-9b81-4b00-bba8-46c0744e2a0c",
   "metadata": {},
   "source": [
    "## Q7 Reverse a while loop to display numbers from 10 to 1"
   ]
  },
  {
   "cell_type": "code",
   "execution_count": 2,
   "id": "928d12a8-d6df-49a4-90e5-3b1ed301b376",
   "metadata": {},
   "outputs": [
    {
     "name": "stdout",
     "output_type": "stream",
     "text": [
      "10 9 8 7 6 5 4 3 2 1 "
     ]
    }
   ],
   "source": [
    "i=10\n",
    "while i >= 1:\n",
    "    print(i ,end=\" \")\n",
    "    i=i-1"
   ]
  },
  {
   "cell_type": "markdown",
   "id": "7898e6c3-430f-4255-b726-8917dbdcc95c",
   "metadata": {},
   "source": [
    "## Q8 ## Q7 Reverse a while loop to display numbers from 10 to 1"
   ]
  },
  {
   "cell_type": "code",
   "execution_count": 1,
   "id": "c8f9e992-60e4-4003-b0be-55ae48e76e5c",
   "metadata": {},
   "outputs": [
    {
     "name": "stdout",
     "output_type": "stream",
     "text": [
      "10 9 8 7 6 5 4 3 2 1 "
     ]
    }
   ],
   "source": [
    "i=10\n",
    "while i >= 1:\n",
    "    print(i ,end=\" \")\n",
    "    i=i-1"
   ]
  },
  {
   "cell_type": "code",
   "execution_count": null,
   "id": "a9e98c86-f7e5-4cba-8fb1-2fedc0a54af6",
   "metadata": {},
   "outputs": [],
   "source": []
  }
 ],
 "metadata": {
  "kernelspec": {
   "display_name": "Python 3 (ipykernel)",
   "language": "python",
   "name": "python3"
  },
  "language_info": {
   "codemirror_mode": {
    "name": "ipython",
    "version": 3
   },
   "file_extension": ".py",
   "mimetype": "text/x-python",
   "name": "python",
   "nbconvert_exporter": "python",
   "pygments_lexer": "ipython3",
   "version": "3.10.8"
  }
 },
 "nbformat": 4,
 "nbformat_minor": 5
}
