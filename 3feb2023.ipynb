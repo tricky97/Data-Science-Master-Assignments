{
  "nbformat": 4,
  "nbformat_minor": 0,
  "metadata": {
    "colab": {
      "provenance": []
    },
    "kernelspec": {
      "name": "python3",
      "display_name": "Python 3"
    },
    "language_info": {
      "name": "python"
    }
  },
  "cells": [
    {
      "cell_type": "markdown",
      "source": [
        "Q1. Which keyword is used to create a function? Create a function to return a list of odd numbers in the \n",
        "range of 1 to 25"
      ],
      "metadata": {
        "id": "e_Zsj7Mu8U5B"
      }
    },
    {
      "cell_type": "markdown",
      "source": [
        "The def keyword with the function name is used to define a function.\n",
        "\n"
      ],
      "metadata": {
        "id": "46vqtUQB8wCg"
      }
    },
    {
      "cell_type": "code",
      "source": [
        "def odd_number():\n",
        "    new_list = []\n",
        "    for i in range(1,25) :\n",
        "        if i % 2 != 0 :\n",
        "            new_list.append(i)\n",
        "    return new_list\n",
        "print(odd_number())"
      ],
      "metadata": {
        "colab": {
          "base_uri": "https://localhost:8080/"
        },
        "id": "7VVVEpDO92dC",
        "outputId": "fd94eae4-408e-4e01-b82c-af96639d4fb4"
      },
      "execution_count": null,
      "outputs": [
        {
          "output_type": "stream",
          "name": "stdout",
          "text": [
            "[1, 3, 5, 7, 9, 11, 13, 15, 17, 19, 21, 23]\n"
          ]
        }
      ]
    },
    {
      "cell_type": "markdown",
      "source": [
        "In the above program , odd_number is the function name. And for defining the the function we have used the keyword \"def\""
      ],
      "metadata": {
        "id": "JSFmvF_B26hT"
      }
    },
    {
      "cell_type": "markdown",
      "source": [
        "Q2. Why *args and **kwargs is used in some functions? Create a function each for *args and **kwargs to \n",
        "demonstrate their use."
      ],
      "metadata": {
        "id": "9n8iUUmM22ex"
      }
    },
    {
      "cell_type": "markdown",
      "source": [
        "We use *args and **kwargs as an argument when we are unsure about the number of arguments to pass in the functions.\n",
        " we are not sure about the number of arguments that can be passed to a function. Python has *args which allow us to pass the variable number of non keyword arguments to function.\n",
        "\n",
        "In the function, we should use an asterisk * before the parameter name to pass variable length arguments.The arguments are passed as a tuple and these passed arguments make tuple inside the function with same name as the parameter excluding asterisk *."
      ],
      "metadata": {
        "id": "-teA8myb3x-Z"
      }
    },
    {
      "cell_type": "code",
      "source": [
        "def adder(*num):\n",
        "    sum = 0\n",
        "    \n",
        "    for n in num:\n",
        "        sum = sum + n\n",
        "\n",
        "    print(\"Sum:\",sum)\n",
        "\n",
        "adder(3,5)\n",
        "adder(4,5,6,7)\n",
        "adder(1,2,3,5,6)"
      ],
      "metadata": {
        "colab": {
          "base_uri": "https://localhost:8080/"
        },
        "id": "asLj0iqW39Wq",
        "outputId": "6681e287-1305-46b3-a934-7c5f1fa0749a"
      },
      "execution_count": 1,
      "outputs": [
        {
          "output_type": "stream",
          "name": "stdout",
          "text": [
            "Sum: 8\n",
            "Sum: 22\n",
            "Sum: 17\n"
          ]
        }
      ]
    },
    {
      "cell_type": "markdown",
      "source": [
        "In the above program, we used *num as a parameter which allows us to pass variable length argument list to the adder() function. Inside the function, we have a loop which adds the passed argument and prints the result. We passed 3 different tuples with variable length as an argument to the function."
      ],
      "metadata": {
        "id": "sfRmjeuoCJ38"
      }
    },
    {
      "cell_type": "markdown",
      "source": [
        "**kwargs"
      ],
      "metadata": {
        "id": "QKSF-rq2C5Dy"
      }
    },
    {
      "cell_type": "markdown",
      "source": [
        "Python passes variable length non keyword argument to function using *args but we cannot use this to pass keyword argument. For this problem Python has got a solution called **kwargs, it allows us to pass the variable length of keyword arguments to the function.\n",
        "\n",
        "In the function, we use the double asterisk ** before the parameter name to denote this type of argument. The arguments are passed as a dictionary and these arguments make a dictionary inside function with name same as the parameter excluding double asterisk **."
      ],
      "metadata": {
        "id": "RKY7eW-yCxzq"
      }
    },
    {
      "cell_type": "code",
      "source": [
        "def myFun(**kwargs):\n",
        "    for key, value in kwargs.items():\n",
        "        print(\"%s == %s\" % (key, value))\n",
        "  \n",
        "  \n",
        "# Driver code\n",
        "myFun(first='Master', mid='Data', last='Science')"
      ],
      "metadata": {
        "colab": {
          "base_uri": "https://localhost:8080/"
        },
        "id": "TLsv0eLLC0Q9",
        "outputId": "58699667-aa0f-498a-e439-d73d263c24b7"
      },
      "execution_count": 7,
      "outputs": [
        {
          "output_type": "stream",
          "name": "stdout",
          "text": [
            "first == Master\n",
            "mid == Data\n",
            "last == Science\n"
          ]
        }
      ]
    },
    {
      "cell_type": "markdown",
      "source": [
        "Q3.  What is an iterator in python? Name the method used to initialise the iterator object and the method \n",
        "used for iteration. Use these methods to print the first five elements of the given list [2, 4, 6, 8, 10, 12, 14, 16, \n",
        "18, 20]."
      ],
      "metadata": {
        "id": "r5QF_PVAEI0r"
      }
    },
    {
      "cell_type": "markdown",
      "source": [
        "An iterator is an object that contains a countable number of values.\n",
        "\n",
        "An iterator is an object that can be iterated upon, meaning that you can traverse through all the values.\n",
        "\n",
        "In Python, iterator which consist of the methods __iter__() and __next__().\n",
        "1. __iter__()- used to get an iterator.\n",
        "2. __next__() - used for iteration.\n"
      ],
      "metadata": {
        "id": "31SHqvmUHbn6"
      }
    },
    {
      "cell_type": "code",
      "source": [
        "l=[2, 4, 6, 8, 10, 12, 14, 16, 18, 20]\n",
        "first_five= iter(l)\n",
        "print(next(first_five))\n",
        "print(next(first_five))\n",
        "print(next(first_five))\n",
        "print(next(first_five))\n",
        "print(next(first_five))"
      ],
      "metadata": {
        "colab": {
          "base_uri": "https://localhost:8080/"
        },
        "id": "r1SEQcF8HcYv",
        "outputId": "cbfc22a0-e78a-4139-a2a9-5311de83222c"
      },
      "execution_count": 3,
      "outputs": [
        {
          "output_type": "stream",
          "name": "stdout",
          "text": [
            "2\n",
            "4\n",
            "6\n",
            "8\n",
            "10\n"
          ]
        }
      ]
    },
    {
      "cell_type": "markdown",
      "source": [
        "Q4.  What is a generator function in python? Why yield keyword is used? Give an example of a generator \n",
        "function."
      ],
      "metadata": {
        "id": "3YcrwbwjItIY"
      }
    },
    {
      "cell_type": "code",
      "source": [],
      "metadata": {
        "id": "jdLzmlwrIvee"
      },
      "execution_count": null,
      "outputs": []
    },
    {
      "cell_type": "markdown",
      "source": [
        "A generator-function is defined like a normal function, but whenever it needs to generate a value, it does so with the yield keyword rather than return. If the body of a def contains yield, the function automatically becomes a generator function. \n",
        "\n",
        "Yield can produce a sequence of values. We should use yield when we want to iterate over a sequence, but don’t want to store the entire sequence in memory."
      ],
      "metadata": {
        "id": "W3wbr-7dO_dU"
      }
    },
    {
      "cell_type": "code",
      "source": [
        "def nextSquare():\n",
        "    i = 1\n",
        "    while True:\n",
        "        yield i*i\n",
        "        i += 1\n",
        "\n",
        "for num in nextSquare():\n",
        "    if num > 5:\n",
        "        break\n",
        "    print(num)"
      ],
      "metadata": {
        "colab": {
          "base_uri": "https://localhost:8080/"
        },
        "id": "MBfnLDtIP30a",
        "outputId": "82f575de-1f83-4d49-c37a-1ecf97c3fe5f"
      },
      "execution_count": 5,
      "outputs": [
        {
          "output_type": "stream",
          "name": "stdout",
          "text": [
            "1\n",
            "4\n"
          ]
        }
      ]
    },
    {
      "cell_type": "markdown",
      "source": [
        "Q5. Create a generator function for prime numbers less than 1000. Use the next() method to print the \n",
        "first 20 prime numbers"
      ],
      "metadata": {
        "id": "MIzinxFCQZ-o"
      }
    },
    {
      "cell_type": "code",
      "source": [
        "def prime_number():\n",
        "    i_prime = []\n",
        "    for k in range(2,1000):\n",
        "        for p in i_prime:\n",
        "            if k % p == 0:\n",
        "                break\n",
        "        else:\n",
        "            i_prime.append(k)\n",
        "            yield k\n",
        "            \n",
        "n = prime_number()\n",
        "for i in range(20):\n",
        "    print(next(n))"
      ],
      "metadata": {
        "colab": {
          "base_uri": "https://localhost:8080/"
        },
        "id": "jF8oAr2eP_ji",
        "outputId": "5cebcade-238c-47d6-f630-517831c421d6"
      },
      "execution_count": 6,
      "outputs": [
        {
          "output_type": "stream",
          "name": "stdout",
          "text": [
            "2\n",
            "3\n",
            "5\n",
            "7\n",
            "11\n",
            "13\n",
            "17\n",
            "19\n",
            "23\n",
            "29\n",
            "31\n",
            "37\n",
            "41\n",
            "43\n",
            "47\n",
            "53\n",
            "59\n",
            "61\n",
            "67\n",
            "71\n"
          ]
        }
      ]
    },
    {
      "cell_type": "code",
      "source": [],
      "metadata": {
        "id": "I6OI5-s2cRlM"
      },
      "execution_count": null,
      "outputs": []
    }
  ]
}