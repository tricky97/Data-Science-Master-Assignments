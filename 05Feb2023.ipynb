{
  "nbformat": 4,
  "nbformat_minor": 0,
  "metadata": {
    "colab": {
      "provenance": []
    },
    "kernelspec": {
      "name": "python3",
      "display_name": "Python 3"
    },
    "language_info": {
      "name": "python"
    }
  },
  "cells": [
    {
      "cell_type": "markdown",
      "source": [
        "Q1. Explain Class and Object with respect to Object-Oriented Programming. Give a suitable example."
      ],
      "metadata": {
        "id": "YT3BBvFLSRyr"
      }
    },
    {
      "cell_type": "markdown",
      "source": [
        "A class is a user-defined blueprint or prototype from which objects are created. Classes provide a means of bundling data and functionality together. Creating a new class creates a new type of object, allowing new instances of that type to be made. Each class instance can have attributes attached to it for maintaining its state. \n",
        "\n",
        "An Object is an instance of a Class. A class is like a blueprint while an instance is a copy of the class with actual values.\n",
        "\n",
        "class Dog:\n",
        " \n",
        "   \n",
        "    attr1 = \"mammal\"\n",
        "    attr2 = \"dog\"\n",
        " \n",
        "  \n",
        "    def fun(self):\n",
        "        print(\"I'm a\", self.attr1)\n",
        "        print(\"I'm a\", self.attr2)\n",
        " \n",
        " \n",
        "\n",
        "Rodger = Dog()  --- object (Rodger)  ---class (Dog)\n",
        " \n",
        "print(Rodger.attr1)\n",
        "\n",
        "Rodger.fun()\n",
        "\n",
        "\n",
        "In the above example, an object is created which is basically a dog named Rodger. This class only has two class attributes that tell us that Rodger is a dog and a mammal."
      ],
      "metadata": {
        "id": "sBD7FXh9TER0"
      }
    },
    {
      "cell_type": "markdown",
      "source": [
        "Q2. Name the four pillars of OOPs"
      ],
      "metadata": {
        "id": "dyVv-YGUTv78"
      }
    },
    {
      "cell_type": "markdown",
      "source": [
        "Like other Object-Oriented languages, when creating objects using classes, there are four(4) basic principles for writing clean and concise code. These principles are called the four pillars of object-oriented programming (OOP). \n",
        "These four pillars are: \n",
        "1. Inheritance\n",
        "2. Polymorphism\n",
        "3. Encapsulation \n",
        "4. Abstraction"
      ],
      "metadata": {
        "id": "kUsW2WMXT6fE"
      }
    },
    {
      "cell_type": "markdown",
      "source": [
        "Q3. Explain why the __init__() function is used. Give a suitable example."
      ],
      "metadata": {
        "id": "F-Myk2YwVCBM"
      }
    },
    {
      "cell_type": "markdown",
      "source": [
        "The examples above are classes and objects in their simplest form, and are not really useful in real life applications.\n",
        "\n",
        "To understand the meaning of classes we have to understand the built-in __init__() function.\n",
        "\n",
        "All classes have a function called __init__(), which is always executed when the class is being initiated.\n",
        "\n",
        "Use the __init__() function to assign values to object properties, or other operations that are necessary to do when the object is being created:\n",
        "Example:"
      ],
      "metadata": {
        "id": "A3PPIlzKVEAt"
      }
    },
    {
      "cell_type": "code",
      "source": [
        "class Person:\n",
        "  def __init__(self, name, age):\n",
        "    self.name = name\n",
        "    self.age = age\n",
        "\n",
        "p1 = Person(\"John\", 36)\n",
        "\n",
        "print(p1.name)\n",
        "print(p1.age)"
      ],
      "metadata": {
        "colab": {
          "base_uri": "https://localhost:8080/"
        },
        "id": "naKlR5aWVPux",
        "outputId": "f28d47e9-1fbc-4d81-c821-3b9c0e4dbb47"
      },
      "execution_count": 1,
      "outputs": [
        {
          "output_type": "stream",
          "name": "stdout",
          "text": [
            "John\n",
            "36\n"
          ]
        }
      ]
    },
    {
      "cell_type": "markdown",
      "source": [
        "Q4. Why self is used in OOPs?"
      ],
      "metadata": {
        "id": "JW5wl1HXXj1c"
      }
    },
    {
      "cell_type": "markdown",
      "source": [
        " Self represents the instance of the class. By using the “self”  we can access the attributes and methods of the class in python. It binds the attributes with the given arguments."
      ],
      "metadata": {
        "id": "aCj7KaM-XkM0"
      }
    },
    {
      "cell_type": "markdown",
      "source": [
        "Q5. What is inheritance? Give an example for each type of inheritance.\n"
      ],
      "metadata": {
        "id": "ro0ard8oXzXc"
      }
    },
    {
      "cell_type": "markdown",
      "source": [
        "Inheritance is defined as the mechanism of inheriting the properties of the base class to the child class. Here we a going to see the types of inheritance in Python.\n",
        "Types of Inheritance depend upon the number of child and parent classes involved. There are four types of inheritance in Python:\n",
        "\n",
        "Single Inheritance: \n"
      ],
      "metadata": {
        "id": "APbPvQp_YBuM"
      }
    },
    {
      "cell_type": "code",
      "source": [
        "# Base class\n",
        "class Parent:\n",
        "    def func1(self):\n",
        "        print(\"This function is in parent class.\")\n",
        " \n",
        "# Derived class\n",
        " \n",
        " \n",
        "class Child(Parent):\n",
        "    def func2(self):\n",
        "        print(\"This function is in child class.\")\n",
        " \n",
        "object = Child()\n",
        "object.func1()\n",
        "\n",
        "\n",
        "\n"
      ],
      "metadata": {
        "colab": {
          "base_uri": "https://localhost:8080/"
        },
        "id": "WqpVrKnPX3j0",
        "outputId": "51709062-ba98-4cb6-af1f-179eab5336df"
      },
      "execution_count": 2,
      "outputs": [
        {
          "output_type": "stream",
          "name": "stdout",
          "text": [
            "This function is in parent class.\n"
          ]
        }
      ]
    },
    {
      "cell_type": "markdown",
      "source": [
        "Multiple Inheritance: \n"
      ],
      "metadata": {
        "id": "HVzs1q__Y4az"
      }
    },
    {
      "cell_type": "code",
      "source": [
        "# Base class1\n",
        "class Mother:\n",
        "    mothername = \"\"\n",
        " \n",
        "    def mother(self):\n",
        "        print(self.mothername)\n",
        " \n",
        "# Base class2\n",
        " \n",
        " \n",
        "class Father:\n",
        "    fathername = \"\"\n",
        " \n",
        "    def father(self):\n",
        "        print(self.fathername)\n",
        " \n",
        "# Derived class\n",
        " \n",
        " \n",
        "class Son(Mother, Father):\n",
        "    def parents(self):\n",
        "        print(\"Father :\", self.fathername)\n",
        "        print(\"Mother :\", self.mothername)\n",
        " \n",
        "s1 = Son()\n",
        "s1.fathername = \"RAM\"\n",
        "s1.mothername = \"SITA\"\n",
        "s1.parents()\n",
        "\n"
      ],
      "metadata": {
        "colab": {
          "base_uri": "https://localhost:8080/"
        },
        "id": "3-xUnWfJY02S",
        "outputId": "c76f7938-55fb-4dc4-cc85-5734faa33e3c"
      },
      "execution_count": 3,
      "outputs": [
        {
          "output_type": "stream",
          "name": "stdout",
          "text": [
            "Father : RAM\n",
            "Mother : SITA\n"
          ]
        }
      ]
    },
    {
      "cell_type": "markdown",
      "source": [
        "Multilevel Inheritance :\n"
      ],
      "metadata": {
        "id": "eX7cA79IZKwT"
      }
    },
    {
      "cell_type": "code",
      "source": [
        "class Grandfather:\n",
        " \n",
        "    def __init__(self, grandfathername):\n",
        "        self.grandfathername = grandfathername\n",
        " \n",
        "# Intermediate class\n",
        " \n",
        " \n",
        "class Father(Grandfather):\n",
        "    def __init__(self, fathername, grandfathername):\n",
        "        self.fathername = fathername\n",
        " \n",
        "        # invoking constructor of Grandfather class\n",
        "        Grandfather.__init__(self, grandfathername)\n",
        " \n",
        "# Derived class\n",
        " \n",
        " \n",
        "class Son(Father):\n",
        "    def __init__(self, sonname, fathername, grandfathername):\n",
        "        self.sonname = sonname\n",
        " \n",
        "        # invoking constructor of Father class\n",
        "        Father.__init__(self, fathername, grandfathername)\n",
        " \n",
        "    def print_name(self):\n",
        "        print('Grandfather name :', self.grandfathername)\n",
        "        print(\"Father name :\", self.fathername)\n",
        "        print(\"Son name :\", self.sonname)\n",
        " \n",
        " \n",
        "s1 = Son('Prince', 'Rampal', 'Lal mani')\n",
        "print(s1.grandfathername)\n",
        "s1.print_name()\n",
        "\n"
      ],
      "metadata": {
        "colab": {
          "base_uri": "https://localhost:8080/"
        },
        "id": "vCRcNIrHZH5Z",
        "outputId": "5de3e272-68e9-4665-f5a7-d026a647201d"
      },
      "execution_count": 4,
      "outputs": [
        {
          "output_type": "stream",
          "name": "stdout",
          "text": [
            "Lal mani\n",
            "Grandfather name : Lal mani\n",
            "Father name : Rampal\n",
            "Son name : Prince\n"
          ]
        }
      ]
    },
    {
      "cell_type": "markdown",
      "source": [
        "Hierarchical Inheritance: \n",
        "\n",
        "\n"
      ],
      "metadata": {
        "id": "8yMHzzfUaDsF"
      }
    },
    {
      "cell_type": "code",
      "source": [
        "# Base class\n",
        "class Parent:\n",
        "    def func1(self):\n",
        "        print(\"This function is in parent class.\")\n",
        " \n",
        "# Derived class1\n",
        " \n",
        " \n",
        "class Child1(Parent):\n",
        "    def func2(self):\n",
        "        print(\"This function is in child 1.\")\n",
        " \n",
        "# Derivied class2\n",
        " \n",
        " \n",
        "class Child2(Parent):\n",
        "    def func3(self):\n",
        "        print(\"This function is in child 2.\")\n",
        " \n",
        " \n",
        "# Driver's code\n",
        "object1 = Child1()\n",
        "object2 = Child2()\n",
        "object1.func1()\n",
        "object1.func2()\n",
        "object2.func1()\n",
        "object2.func3()"
      ],
      "metadata": {
        "colab": {
          "base_uri": "https://localhost:8080/"
        },
        "id": "TlE9ais1Z-4g",
        "outputId": "acde6aa4-d2c6-46bd-c686-50204faf5820"
      },
      "execution_count": 5,
      "outputs": [
        {
          "output_type": "stream",
          "name": "stdout",
          "text": [
            "This function is in parent class.\n",
            "This function is in child 1.\n",
            "This function is in parent class.\n",
            "This function is in child 2.\n"
          ]
        }
      ]
    },
    {
      "cell_type": "markdown",
      "source": [
        "Hybrid Inheritance: "
      ],
      "metadata": {
        "id": "NBLAcXPtaVzj"
      }
    },
    {
      "cell_type": "code",
      "source": [
        "class School:\n",
        "    def func1(self):\n",
        "        print(\"This function is in school.\")\n",
        " \n",
        " \n",
        "class Student1(School):\n",
        "    def func2(self):\n",
        "        print(\"This function is in student 1. \")\n",
        " \n",
        " \n",
        "class Student2(School):\n",
        "    def func3(self):\n",
        "        print(\"This function is in student 2.\")\n",
        " \n",
        " \n",
        "class Student3(Student1, School):\n",
        "    def func4(self):\n",
        "        print(\"This function is in student 3.\")\n",
        " \n",
        " \n",
        "\n",
        "object = Student3()\n",
        "object.func1()\n",
        "object.func2()"
      ],
      "metadata": {
        "colab": {
          "base_uri": "https://localhost:8080/"
        },
        "id": "iuqL2obPaTR1",
        "outputId": "a56b5abd-aab0-418e-f787-9c8a793fd7a7"
      },
      "execution_count": 7,
      "outputs": [
        {
          "output_type": "stream",
          "name": "stdout",
          "text": [
            "This function is in school.\n",
            "This function is in student 1. \n"
          ]
        }
      ]
    },
    {
      "cell_type": "code",
      "source": [],
      "metadata": {
        "id": "0XtajKobaZ-p"
      },
      "execution_count": null,
      "outputs": []
    }
  ]
}