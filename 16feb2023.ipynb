{
  "nbformat": 4,
  "nbformat_minor": 0,
  "metadata": {
    "colab": {
      "provenance": []
    },
    "kernelspec": {
      "name": "python3",
      "display_name": "Python 3"
    },
    "language_info": {
      "name": "python"
    }
  },
  "cells": [
    {
      "cell_type": "code",
      "execution_count": null,
      "metadata": {
        "id": "0NUvHiwhDlFo"
      },
      "outputs": [],
      "source": []
    },
    {
      "cell_type": "markdown",
      "source": [
        "Q1. What is a database? Differentiate between SQL and NoSQL databases."
      ],
      "metadata": {
        "id": "fMW2nBujDl6X"
      }
    },
    {
      "cell_type": "markdown",
      "source": [
        "A database is an organized collection of structured information, or data, typically stored electronically in a computer system. A database is usually controlled by a database management system (DBMS).\n",
        "\n",
        "-------------------------------------------------------------------\n",
        "Databases are categorized as Relational Database Management System (RDBMS).\n",
        "\n",
        "SQL databases are best suited for complex queries.\n",
        "\n",
        "SQL databases display data in form of tables so it is known as table-based database.\n",
        "\n",
        "SQL databases use a powerful language \"Structured Query Language\" to define and manipulate the data.\n",
        "\n",
        "\tMySQL, Oracle, Sqlite, PostgreSQL and MS-SQL\n",
        "\n",
        "-------------------------------------------------------------------\n",
        "\n",
        "NoSQL databases are categorized as Non-relational or distributed database system.\n",
        "\n",
        "NoSQL databases are not so good for complex queries because these are not as powerful as SQL queries.\n",
        "\n",
        "In NoSQL databases, collection of documents are used to query the data. It is also called unstructured query language. It varies from database to database.\n",
        "\n",
        "NoSQL databases are best suited for hierarchical data storage.\n",
        "\n",
        " MongoDB, BigTable, Redis, RavenDB"
      ],
      "metadata": {
        "id": "wgNfsbLsD_1l"
      }
    },
    {
      "cell_type": "markdown",
      "source": [
        "Q2. What is DDL? Explain why CREATE, DROP, ALTER, and TRUNCATE are used with an example."
      ],
      "metadata": {
        "id": "rTnLsLt6FOBu"
      }
    },
    {
      "cell_type": "markdown",
      "source": [
        "DDL statements are similar to a computer programming language for defining data structures, especially database schemas.\n",
        "Data definition language (DDL) describes the portion of SQL that creates, alters, and deletes database objects. \n",
        "\n",
        " DDL command:\n",
        "\n",
        "--------------------------------------------------------------\n",
        "\n",
        "CREATE TABLE Student.\n",
        "(\n",
        "Roll_No. Int ,\n",
        "First_Name Varchar (20) ,\n",
        "Last_Name Varchar (20) ,\n",
        "Age Int ,\n",
        "Marks Int ,\n",
        ") ;\n",
        "\n",
        "\n",
        "This command is used to create a new table in SQL. The user has to give information like table name, column names, and their datatypes\n",
        "\n",
        "---------------------------------------------------------------\n",
        "\n",
        "ALTER TABLE Student\n",
        "ADD Grade Varchar(5);\n",
        "\n",
        "This command is used to add, delete or change columns in the existing table. The user needs to know the existing table name and can do add, delete or modify tasks easily.\n",
        "\n",
        "---------------------------------------------------------------\n",
        "\n",
        "TRUNCATE TABLE Student;\n",
        "\n",
        "This command is used to remove all rows from the table, but the structure of the table still exists.\n",
        "\n",
        "---------------------------------------------------------------\n",
        "\n",
        "DROP TABLE Student;\n",
        "\n",
        "This command is used to remove an existing table along with its structure from the Database."
      ],
      "metadata": {
        "id": "LxGnWJlfFS-B"
      }
    },
    {
      "cell_type": "markdown",
      "source": [],
      "metadata": {
        "id": "X2vc6XJmHeMl"
      }
    },
    {
      "cell_type": "markdown",
      "source": [
        "Q3. What is DML? Explain INSERT, UPDATE, and DELETE with an example."
      ],
      "metadata": {
        "id": "Ti7KVNKUHeS9"
      }
    },
    {
      "cell_type": "markdown",
      "source": [
        "A DML (data manipulation language) refers to a computer programming language that allows you to add (insert), delete (delete), and alter (update) data in a database. \n",
        "\n",
        "\n",
        "1.The INSERT statement introduces new rows into an existing table.\n",
        "\n",
        "2.The DELETE statement removes a row or combination of rows from a table.\n",
        "\n",
        "3.The UPDATE statement enables users to update a row or group of rows in a table.\n",
        "\n",
        "----------------------------------------------------------------\n",
        "\n",
        "INSERT INTO Students(StudentId, StudentName, DepartmentId, DateOfBirth)\n",
        "              VALUES(11, 'Ahmad', 4, '1997-10-12');\n",
        "\n",
        "INSERT INTO Students VALUES(12, 'Aly', 4, '1996-10-12');\n",
        "\n",
        "**************************************************************\n",
        "\n",
        "UPDATE Students\n",
        "SET DepartmentId = 3 \n",
        "WHERE StudentId = 6;\n",
        "\n",
        "**************************************************************\n",
        "\n",
        "DELETE FROM Students WHERE StudentId = 11 OR StudentId = 12;\n",
        "\n",
        "*****************************************************************\n",
        "\n"
      ],
      "metadata": {
        "id": "4WOe1oNfHlzT"
      }
    },
    {
      "cell_type": "markdown",
      "source": [
        "Q4. What is DQL? Explain SELECT with an example."
      ],
      "metadata": {
        "id": "IIdCoE5BKPej"
      }
    },
    {
      "cell_type": "code",
      "source": [],
      "metadata": {
        "id": "AZI-XgMqKSPW"
      },
      "execution_count": null,
      "outputs": []
    },
    {
      "cell_type": "markdown",
      "source": [
        "The full form of DQL is Data Query Language. DQL is a part of the grouping involved in SQL (Structures Query Language) sub-languages. \n",
        "\n",
        "DQL statements are used for performing queries on the data within schema objects.\n",
        "\n",
        "The SELECT statement is used to select data from a database.\n",
        "\n",
        "SELECT * FROM Student where course_name=\"pwskills\";"
      ],
      "metadata": {
        "id": "l9UbHMxoKTiH"
      }
    },
    {
      "cell_type": "code",
      "source": [],
      "metadata": {
        "id": "OZvUiQEeLWN0"
      },
      "execution_count": null,
      "outputs": []
    },
    {
      "cell_type": "markdown",
      "source": [
        "Q5. Explain Primary Key and Foreign Key."
      ],
      "metadata": {
        "id": "TnPKaFeDLata"
      }
    },
    {
      "cell_type": "markdown",
      "source": [
        "\n",
        "Primary key is used to uniquely identify a row\t\n",
        "A table can have only have one primary key\n",
        "#######################################################\n",
        "\n",
        "CREATE TABLE Student(\n",
        "  roll no int NOT NULL,\n",
        "  NAME varchar(255) NOT NULL,\n",
        "  Phone varchar(255),\n",
        "  ADDRESS varchar(255),\n",
        "  PRIMARY KEY (roll no)\n",
        "}\n",
        "##############################################################\n",
        "\n",
        "Foreign key is used to connect two tables or maintain the relationship between them\n",
        "A table can have multiple foreign keys\n",
        "\n",
        "##############################################################\n",
        "\n",
        "CREATE TABLE Performance (\n",
        "  PID int NOT NULL,\n",
        "  Subject Name varchar(255) NOT NULL,\n",
        "  Marks int,\n",
        "  PRIMARY KEY (PID),\n",
        "  FOREIGN KEY (roll no) REFERENCES Student(roll no)\n",
        ");\n",
        "\n",
        "##############################################################\n"
      ],
      "metadata": {
        "id": "yeM96pDqLcZe"
      }
    },
    {
      "cell_type": "markdown",
      "source": [
        "Q6. Write a python code to connect MySQL to python. Explain the cursor() and execute() method."
      ],
      "metadata": {
        "id": "V46YzOU4N47f"
      }
    },
    {
      "cell_type": "markdown",
      "source": [
        "cursor()-\n",
        "You can create Cursor object using the cursor() method of the Connection object/class.\n",
        "\n",
        "\t\n",
        "execute()-This method accepts a MySQL query as a parameter and executes the given query."
      ],
      "metadata": {
        "id": "60UcevSROSS9"
      }
    },
    {
      "cell_type": "code",
      "source": [],
      "metadata": {
        "id": "DTx2Q64UNzBt"
      },
      "execution_count": null,
      "outputs": []
    },
    {
      "cell_type": "markdown",
      "source": [
        "import mysql.connector\n",
        "\n",
        "from mysql.connector import Error\n",
        "\n",
        "\n",
        "try:\n",
        "\n",
        "    connection = mysql.connector.connect(host='localhost',\n",
        "                                         database='Electronics',\n",
        "                                         user='ankit',\n",
        "                                         password='ankit@#29')\n",
        "\n",
        "    if connection.is_connected():\n",
        "\n",
        "        db_Info = connection.get_server_info()\n",
        "\n",
        "        print(\"Connected to MySQL Server version \", db_Info)\n",
        "\n",
        "        cursor = connection.cursor()\n",
        "\n",
        "        cursor.execute(\"select database();\")\n",
        "\n",
        "        record = cursor.fetchone()\n",
        "\n",
        "        print(\"You're connected to database: \", record)\n",
        "\n",
        "except Error as e:\n",
        "\n",
        "    print(\"Error while connecting to MySQL\", e)\n",
        "\n",
        "finally:\n",
        "\n",
        "    if connection.is_connected():\n",
        "\n",
        "        cursor.close()\n",
        "\n",
        "        connection.close()\n",
        "\n",
        "        print(\"MySQL connection is closed\")"
      ],
      "metadata": {
        "id": "O50VJKLUPbfe"
      }
    },
    {
      "cell_type": "code",
      "source": [],
      "metadata": {
        "id": "2C6yekqrPcJa"
      },
      "execution_count": null,
      "outputs": []
    },
    {
      "cell_type": "markdown",
      "source": [
        "Q7. Give the order of execution of SQL clauses in an SQL query."
      ],
      "metadata": {
        "id": "X-lytstwPy_u"
      }
    },
    {
      "cell_type": "markdown",
      "source": [
        "The order in which the clauses in queries are executed is as follows:\n",
        "\n",
        "1. FROM/JOIN: The FROM and/or JOIN clauses are executed first to determine the data of interest.\n",
        "\n",
        "2. WHERE: The WHERE clause is executed to filter out records that do not meet the constraints.\n",
        "\n",
        "3. GROUP BY: The GROUP BY clause is executed to group the data based on the values in one or more columns.\n",
        "\n",
        "4. HAVING: The HAVING clause is executed to remove the created grouped records that don’t meet the constraints.\n",
        "\n",
        "5. SELECT: The SELECT clause is executed to derive all desired columns and expressions.\n",
        "\n",
        "6. ORDER BY: The ORDER BY clause is executed to sort the derived values in ascending or descending order.\n",
        "\n",
        "7. LIMIT/OFFSET: Finally, the LIMIT and/or OFFSET clauses are executed to keep or skip a specified number of rows."
      ],
      "metadata": {
        "id": "yKKsgTURPxve"
      }
    }
  ]
}