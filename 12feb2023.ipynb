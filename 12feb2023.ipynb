{
  "nbformat": 4,
  "nbformat_minor": 0,
  "metadata": {
    "colab": {
      "provenance": []
    },
    "kernelspec": {
      "name": "python3",
      "display_name": "Python 3"
    },
    "language_info": {
      "name": "python"
    }
  },
  "cells": [
    {
      "cell_type": "markdown",
      "source": [
        "Q1. What is an exception in python? Write the difference between Exceptions and syntax errors."
      ],
      "metadata": {
        "id": "opFJ6TyUggQZ"
      }
    },
    {
      "cell_type": "markdown",
      "source": [
        "Exceptions are the unusual event that occurs during the execution of the program that interrupts the normal flow of the program. Generally, exceptions occur when the code written encounters a situation it cannot cope with.\n",
        "\n",
        "For example, when we divide any number by zero then the ZeroDivisionError exception is raised.\n",
        "\n",
        "\n",
        "Errors are the problems in a program due to which the program will stop the execution. On the other hand, exceptions are raised when some internal events occur which changes the normal flow of the program. \n",
        "\n",
        "Two types of Error occurs in python. \n",
        " \n",
        "\n",
        "Syntax errors\n",
        "\n",
        "Logical errors (Exceptions) "
      ],
      "metadata": {
        "id": "0MDY_vxUjjSa"
      }
    },
    {
      "cell_type": "markdown",
      "source": [
        "Q2 What happens when an exception is not handled? Explain with an example."
      ],
      "metadata": {
        "id": "4H905s63kLMx"
      }
    },
    {
      "cell_type": "markdown",
      "source": [
        "If we do not include any code to handle the possible exception, then the program execution will get interrupted. Let us see a common example, where we try to print the value of the variable that is not present.\n",
        "\n",
        "Example:"
      ],
      "metadata": {
        "id": "86fjcUJYk1Kq"
      }
    },
    {
      "cell_type": "code",
      "source": [
        "num=10/0\n",
        "print(\"The number is:\",num)"
      ],
      "metadata": {
        "colab": {
          "base_uri": "https://localhost:8080/",
          "height": 190
        },
        "id": "cgPVDodqkGjD",
        "outputId": "6bb1b242-a141-4a54-bdbc-b5488ceb9317"
      },
      "execution_count": 2,
      "outputs": [
        {
          "output_type": "error",
          "ename": "ZeroDivisionError",
          "evalue": "ignored",
          "traceback": [
            "\u001b[0;31m---------------------------------------------------------------------------\u001b[0m",
            "\u001b[0;31mZeroDivisionError\u001b[0m                         Traceback (most recent call last)",
            "\u001b[0;32m<ipython-input-2-42d8a9c3aa26>\u001b[0m in \u001b[0;36m<module>\u001b[0;34m\u001b[0m\n\u001b[0;32m----> 1\u001b[0;31m \u001b[0mnum\u001b[0m\u001b[0;34m=\u001b[0m\u001b[0;36m10\u001b[0m\u001b[0;34m/\u001b[0m\u001b[0;36m0\u001b[0m\u001b[0;34m\u001b[0m\u001b[0;34m\u001b[0m\u001b[0m\n\u001b[0m\u001b[1;32m      2\u001b[0m \u001b[0mprint\u001b[0m\u001b[0;34m(\u001b[0m\u001b[0;34m\"The number is:\"\u001b[0m\u001b[0;34m,\u001b[0m\u001b[0mnum\u001b[0m\u001b[0;34m)\u001b[0m\u001b[0;34m\u001b[0m\u001b[0;34m\u001b[0m\u001b[0m\n",
            "\u001b[0;31mZeroDivisionError\u001b[0m: division by zero"
          ]
        }
      ]
    },
    {
      "cell_type": "markdown",
      "source": [
        "Q3 Which python statements are used to catch and handled? Explain with an example."
      ],
      "metadata": {
        "id": "myGNiF0platr"
      }
    },
    {
      "cell_type": "markdown",
      "source": [
        "Try and except statements are used to catch and handle exceptions in Python. Statements that can raise exceptions are kept inside the try clause and the statements that handle the exception are written inside except clause.\n",
        "\n",
        "Example:"
      ],
      "metadata": {
        "id": "cKlx3WGKlrCf"
      }
    },
    {
      "cell_type": "code",
      "source": [
        "(a,b) = (6,0)\n",
        "try:\n",
        "    g = a/b\n",
        "except ZeroDivisionError:\n",
        "    print (\"This is a DIVIDED BY ZERO error\")"
      ],
      "metadata": {
        "colab": {
          "base_uri": "https://localhost:8080/"
        },
        "id": "_MdCXKKTk8ic",
        "outputId": "ebfca4dd-3a3c-4037-97fc-3871ee53c3cc"
      },
      "execution_count": 3,
      "outputs": [
        {
          "output_type": "stream",
          "name": "stdout",
          "text": [
            "This is a DIVIDED BY ZERO error\n"
          ]
        }
      ]
    },
    {
      "cell_type": "markdown",
      "source": [
        "Q4 Explain with an example:\n",
        "\n",
        "a. try and else\n",
        "\n",
        "b.finally\n",
        "\n",
        "c.raise"
      ],
      "metadata": {
        "id": "5e-7NqQtmWE7"
      }
    },
    {
      "cell_type": "markdown",
      "source": [
        "Try: This block will test the excepted error to occur\n",
        "\n",
        "Else: If there is no exception then this block will be executed\n",
        "\n",
        "Example:\n",
        "\n"
      ],
      "metadata": {
        "id": "FDJn0ARVmzsR"
      }
    },
    {
      "cell_type": "code",
      "source": [
        "def divide(x, y):\n",
        "    try:\n",
        "        \n",
        "        result = x // y\n",
        "        print(\"Yeah ! Your answer is :\", result)\n",
        "    except ZeroDivisionError:\n",
        "        print(\"Sorry ! You are dividing by zero \")\n",
        "\n",
        "    else:\n",
        "      print(\" Try block executed-Else block will execute only when no exception occurs.  \")\n",
        "   \n",
        "\n",
        "divide(3, 2)"
      ],
      "metadata": {
        "colab": {
          "base_uri": "https://localhost:8080/"
        },
        "id": "6Z9umy5XmDgV",
        "outputId": "ae02d449-021c-4cd3-8079-c4875d439377"
      },
      "execution_count": 7,
      "outputs": [
        {
          "output_type": "stream",
          "name": "stdout",
          "text": [
            "Yeah ! Your answer is : 1\n",
            " Try block executed-Else block will execute only when no exception occurs.  \n"
          ]
        }
      ]
    },
    {
      "cell_type": "markdown",
      "source": [
        "Python provides a keyword **finally**, which is always executed after try and except blocks. The finally block always executes after normal termination of try block or after try block terminates due to some exception. Even if you return in the except block still the finally block will execute"
      ],
      "metadata": {
        "id": "2erKpCJZoEhy"
      }
    },
    {
      "cell_type": "code",
      "source": [
        "def divide(x, y):\n",
        "    try:\n",
        "        \n",
        "        result = x // y\n",
        "        print(\"Yeah ! Your answer is :\", result)\n",
        "    except ZeroDivisionError:\n",
        "        print(\"Sorry ! You are dividing by zero \")\n",
        "\n",
        "    else:\n",
        "      print(\" Try block executed-Else block will execute only when no exception occurs.  \")\n",
        "\n",
        "    finally:\n",
        "      print(\"This block always executed\")\n",
        "\n",
        "divide(3, 2)"
      ],
      "metadata": {
        "colab": {
          "base_uri": "https://localhost:8080/"
        },
        "id": "JCu1AM8mnL5_",
        "outputId": "13384e36-ad71-4bef-b5ce-46097c5bab6f"
      },
      "execution_count": 8,
      "outputs": [
        {
          "output_type": "stream",
          "name": "stdout",
          "text": [
            "Yeah ! Your answer is : 1\n",
            " Try block executed-Else block will execute only when no exception occurs.  \n",
            "This block always executed\n"
          ]
        }
      ]
    },
    {
      "cell_type": "markdown",
      "source": [
        "Python raise Keyword is used to raise exceptions or errors. The raise keyword raises an error and stops the control flow of the program.\n",
        "\n",
        "raise  {name_of_ the_ exception_class}"
      ],
      "metadata": {
        "id": "IHL2BwE9ohjy"
      }
    },
    {
      "cell_type": "code",
      "source": [
        "try:\n",
        "    raise ValueError('The value error exception', 'x', 'y')\n",
        "except ValueError as ex:\n",
        "    print(ex.args)"
      ],
      "metadata": {
        "colab": {
          "base_uri": "https://localhost:8080/"
        },
        "id": "1oy2jwGXoUct",
        "outputId": "b67dd5e9-644b-4edf-a6ac-e0813410a9b2"
      },
      "execution_count": 9,
      "outputs": [
        {
          "output_type": "stream",
          "name": "stdout",
          "text": [
            "('The value error exception', 'x', 'y')\n"
          ]
        }
      ]
    },
    {
      "cell_type": "markdown",
      "source": [
        "Q5 What are custom exceptions in python?Why do we need custom exceptions?Explain with an example."
      ],
      "metadata": {
        "id": "wN6eua-YpFlX"
      }
    },
    {
      "cell_type": "markdown",
      "source": [
        "To improve readability of your code.\n",
        "\n",
        "To enhance reusability of features.\n",
        "\n",
        "To provide custom messages/instructions to users for specific use cases."
      ],
      "metadata": {
        "id": "t8WnD2cVpvhw"
      }
    },
    {
      "cell_type": "code",
      "source": [
        "class InvalidAgeException(Exception):\n",
        "    \"Raised when the input value is less than 18\"\n",
        "    pass\n",
        "\n",
        "number = 18\n",
        "\n",
        "try:\n",
        "    input_num = int(input(\"Enter a number: \"))\n",
        "    if input_num < number:\n",
        "        raise InvalidAgeException\n",
        "    else:\n",
        "        print(\"Eligible to Vote\")\n",
        "        \n",
        "except InvalidAgeException:\n",
        "    print(\"Exception occurred: Invalid Age\")"
      ],
      "metadata": {
        "colab": {
          "base_uri": "https://localhost:8080/"
        },
        "id": "mxp5OKUzo-1J",
        "outputId": "79fa94c5-3739-4f68-dbda-9e474857feae"
      },
      "execution_count": 11,
      "outputs": [
        {
          "output_type": "stream",
          "name": "stdout",
          "text": [
            "Enter a number: 15\n",
            "Exception occurred: Invalid Age\n"
          ]
        }
      ]
    },
    {
      "cell_type": "markdown",
      "source": [
        "Q6 Create custom exception class. Use this class to handel an exception"
      ],
      "metadata": {
        "id": "GfEFawc0q69w"
      }
    },
    {
      "cell_type": "markdown",
      "source": [
        "In this we created the custom exception class named InvalidAgeException "
      ],
      "metadata": {
        "id": "gx5uUclFr1fy"
      }
    },
    {
      "cell_type": "code",
      "source": [
        "class InvalidAgeException(Exception):\n",
        "    \"Raised when the input value is less than 18\"\n",
        "    pass\n",
        "\n",
        "number = 18\n",
        "\n",
        "try:\n",
        "    input_num = int(input(\"Enter a number: \"))\n",
        "    if input_num < number:\n",
        "        raise InvalidAgeException\n",
        "    else:\n",
        "        print(\"Eligible to Vote\")\n",
        "        \n",
        "except InvalidAgeException:\n",
        "    print(\"Exception occurred: Invalid Age\")"
      ],
      "metadata": {
        "colab": {
          "base_uri": "https://localhost:8080/"
        },
        "id": "a1rXup3lqOKt",
        "outputId": "ded8fa5c-b3ce-467b-de52-94b23a57a393"
      },
      "execution_count": 12,
      "outputs": [
        {
          "output_type": "stream",
          "name": "stdout",
          "text": [
            "Enter a number: 20\n",
            "Eligible to Vote\n"
          ]
        }
      ]
    },
    {
      "cell_type": "markdown",
      "source": [
        "When we give wrong value to the age (i.e. less than 18 ) it will raise an exception."
      ],
      "metadata": {
        "id": "nF3hPT8FsQJw"
      }
    },
    {
      "cell_type": "code",
      "source": [],
      "metadata": {
        "id": "wK79H5WPrqno"
      },
      "execution_count": null,
      "outputs": []
    }
  ]
}