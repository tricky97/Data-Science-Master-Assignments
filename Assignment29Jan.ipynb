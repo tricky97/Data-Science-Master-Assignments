{
 "cells": [
  {
   "cell_type": "markdown",
   "id": "13a1293c-7782-444a-8ab8-84422fe2dacd",
   "metadata": {},
   "source": [
    "## Q1 Who developed Python Programming Language ?"
   ]
  },
  {
   "cell_type": "markdown",
   "id": "349d6ca0-8e42-4f9b-a9ba-80cdb66310e8",
   "metadata": {},
   "source": [
    "### Ans-Python is developed by Guido van Rossum."
   ]
  },
  {
   "cell_type": "markdown",
   "id": "543488bb-af69-48f7-a72c-02dd5a34cf5f",
   "metadata": {},
   "source": [
    "## Q2 Which type of programming does Python support?"
   ]
  },
  {
   "cell_type": "markdown",
   "id": "2b217dcd-e99e-42e0-a7ea-3aaa9615b1da",
   "metadata": {},
   "source": [
    "### Ans- Python is an interpreted programming language, which supports object-oriented, structured, and functional programming"
   ]
  },
  {
   "cell_type": "markdown",
   "id": "6025b44a-0bb0-4327-8b6e-1e48000f083d",
   "metadata": {},
   "source": [
    "## Q3 Is Python case sensitive when dealing with identifiers?\n"
   ]
  },
  {
   "cell_type": "markdown",
   "id": "1c0ad48b-19cb-451c-b8fe-d1f3ae94bb00",
   "metadata": {},
   "source": [
    "### Ans- Case is always significant while dealing with identifiers in python"
   ]
  },
  {
   "cell_type": "markdown",
   "id": "c602b5a7-81f4-4ba6-8695-9b9e5c7881ae",
   "metadata": {},
   "source": [
    "## Q4 What is the correct extension of the Python file?"
   ]
  },
  {
   "cell_type": "markdown",
   "id": "48a09a0c-5787-42f5-8132-125b1de87dff",
   "metadata": {},
   "source": [
    "### Ans- ‘.py’ is the correct extension of the Python file.To save these programs we need to save in files with file extension ‘.py’"
   ]
  },
  {
   "cell_type": "markdown",
   "id": "98be557f-b005-42bf-85e7-1b1d38a933d4",
   "metadata": {},
   "source": [
    "## Q5 Is python code compiled or interpreted?"
   ]
  },
  {
   "cell_type": "markdown",
   "id": "7b0e4654-da19-4b97-bce1-8ad8987b4334",
   "metadata": {},
   "source": [
    "### Ans- Many languages have been implemented using both compilers and interpreters"
   ]
  },
  {
   "cell_type": "markdown",
   "id": "1a9ab605-035a-4af9-8fc9-749f855231f4",
   "metadata": {},
   "source": [
    "## Q6 Name a few blocks of code used to define in python language?\n"
   ]
  },
  {
   "cell_type": "markdown",
   "id": "dc35ee04-d435-4bac-b8fc-d82ba9b2d0ac",
   "metadata": {},
   "source": [
    "### Ans In Python, to define a block of code we use indentation."
   ]
  },
  {
   "cell_type": "markdown",
   "id": "f39f9118-c4f4-413e-b25d-d49a3ccc2f9c",
   "metadata": {},
   "source": [
    "## Q7 State a character used to give single-line comments in python?"
   ]
  },
  {
   "cell_type": "markdown",
   "id": "260ae4ac-3f49-4782-a4d4-1c38f301765f",
   "metadata": {},
   "source": [
    "### Ans \"#\" is used to give single-line comments in python. Python use the Hash character (#) at the beginning of the line. "
   ]
  },
  {
   "cell_type": "markdown",
   "id": "3ddaed58-0f0b-4bf8-8db5-5076cd238252",
   "metadata": {},
   "source": [
    "## Q8- Mention functions which can help us to find the version of python that we are currently working on?"
   ]
  },
  {
   "cell_type": "markdown",
   "id": "edefe522-09b5-4387-9e86-ed640b1a7b85",
   "metadata": {},
   "source": [
    "### Ans The function sys.version can help us to find the version of python that we are currently working on. It also contains information on the build number and compiler used."
   ]
  },
  {
   "cell_type": "markdown",
   "id": "0819f804-a3b0-46dd-aa9a-718ae6877cc0",
   "metadata": {},
   "source": [
    "## Q9- Python supports the creation of anonymous functions at runtime,using a construct called "
   ]
  },
  {
   "cell_type": "markdown",
   "id": "61a79580-ce11-499a-88e6-047c1ea35ab0",
   "metadata": {},
   "source": [
    "### Ans Python supports the creation of anonymous functions (i.e. functions that are not bound to a name) at runtime, using a construct called lambda."
   ]
  },
  {
   "cell_type": "markdown",
   "id": "438f0493-48ca-4c8f-a9d4-03383135cd8f",
   "metadata": {},
   "source": [
    "## Q10 What does pip stand for python?"
   ]
  },
  {
   "cell_type": "markdown",
   "id": "a2350120-e2b4-424c-8fc1-2e79309c3da8",
   "metadata": {},
   "source": [
    "### Ans pip also known as Preferred Installer Program is a package manager for python."
   ]
  },
  {
   "cell_type": "markdown",
   "id": "85143962-c2c7-48b6-a8ba-4b4d862f5875",
   "metadata": {},
   "source": [
    "## Q11 Mention a few built-in functions in python?"
   ]
  },
  {
   "cell_type": "markdown",
   "id": "6982401a-db61-475e-adf6-7b14ac68c66e",
   "metadata": {},
   "source": [
    "### Ans input(), print(), len(), range(), type() etc."
   ]
  },
  {
   "cell_type": "markdown",
   "id": "aeb15402-6a94-4820-a5b5-7452d7812d97",
   "metadata": {},
   "source": [
    "## Q12 What is the maximum possible length of an identifier in python?"
   ]
  },
  {
   "cell_type": "markdown",
   "id": "a33de470-83cb-476e-9f16-99d016ddf2ac",
   "metadata": {},
   "source": [
    "### Ans Identifiers can be of any length"
   ]
  },
  {
   "cell_type": "markdown",
   "id": "e11b8c65-8d90-4dd1-98d3-47eee249e51e",
   "metadata": {},
   "source": [
    "## Q13 What are the benefits of using Python?"
   ]
  },
  {
   "cell_type": "markdown",
   "id": "dd7ddd98-e22d-4c95-98a3-59028f3dea09",
   "metadata": {},
   "source": [
    "### Ans Python is good for mathematics, text processing, Rapid application development, cross platform development."
   ]
  },
  {
   "cell_type": "markdown",
   "id": "51546545-4bc3-47ca-ae42-b8e82d8dac3f",
   "metadata": {},
   "source": [
    "## Q14 How is memory managed in python?"
   ]
  },
  {
   "cell_type": "markdown",
   "id": "19a2b55d-3bfd-428e-8f6e-372f1d30d919",
   "metadata": {},
   "source": [
    "### Ans Memory management in Python involves a private heap containing all Python objects and data structures. The management of this private heap is ensured internally by the Python memory manager."
   ]
  },
  {
   "cell_type": "markdown",
   "id": "c274ba7f-1bb9-4f71-90fe-4874e80d3364",
   "metadata": {},
   "source": [
    "## Q15 How to install Python on Windows and set path variable?\n"
   ]
  },
  {
   "cell_type": "markdown",
   "id": "20692d68-2ce6-4b6a-87f8-2c25d7c31119",
   "metadata": {},
   "source": [
    "### \"\"\" Ans \n",
    "Installation of Python on Windows\n",
    "Download the Python installation file from https://www.python.org/downloads/\n",
    "Run Executable Installer.\n",
    "Verify Python Was Installed On Windows\n",
    "\n",
    "--------------------------------\n",
    "Set Path Variable\n",
    "Right-clicking This PC and going to Properties.\n",
    "\n",
    "Clicking on the Advanced system settings in the menu on the left.\n",
    "\n",
    "Clicking on the Environment Variables button on the bottom right.\n",
    "\n",
    "In the System variables section, selecting the Path variable and clicking on Edit. The next screen will show all the directories that are currently a part of the PATH variable.\n",
    "\n",
    "Clicking on New and entering Python’s install directory.\"\"\""
   ]
  },
  {
   "cell_type": "markdown",
   "id": "404da490-0723-4783-b635-027752f099f9",
   "metadata": {},
   "source": [
    "## Q16 Is indentation required in python?"
   ]
  },
  {
   "cell_type": "markdown",
   "id": "1f9561a7-aaeb-42d9-b1ad-0f8bee0275ad",
   "metadata": {},
   "source": [
    "### Ans Python uses indentation to indicate a block of code."
   ]
  }
 ],
 "metadata": {
  "kernelspec": {
   "display_name": "Python 3 (ipykernel)",
   "language": "python",
   "name": "python3"
  },
  "language_info": {
   "codemirror_mode": {
    "name": "ipython",
    "version": 3
   },
   "file_extension": ".py",
   "mimetype": "text/x-python",
   "name": "python",
   "nbconvert_exporter": "python",
   "pygments_lexer": "ipython3",
   "version": "3.10.8"
  }
 },
 "nbformat": 4,
 "nbformat_minor": 5
}
