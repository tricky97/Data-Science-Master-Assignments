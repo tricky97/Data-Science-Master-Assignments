{
  "nbformat": 4,
  "nbformat_minor": 0,
  "metadata": {
    "colab": {
      "provenance": []
    },
    "kernelspec": {
      "name": "python3",
      "display_name": "Python 3"
    },
    "language_info": {
      "name": "python"
    }
  },
  "cells": [
    {
      "cell_type": "code",
      "execution_count": 2,
      "metadata": {
        "id": "bwrpA6iFoXBY"
      },
      "outputs": [],
      "source": [
        "import numpy as np\n",
        "\n",
        "list_ = [ '1' , '2' , '3' , '4' , '5' ]\n",
        "\n",
        "array_list = np.array(object = list_)"
      ]
    },
    {
      "cell_type": "code",
      "source": [],
      "metadata": {
        "id": "DDdmkmdgoanl"
      },
      "execution_count": null,
      "outputs": []
    },
    {
      "cell_type": "markdown",
      "source": [
        "Q1. Is there any difference in the data type of variables list_ and array_list? If there is then write a code\n",
        "to print the data types of both the variables."
      ],
      "metadata": {
        "id": "OFJzT28rogPo"
      }
    },
    {
      "cell_type": "code",
      "source": [
        "type(list_)"
      ],
      "metadata": {
        "colab": {
          "base_uri": "https://localhost:8080/"
        },
        "id": "Svh4VawZog0l",
        "outputId": "c45c23a1-8ad1-4388-ba78-ca26fba6e0a9"
      },
      "execution_count": 3,
      "outputs": [
        {
          "output_type": "execute_result",
          "data": {
            "text/plain": [
              "list"
            ]
          },
          "metadata": {},
          "execution_count": 3
        }
      ]
    },
    {
      "cell_type": "markdown",
      "source": [
        "A list in Python is a collection of items which can contain elements of multiple data types, which may be either numeric, character logical values, etc. It is an ordered collection supporting negative indexing. A list can be created using [] containing data values."
      ],
      "metadata": {
        "id": "2WIvrRqXpFeB"
      }
    },
    {
      "cell_type": "code",
      "source": [
        "type(array_list)"
      ],
      "metadata": {
        "colab": {
          "base_uri": "https://localhost:8080/"
        },
        "id": "sPBL9d9Eotn2",
        "outputId": "ff99bffb-81a8-4d22-8902-dfcc775a8567"
      },
      "execution_count": 4,
      "outputs": [
        {
          "output_type": "execute_result",
          "data": {
            "text/plain": [
              "numpy.ndarray"
            ]
          },
          "metadata": {},
          "execution_count": 4
        }
      ]
    },
    {
      "cell_type": "markdown",
      "source": [
        "An array is a vector containing homogeneous elements i.e. belonging to the same data type. Elements are allocated with contiguous memory locations. Typically the size of an array is fixed. Insertion and Deletion costs high as compare to List however indexing is fast in the Arrays due to contiguous memory allocation."
      ],
      "metadata": {
        "id": "F_4lKqQHpL0d"
      }
    },
    {
      "cell_type": "code",
      "source": [],
      "metadata": {
        "id": "_wArshSxoxHo"
      },
      "execution_count": null,
      "outputs": []
    },
    {
      "cell_type": "markdown",
      "source": [
        "Q2. Write a code to print the data type of each and every element of both the variables list_ and\n",
        "arra_list."
      ],
      "metadata": {
        "id": "-P_Yi9lopTm1"
      }
    },
    {
      "cell_type": "code",
      "source": [
        "import numpy as np\n",
        "\n",
        "print(\"Data types of list_ elements:\")\n",
        "for element in list_:\n",
        "    print(type(element))\n",
        "\n",
        "    print(\"\\nData types of array_list elements:\")\n",
        "for element in array_list.flatten():\n",
        "    print(type(element))"
      ],
      "metadata": {
        "colab": {
          "base_uri": "https://localhost:8080/"
        },
        "id": "cDZ1NWGQpVFV",
        "outputId": "20d234ca-92bd-46ae-8b61-4b2eb91c9d21"
      },
      "execution_count": 5,
      "outputs": [
        {
          "output_type": "stream",
          "name": "stdout",
          "text": [
            "Data types of list_ elements:\n",
            "<class 'str'>\n",
            "\n",
            "Data types of array_list elements:\n",
            "<class 'str'>\n",
            "\n",
            "Data types of array_list elements:\n",
            "<class 'str'>\n",
            "\n",
            "Data types of array_list elements:\n",
            "<class 'str'>\n",
            "\n",
            "Data types of array_list elements:\n",
            "<class 'str'>\n",
            "\n",
            "Data types of array_list elements:\n",
            "<class 'numpy.str_'>\n",
            "<class 'numpy.str_'>\n",
            "<class 'numpy.str_'>\n",
            "<class 'numpy.str_'>\n",
            "<class 'numpy.str_'>\n"
          ]
        }
      ]
    },
    {
      "cell_type": "code",
      "source": [],
      "metadata": {
        "id": "ABhFvBjBp_kv"
      },
      "execution_count": null,
      "outputs": []
    },
    {
      "cell_type": "markdown",
      "source": [
        "Q3. Considering the following changes in the variable, array_list:\n",
        "\n",
        "array_list = np.array(object = list_, dtype = int)\n",
        "\n",
        "Will there be any difference in the data type of the elements present in both the variables, list_ and\n",
        "arra_list? If so then print the data types of each and every element present in both the variables, list_\n",
        "and arra_list."
      ],
      "metadata": {
        "id": "AgCqU6DMqYCp"
      }
    },
    {
      "cell_type": "markdown",
      "source": [
        "Yes, there will be a difference in the data types of the elements present in list_ and array_list after applying the given code. The np.array() function will create a new NumPy array array_list by converting the elements of the original list list_ into integers. This means that any non-integer elements in the original list will be converted into integers."
      ],
      "metadata": {
        "id": "XR6OaLkNqYMG"
      }
    },
    {
      "cell_type": "code",
      "source": [],
      "metadata": {
        "id": "qjvKTHo3qcK6"
      },
      "execution_count": null,
      "outputs": []
    },
    {
      "cell_type": "code",
      "source": [
        "import numpy as np\n",
        "\n",
        "num_list = [ [ 1 , 2 , 3 ] , [ 4 , 5 , 6 ] ]\n",
        "\n",
        "num_array = np.array(object = num_list)"
      ],
      "metadata": {
        "id": "ZCU3RXQ_qgVt"
      },
      "execution_count": 6,
      "outputs": []
    },
    {
      "cell_type": "code",
      "source": [],
      "metadata": {
        "id": "MMZjyLZRqmbE"
      },
      "execution_count": null,
      "outputs": []
    },
    {
      "cell_type": "markdown",
      "source": [
        "Q4. Write a code to find the following characteristics of variable, num_array:\n",
        "\n",
        "(i)\t shape\n",
        "\n",
        "(ii) size"
      ],
      "metadata": {
        "id": "VOYSwxwVq33F"
      }
    },
    {
      "cell_type": "code",
      "source": [
        "np.shape(num_array)"
      ],
      "metadata": {
        "colab": {
          "base_uri": "https://localhost:8080/"
        },
        "id": "FxyVTkKdq4ZF",
        "outputId": "d2e9aafc-13e5-44f9-9820-839c987f1bdc"
      },
      "execution_count": 11,
      "outputs": [
        {
          "output_type": "execute_result",
          "data": {
            "text/plain": [
              "(2, 3)"
            ]
          },
          "metadata": {},
          "execution_count": 11
        }
      ]
    },
    {
      "cell_type": "code",
      "source": [
        "np.size(num_array)"
      ],
      "metadata": {
        "colab": {
          "base_uri": "https://localhost:8080/"
        },
        "id": "f_xnfHpnq9bc",
        "outputId": "bb73ea31-0b77-4b5b-9d2c-bbefae16fe03"
      },
      "execution_count": 12,
      "outputs": [
        {
          "output_type": "execute_result",
          "data": {
            "text/plain": [
              "6"
            ]
          },
          "metadata": {},
          "execution_count": 12
        }
      ]
    },
    {
      "cell_type": "code",
      "source": [],
      "metadata": {
        "id": "wbzCDiCPrJij"
      },
      "execution_count": null,
      "outputs": []
    },
    {
      "cell_type": "markdown",
      "source": [
        "Q5. Write a code to create numpy array of 3*3 matrix containing zeros only, using a numpy array\n",
        "creation function.\n",
        "\n",
        "[Hint: The size of the array will be 9 and the shape will be (3,3).]"
      ],
      "metadata": {
        "id": "xVyeIBy8rRM1"
      }
    },
    {
      "cell_type": "code",
      "source": [
        "import numpy as np\n",
        "\n",
        "arrays=np.zeros((3,3))\n",
        "\n",
        "arrays"
      ],
      "metadata": {
        "colab": {
          "base_uri": "https://localhost:8080/"
        },
        "id": "vFGY89WrrR2N",
        "outputId": "27c4134e-599b-463c-cdf4-373179dad9fc"
      },
      "execution_count": 14,
      "outputs": [
        {
          "output_type": "execute_result",
          "data": {
            "text/plain": [
              "array([[0., 0., 0.],\n",
              "       [0., 0., 0.],\n",
              "       [0., 0., 0.]])"
            ]
          },
          "metadata": {},
          "execution_count": 14
        }
      ]
    },
    {
      "cell_type": "code",
      "source": [],
      "metadata": {
        "id": "Qq37T5YVse-U"
      },
      "execution_count": null,
      "outputs": []
    },
    {
      "cell_type": "markdown",
      "source": [
        "Q6. Create an identity matrix of shape (5,5) using numpy functions?\n",
        "\n",
        "[Hint: An identity matrix is a matrix containing 1 diagonally and other elements will be 0.]"
      ],
      "metadata": {
        "id": "10HE3gBotDF1"
      }
    },
    {
      "cell_type": "code",
      "source": [
        "import numpy as np\n",
        "\n",
        "iden_matrix=np.eye(5)"
      ],
      "metadata": {
        "id": "fE75LL6WtDrl"
      },
      "execution_count": 22,
      "outputs": []
    },
    {
      "cell_type": "code",
      "source": [
        "iden_matrix"
      ],
      "metadata": {
        "colab": {
          "base_uri": "https://localhost:8080/"
        },
        "id": "LieFEoketNPr",
        "outputId": "2e137ede-8d70-4fcb-e53b-3dd57d4390fd"
      },
      "execution_count": 23,
      "outputs": [
        {
          "output_type": "execute_result",
          "data": {
            "text/plain": [
              "array([[1., 0., 0., 0., 0.],\n",
              "       [0., 1., 0., 0., 0.],\n",
              "       [0., 0., 1., 0., 0.],\n",
              "       [0., 0., 0., 1., 0.],\n",
              "       [0., 0., 0., 0., 1.]])"
            ]
          },
          "metadata": {},
          "execution_count": 23
        }
      ]
    },
    {
      "cell_type": "code",
      "source": [],
      "metadata": {
        "id": "CxQsi5TatQ7b"
      },
      "execution_count": null,
      "outputs": []
    }
  ]
}