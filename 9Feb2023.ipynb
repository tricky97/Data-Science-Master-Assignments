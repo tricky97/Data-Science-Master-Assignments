{
  "nbformat": 4,
  "nbformat_minor": 0,
  "metadata": {
    "colab": {
      "provenance": []
    },
    "kernelspec": {
      "name": "python3",
      "display_name": "Python 3"
    },
    "language_info": {
      "name": "python"
    }
  },
  "cells": [
    {
      "cell_type": "markdown",
      "source": [
        "Q1, Create a vehicle class with an init method having instance variables as name_of_vehicle, max_speed \n",
        "and average_of_vehicle. \n"
      ],
      "metadata": {
        "id": "iNXkN1x66OYG"
      }
    },
    {
      "cell_type": "code",
      "source": [
        "class vehicle:\n",
        "\n",
        "  def __init__(self,name_of_vehicle, max_speed,average_of_vehicle):\n",
        "    self.name_of_vehicle=name_of_vehicle\n",
        "    self.max_speed=max_speed\n",
        "    self.average_of_vehicle=average_of_vehicle\n",
        "\n"
      ],
      "metadata": {
        "id": "MzcEvp8T6Sfc"
      },
      "execution_count": 1,
      "outputs": []
    },
    {
      "cell_type": "markdown",
      "source": [
        "Q2.  Create a child class car from the vehicle class created in Que 1, which will inherit the vehicle class. \n",
        "Create a method named seating_capacity which takes capacity as an argument and returns the name of \n",
        "the vehicle and its seating capacity."
      ],
      "metadata": {
        "id": "4RmtHHj07Ae1"
      }
    },
    {
      "cell_type": "code",
      "source": [
        "class car(vehicle):\n",
        "\n",
        "  def seating_capacity(self,capacity):\n",
        "    self.capacity=capacity\n",
        "    return \" Name of the vehicle : \",self.name_of_vehicle, \"Capacity of car : \",capacity\n",
        "\n",
        "  "
      ],
      "metadata": {
        "id": "ngrWcr-J7EcR"
      },
      "execution_count": 2,
      "outputs": []
    },
    {
      "cell_type": "markdown",
      "source": [
        "OUTPUT\n"
      ],
      "metadata": {
        "id": "xXkklvesJRBF"
      }
    },
    {
      "cell_type": "code",
      "source": [
        "obj_car=car(\"polo\",32,45)\n",
        "obj_car.seating_capacity(50)"
      ],
      "metadata": {
        "colab": {
          "base_uri": "https://localhost:8080/"
        },
        "id": "EYrRMUzPJWXf",
        "outputId": "a617e4ff-df4b-453d-dd89-3207a79216c9"
      },
      "execution_count": 3,
      "outputs": [
        {
          "output_type": "execute_result",
          "data": {
            "text/plain": [
              "(' Name of the vehicle : ', 'polo', 'Capacity of car : ', 50)"
            ]
          },
          "metadata": {},
          "execution_count": 3
        }
      ]
    },
    {
      "cell_type": "markdown",
      "source": [
        "Q3. What is multiple inheritance? Write a python code to demonstrate multiple inheritance."
      ],
      "metadata": {
        "id": "zkkk1OQVNKgk"
      }
    },
    {
      "cell_type": "markdown",
      "source": [
        "When a class is derived from more than one base class it is called multiple Inheritance. The derived class inherits all the features of the base case.\n",
        "\n",
        "Example:"
      ],
      "metadata": {
        "id": "hSDGTV0FNZ1b"
      }
    },
    {
      "cell_type": "code",
      "source": [
        "class Base1:\n",
        "  def baseClass1(self):\n",
        "      print(\"Hello I am from Base Class 1\")\n",
        "\n",
        "class Base2:\n",
        "  def baseClass2(self):\n",
        "      print(\"Hello I am from Base Class 2\")\n",
        "\n",
        "class Derived(Base1, Base2):\n",
        "  print(\"Hello I am from Derived Class\")\n",
        "\n",
        "\n",
        "drv_obj=Derived()\n",
        "drv_obj.baseClass1()\n",
        "drv_obj.baseClass2()\n"
      ],
      "metadata": {
        "colab": {
          "base_uri": "https://localhost:8080/"
        },
        "id": "gx3lf4HxNepU",
        "outputId": "2fff259f-f5f7-46ab-e754-ac1de3fdebf0"
      },
      "execution_count": 5,
      "outputs": [
        {
          "output_type": "stream",
          "name": "stdout",
          "text": [
            "Hello I am from Derived Class\n",
            "Hello I am from Base Class 1\n",
            "Hello I am from Base Class 2\n"
          ]
        }
      ]
    },
    {
      "cell_type": "markdown",
      "source": [
        "Q4. What are getter and setter in python? Create a class and create a getter and a setter method in this \n",
        "class."
      ],
      "metadata": {
        "id": "MrfKWXQUR4bC"
      }
    },
    {
      "cell_type": "markdown",
      "source": [
        "The main purpose of using getters and setters in object-oriented programs is to ensure data encapsulation.\n",
        "To avoid direct access of a class field i.e. private variables cannot be accessed directly or modified by external user.\n",
        "\n",
        "Example :"
      ],
      "metadata": {
        "id": "A3q9uSsNS_Wr"
      }
    },
    {
      "cell_type": "code",
      "source": [
        "class car:\n",
        "    \n",
        "    def __init__(self, year,make,model,speed):\n",
        "        self.__year=year\n",
        "        self.__make=make\n",
        "        self.__model=model\n",
        "        self.__speed=0\n",
        "        \n",
        "    def set_speed(self,speed):\n",
        "        self.__speed=0 if speed < 0 else speed\n",
        "        \n",
        "    def get_speed(self):\n",
        "        return self.__speed\n",
        "        "
      ],
      "metadata": {
        "id": "r9t-y_OkSZdq"
      },
      "execution_count": 6,
      "outputs": []
    },
    {
      "cell_type": "code",
      "source": [
        "obj_car=car(2021,\"toyota\",\"innova\",12)"
      ],
      "metadata": {
        "id": "1JfCjufCSkoa"
      },
      "execution_count": 7,
      "outputs": []
    },
    {
      "cell_type": "code",
      "source": [
        "obj_car.set_speed(50)"
      ],
      "metadata": {
        "id": "cg9r8U6hSli6"
      },
      "execution_count": 8,
      "outputs": []
    },
    {
      "cell_type": "code",
      "source": [
        "obj_car.get_speed()"
      ],
      "metadata": {
        "colab": {
          "base_uri": "https://localhost:8080/"
        },
        "id": "Z2MdHSUVSrZP",
        "outputId": "619b39b0-9fcf-4878-cfdd-c7098af0413c"
      },
      "execution_count": 9,
      "outputs": [
        {
          "output_type": "execute_result",
          "data": {
            "text/plain": [
              "50"
            ]
          },
          "metadata": {},
          "execution_count": 9
        }
      ]
    },
    {
      "cell_type": "markdown",
      "source": [
        "Q5.What is method overriding in python? Write a python code to demonstrate method overriding."
      ],
      "metadata": {
        "id": "sHPoXsA0TgPh"
      }
    },
    {
      "cell_type": "markdown",
      "source": [
        "Method overriding in Python is when you have two methods with the same name that each perform different tasks. This is an important feature of inheritance in Python. In method overriding, the child class can change its functions that are defined by its ancestral classes."
      ],
      "metadata": {
        "id": "unpvJMRNTsnC"
      }
    },
    {
      "cell_type": "code",
      "source": [
        "class Parent():\n",
        "      \n",
        "    # Constructor\n",
        "    def __init__(self):\n",
        "        self.value = \"Inside Parent\"\n",
        "          \n",
        "    # Parent's show method\n",
        "    def show(self):\n",
        "        print(self.value)\n",
        "          \n",
        "# Defining child class\n",
        "class Child(Parent):\n",
        "      \n",
        "    # Constructor\n",
        "    def __init__(self):\n",
        "        self.value = \"Inside Child\"\n",
        "          \n",
        "    # Child's show method\n",
        "    def show(self):\n",
        "        print(self.value)\n",
        "          \n",
        "          \n",
        "# Driver's code\n",
        "obj1 = Parent()\n",
        "obj2 = Child()\n",
        "  \n",
        "obj1.show()\n",
        "obj2.show()"
      ],
      "metadata": {
        "colab": {
          "base_uri": "https://localhost:8080/"
        },
        "id": "TUjXiNWATuvY",
        "outputId": "f3e0ae52-6fa5-4859-b257-266ddbc92b32"
      },
      "execution_count": 10,
      "outputs": [
        {
          "output_type": "stream",
          "name": "stdout",
          "text": [
            "Inside Parent\n",
            "Inside Child\n"
          ]
        }
      ]
    },
    {
      "cell_type": "code",
      "source": [],
      "metadata": {
        "id": "EnWhm5hdT2bi"
      },
      "execution_count": null,
      "outputs": []
    }
  ]
}